{
 "cells": [
  {
   "cell_type": "code",
   "execution_count": 5,
   "metadata": {},
   "outputs": [],
   "source": [
    "import scipy as sp\n",
    "import scipy.sparse as sps\n",
    "import numpy as np\n",
    "import torch\n",
    "import xitorch\n",
    "from xitorch import linalg\n",
    "from scipy.sparse import csr_matrix\n",
    "\n",
    "EJ = torch.tensor(10.00, requires_grad=False, dtype=torch.double)\n",
    "EL = torch.tensor(0.04, requires_grad=False, dtype=torch.double)\n",
    "ECs = torch.tensor(20, requires_grad=False, dtype=torch.double)\n",
    "EC = torch.tensor(0.04, requires_grad=False, dtype=torch.double)\n",
    "dEj = torch.tensor(0.0, requires_grad=False, dtype=torch.double)\n",
    "dCj = torch.tensor(0.0, requires_grad=False, dtype=torch.double)\n",
    "ECj =  torch.tensor(0.2, requires_grad=False, dtype=torch.double)\n",
    "flux = torch.tensor(0.5, requires_grad=False, dtype=torch.double)\n",
    "\n",
    "ng = 0.1\n",
    "phi_ext = 0.5\n",
    "varphi_ext =0.5\n",
    "\n",
    "Nphi = 100\n",
    "Ntheta = 100"
   ]
  },
  {
   "cell_type": "code",
   "execution_count": 6,
   "metadata": {},
   "outputs": [
    {
     "name": "stderr",
     "output_type": "stream",
     "text": [
      "/var/folders/8k/9jgfk1f10xd019kt_x6h66yc0000gn/T/ipykernel_43728/2030465895.py:16: UserWarning: To copy construct from a tensor, it is recommended to use sourceTensor.clone().detach() or sourceTensor.clone().detach().requires_grad_(True), rather than torch.tensor(sourceTensor).\n",
      "  _cos_phi = torch.kron(torch.tensor(cos_phi_m), torch.tensor(eye_Nphi) )\n",
      "/var/folders/8k/9jgfk1f10xd019kt_x6h66yc0000gn/T/ipykernel_43728/2030465895.py:17: UserWarning: To copy construct from a tensor, it is recommended to use sourceTensor.clone().detach() or sourceTensor.clone().detach().requires_grad_(True), rather than torch.tensor(sourceTensor).\n",
      "  _phi = torch.kron(torch.tensor(phi_m), torch.tensor(eye_Nphi) )\n",
      "/var/folders/8k/9jgfk1f10xd019kt_x6h66yc0000gn/T/ipykernel_43728/2030465895.py:18: UserWarning: To copy construct from a tensor, it is recommended to use sourceTensor.clone().detach() or sourceTensor.clone().detach().requires_grad_(True), rather than torch.tensor(sourceTensor).\n",
      "  _sin_phi_adj_m  = torch.kron(torch.tensor(sin_phi_adj_m), torch.tensor(eye_Nphi))\n",
      "/var/folders/8k/9jgfk1f10xd019kt_x6h66yc0000gn/T/ipykernel_43728/2030465895.py:25: UserWarning: To copy construct from a tensor, it is recommended to use sourceTensor.clone().detach() or sourceTensor.clone().detach().requires_grad_(True), rather than torch.tensor(sourceTensor).\n",
      "  _cos_theta_adj_m = torch.kron(torch.tensor(cos_theta_adj_m), torch.tensor(eye_Ntheta))\n",
      "/var/folders/8k/9jgfk1f10xd019kt_x6h66yc0000gn/T/ipykernel_43728/2030465895.py:26: UserWarning: To copy construct from a tensor, it is recommended to use sourceTensor.clone().detach() or sourceTensor.clone().detach().requires_grad_(True), rather than torch.tensor(sourceTensor).\n",
      "  _sin_theta_m = torch.kron(torch.tensor(sin_theta_m), torch.tensor(eye_Ntheta))\n",
      "/var/folders/8k/9jgfk1f10xd019kt_x6h66yc0000gn/T/ipykernel_43728/2030465895.py:28: UserWarning: To copy construct from a tensor, it is recommended to use sourceTensor.clone().detach() or sourceTensor.clone().detach().requires_grad_(True), rather than torch.tensor(sourceTensor).\n",
      "  I = torch.kron(torch.tensor(eye_Nphi), torch.tensor(eye_Ntheta))\n"
     ]
    }
   ],
   "source": [
    "eye_Nphi = torch.eye(Nphi)\n",
    "eye_Ntheta = torch.eye(Ntheta)\n",
    "\n",
    "partial_phi_fd = torch.kron(eye_Ntheta, torch.tensor(sps.diags([-1, 1, 1], [0, 1, -Nphi+1], shape=(Nphi, Nphi)).todense()))\n",
    "partial_phi_bk = torch.kron(eye_Ntheta, torch.tensor(sps.diags([1, -1, -1], [0, -1, Nphi-1], shape=(Nphi, Nphi)).todense()))\n",
    "partial_theta_fd = torch.kron(eye_Nphi, torch.tensor(sps.diags([-1, 1, 1], [0, 1, -Ntheta+1], shape=(Ntheta, Ntheta)).todense()))\n",
    "partial_theta_bk =torch.kron(eye_Nphi, torch.tensor(sps.diags([1, -1, -1], [0, -1, Ntheta-1], shape=(Ntheta, Ntheta)).todense()))\n",
    "\n",
    "\n",
    "phi = np.linspace(0, 2 * np.pi, Nphi)\n",
    "cos_phi = np.cos(phi)\n",
    "cos_phi_m = np.diag(cos_phi)\n",
    "sin_phi_adj = np.sin(phi-phi_ext/2)\n",
    "sin_phi_adj_m = np.diag(sin_phi_adj)\n",
    "phi_m = np.diag(phi)\n",
    "_cos_phi = torch.kron(torch.tensor(cos_phi_m), torch.tensor(eye_Nphi) )\n",
    "_phi = torch.kron(torch.tensor(phi_m), torch.tensor(eye_Nphi) )\n",
    "_sin_phi_adj_m  = torch.kron(torch.tensor(sin_phi_adj_m), torch.tensor(eye_Nphi))\n",
    "\n",
    "theta = np.linspace(0, 2 * np.pi, Ntheta)\n",
    "cos_theta_adj = np.cos(theta-varphi_ext/2)\n",
    "sin_theta = np.sin(theta)\n",
    "cos_theta_adj_m = np.diag(cos_theta_adj)\n",
    "sin_theta_m = np.diag(sin_theta)\n",
    "_cos_theta_adj_m = torch.kron(torch.tensor(cos_theta_adj_m), torch.tensor(eye_Ntheta))\n",
    "_sin_theta_m = torch.kron(torch.tensor(sin_theta_m), torch.tensor(eye_Ntheta))\n",
    "\n",
    "I = torch.kron(torch.tensor(eye_Nphi), torch.tensor(eye_Ntheta))\n",
    "\n",
    "Ham = -2 * ECj * (partial_phi_fd * partial_phi_bk) \\\n",
    "    + 2 * ECs * (-1* partial_theta_fd**2 +ng**2*I-2*ng*partial_theta_fd)\\\n",
    "    + 2 * ECs * dCj * partial_phi_fd * partial_theta_fd \\\n",
    "    - 2 * EJ * _cos_phi * _cos_theta_adj_m \\\n",
    "    + EL * _phi ** 2 \\\n",
    "    + 2 * EJ * I  \\\n",
    "    + EJ * dEj * _sin_theta_m * _sin_phi_adj_m\n",
    "\n",
    "H = Ham + torch.transpose(Ham, 1,0 )"
   ]
  },
  {
   "cell_type": "code",
   "execution_count": 7,
   "metadata": {},
   "outputs": [],
   "source": [
    "H_numpy = H.numpy()\n",
    "H_sparse = H.to_sparse()\n",
    "\n",
    "def pytorch_sparse_to_numpy(tensor):\n",
    "    # Ensure the tensor is sparse\n",
    "    assert tensor.is_sparse, \"Input should be a sparse tensor\"\n",
    "\n",
    "    # Get the tensor attributes\n",
    "    indices = tensor._indices().numpy()\n",
    "    values = tensor._values().numpy()\n",
    "    size = tensor.size()\n",
    "\n",
    "    # Construct the corresponding SciPy sparse matrix\n",
    "    return csr_matrix((values, indices), shape=size)\n",
    "\n",
    "H_sparse_numpy = pytorch_sparse_to_numpy(H_sparse)"
   ]
  },
  {
   "cell_type": "code",
   "execution_count": 8,
   "metadata": {},
   "outputs": [
    {
     "data": {
      "text/plain": [
       "torch.return_types.linalg_eigh(\n",
       "eigenvalues=tensor([-157.7768, -157.6267, -157.6045,  ...,   75.8858,   76.0343,\n",
       "          76.0752], dtype=torch.float64),\n",
       "eigenvectors=tensor([[0., 0., 0.,  ..., 0., 0., 0.],\n",
       "        [0., 0., 0.,  ..., 0., 0., 0.],\n",
       "        [0., 0., 0.,  ..., 0., 0., 0.],\n",
       "        ...,\n",
       "        [0., 0., 0.,  ..., 0., 0., 0.],\n",
       "        [0., 0., 0.,  ..., 0., 0., 0.],\n",
       "        [0., 0., 0.,  ..., 0., 0., 0.]], dtype=torch.float64))"
      ]
     },
     "execution_count": 8,
     "metadata": {},
     "output_type": "execute_result"
    }
   ],
   "source": [
    "#Full Spectrum Torch Dense\n",
    "torch.linalg.eigh(H)"
   ]
  },
  {
   "cell_type": "code",
   "execution_count": 9,
   "metadata": {},
   "outputs": [
    {
     "data": {
      "text/plain": [
       "(tensor([76.0752, 76.0343], dtype=torch.float64),\n",
       " tensor([[-2.9532e-10, -1.9814e-10],\n",
       "         [ 1.3182e-10,  2.0183e-11],\n",
       "         [ 6.6980e-11, -2.7514e-10],\n",
       "         ...,\n",
       "         [-1.3886e-10,  1.1643e-10],\n",
       "         [ 1.1206e-10,  5.7102e-11],\n",
       "         [ 1.4057e-10, -2.5763e-10]], dtype=torch.float64))"
      ]
     },
     "execution_count": 9,
     "metadata": {},
     "output_type": "execute_result"
    }
   ],
   "source": [
    "#Partial Spectrum Torch Dense\n",
    "torch.lobpcg(H, 2)"
   ]
  },
  {
   "cell_type": "code",
   "execution_count": 10,
   "metadata": {},
   "outputs": [
    {
     "data": {
      "text/plain": [
       "(tensor([76.0752, 76.0343], dtype=torch.float64),\n",
       " tensor([[ 5.4486e-12, -2.7999e-10],\n",
       "         [ 2.2276e-10, -7.7828e-11],\n",
       "         [-3.1334e-11, -2.5219e-10],\n",
       "         ...,\n",
       "         [ 1.0696e-10,  6.4739e-11],\n",
       "         [-1.9427e-10,  2.1133e-11],\n",
       "         [ 1.9909e-11,  1.3727e-10]], dtype=torch.float64))"
      ]
     },
     "execution_count": 10,
     "metadata": {},
     "output_type": "execute_result"
    }
   ],
   "source": [
    "#Partial Spectrum Torch Sparse\n",
    "torch.lobpcg(H_sparse, 2)"
   ]
  },
  {
   "cell_type": "code",
   "execution_count": 11,
   "metadata": {},
   "outputs": [
    {
     "data": {
      "text/plain": [
       "(array([-157.77681003, -157.6266625 , -157.604508  , ...,   75.88580993,\n",
       "          76.03425181,   76.075244  ]),\n",
       " array([[0., 0., 0., ..., 0., 0., 0.],\n",
       "        [0., 0., 0., ..., 0., 0., 0.],\n",
       "        [0., 0., 0., ..., 0., 0., 0.],\n",
       "        ...,\n",
       "        [0., 0., 0., ..., 0., 0., 0.],\n",
       "        [0., 0., 0., ..., 0., 0., 0.],\n",
       "        [0., 0., 0., ..., 0., 0., 0.]]))"
      ]
     },
     "execution_count": 11,
     "metadata": {},
     "output_type": "execute_result"
    }
   ],
   "source": [
    "#Full Spectrum Scipy Dense\n",
    "sp.linalg.eigh(H_numpy)"
   ]
  },
  {
   "cell_type": "code",
   "execution_count": 12,
   "metadata": {},
   "outputs": [
    {
     "data": {
      "text/plain": [
       "(array([-157.77681003, -157.6266625 ]),\n",
       " array([[ 1.03272517e-14, -4.92027684e-15],\n",
       "        [ 1.00787400e-14, -4.35710706e-15],\n",
       "        [ 9.81354312e-15, -3.82884838e-15],\n",
       "        ...,\n",
       "        [-3.93826972e-16,  6.28450985e-16],\n",
       "        [-3.75799504e-16,  6.03405807e-16],\n",
       "        [-3.41428055e-16,  5.49086119e-16]]))"
      ]
     },
     "execution_count": 12,
     "metadata": {},
     "output_type": "execute_result"
    }
   ],
   "source": [
    "#Partial Spectrum Scipy Dense - scipy sparse\n",
    "sps.linalg.eigsh(H_numpy,2)\n"
   ]
  },
  {
   "cell_type": "code",
   "execution_count": 13,
   "metadata": {},
   "outputs": [
    {
     "data": {
      "text/plain": [
       "(array([-157.77681003, -157.6266625 ]),\n",
       " array([[ 2.55792070e-15, -3.34409652e-15],\n",
       "        [ 2.53985619e-15, -3.64202686e-15],\n",
       "        [ 2.49580196e-15, -3.94268261e-15],\n",
       "        ...,\n",
       "        [-7.00167786e-17,  1.91134554e-16],\n",
       "        [-1.20290108e-16,  2.69439318e-16],\n",
       "        [-1.64388207e-16,  3.41727118e-16]]))"
      ]
     },
     "execution_count": 13,
     "metadata": {},
     "output_type": "execute_result"
    }
   ],
   "source": [
    "#Partial Spectrum Scipy Sparse - scipy sparse\n",
    "sps.linalg.eigsh(H_sparse_numpy,2)\n"
   ]
  },
  {
   "cell_type": "code",
   "execution_count": 14,
   "metadata": {},
   "outputs": [
    {
     "data": {
      "text/plain": [
       "[]"
      ]
     },
     "execution_count": 14,
     "metadata": {},
     "output_type": "execute_result"
    }
   ],
   "source": [
    "A = xitorch.LinearOperator.m(H)\n",
    "xitorch.LinearOperator._getparamnames(A, \"EJ, EJ\")"
   ]
  },
  {
   "cell_type": "code",
   "execution_count": 15,
   "metadata": {},
   "outputs": [],
   "source": [
    "#Partial Spectrum xitorch Exact\n",
    "val, vec = xitorch.linalg.symeig(A, 2, method=\"exacteig\")"
   ]
  },
  {
   "cell_type": "code",
   "execution_count": 16,
   "metadata": {},
   "outputs": [],
   "source": [
    "#Partial Spectrum  xitorch Davidson\n",
    "val, vec = xitorch.linalg.symeig(A, 2, method=\"davidson\", max_niter=100, nguess=None, v_init=\"randn\", max_addition=None, min_eps=1e-06, verbose=False)"
   ]
  },
  {
   "cell_type": "code",
   "execution_count": 17,
   "metadata": {},
   "outputs": [],
   "source": [
    "#Partial Spectrum  xitorch Davidson (1000 interations)\n",
    "val, vec = xitorch.linalg.symeig(A, 2, method=\"davidson\", max_niter=1000, nguess=None, v_init=\"randn\", max_addition=None, min_eps=1e-06, verbose=False)"
   ]
  },
  {
   "cell_type": "code",
   "execution_count": 18,
   "metadata": {},
   "outputs": [],
   "source": [
    "#Full Spectrum Jax Dense\n",
    "\n",
    "#Partial Spectrum Jax Dense (lobpcg)\n",
    "\n",
    "#Partial Spectrum Jax Sparse (dont know if this works)\n",
    "\n",
    "#autograd eigensolve time\n",
    "\n",
    "\n",
    "\n",
    "##### gradient computation times #######\n",
    "\n",
    "#xitorch davidon (100 iterations) eigensolve with gradient time\n",
    "\n",
    "#xitorch davidon (1000 iterations) eigensolve with gradient time\n",
    "\n",
    "#quantum paper apraoch (if can figure out)\n",
    "\n",
    "#autograd with wrapper (based off legume code)\n",
    "\n",
    "#jax with wrapper (based off Jacks utils code)"
   ]
  }
 ],
 "metadata": {
  "kernelspec": {
   "display_name": "venv",
   "language": "python",
   "name": "python3"
  },
  "language_info": {
   "codemirror_mode": {
    "name": "ipython",
    "version": 3
   },
   "file_extension": ".py",
   "mimetype": "text/x-python",
   "name": "python",
   "nbconvert_exporter": "python",
   "pygments_lexer": "ipython3",
   "version": "3.8.6"
  },
  "orig_nbformat": 4
 },
 "nbformat": 4,
 "nbformat_minor": 2
}
