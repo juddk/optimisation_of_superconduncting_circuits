{
 "cells": [
  {
   "cell_type": "code",
   "execution_count": 1,
   "metadata": {},
   "outputs": [],
   "source": [
    "import torch\n",
    "import numpy as np\n",
    "import scipy as sp\n",
    "import sys\n",
    "sys.path.append('/Users/judd/Documents/optimisation_of_superconduncting_circuits/core')\n",
    "from zeropi import ZeroPi\n",
    "import general as general\n",
    "import scqubits as sc\n"
   ]
  },
  {
   "cell_type": "code",
   "execution_count": 15,
   "metadata": {},
   "outputs": [
    {
     "name": "stdout",
     "output_type": "stream",
     "text": [
      "tensor(10., dtype=torch.float64, requires_grad=True)\n",
      "tensor(0.5000, dtype=torch.float64, requires_grad=True)\n"
     ]
    },
    {
     "ename": "TypeError",
     "evalue": "transpose() received an invalid combination of arguments - got (), but expected one of:\n * (int dim0, int dim1)\n * (name dim0, name dim1)\n",
     "output_type": "error",
     "traceback": [
      "\u001b[0;31m---------------------------------------------------------------------------\u001b[0m",
      "\u001b[0;31mTypeError\u001b[0m                                 Traceback (most recent call last)",
      "Cell \u001b[0;32mIn[15], line 22\u001b[0m\n\u001b[1;32m     16\u001b[0m hamiltonian_creation \u001b[39m=\u001b[39m \u001b[39m'\u001b[39m\u001b[39mauto_H\u001b[39m\u001b[39m'\u001b[39m\n\u001b[1;32m     20\u001b[0m zeropi \u001b[39m=\u001b[39m ZeroPi(EJ\u001b[39m=\u001b[39mEJ, EL\u001b[39m=\u001b[39mEL, ECJ\u001b[39m=\u001b[39mECJ, EC\u001b[39m=\u001b[39mEC, dEJ\u001b[39m=\u001b[39mdEJ, dCJ\u001b[39m=\u001b[39mdCJ, ng\u001b[39m=\u001b[39mng, flux\u001b[39m=\u001b[39mflux, ncut\u001b[39m=\u001b[39mncut, truncated_dim\u001b[39m=\u001b[39mtruncated_dim, pt_count\u001b[39m=\u001b[39mpt_count, min_val\u001b[39m=\u001b[39mmin_val, max_val\u001b[39m=\u001b[39mmax_val, hamiltonian_creation\u001b[39m=\u001b[39mhamiltonian_creation)\n\u001b[0;32m---> 22\u001b[0m general\u001b[39m.\u001b[39;49meffective_t1_rate(zeropi , \u001b[39m\"\u001b[39;49m\u001b[39mt1_inductive\u001b[39;49m\u001b[39m\"\u001b[39;49m)\n\u001b[1;32m     23\u001b[0m general\u001b[39m.\u001b[39meffective_tphi_rate(zeropi , zeropi\u001b[39m.\u001b[39mtphi_supported_noise_channels())\n\u001b[1;32m     24\u001b[0m general\u001b[39m.\u001b[39mt2(zeropi , zeropi\u001b[39m.\u001b[39mt1_supported_noise_channels(), zeropi\u001b[39m.\u001b[39mtphi_supported_noise_channels())\n",
      "File \u001b[0;32m~/Documents/optimisation_of_superconduncting_circuits/core/general.py:108\u001b[0m, in \u001b[0;36meffective_t1_rate\u001b[0;34m(qubit, noise_channels, T, M, R_0, R_k)\u001b[0m\n\u001b[1;32m     98\u001b[0m \u001b[39mdef\u001b[39;00m \u001b[39meffective_t1_rate\u001b[39m(\n\u001b[1;32m     99\u001b[0m \n\u001b[1;32m    100\u001b[0m           qubit, \n\u001b[0;32m   (...)\u001b[0m\n\u001b[1;32m    105\u001b[0m           R_k: \u001b[39mfloat\u001b[39m \u001b[39m=\u001b[39m NOISE_PARAMS[\u001b[39m'\u001b[39m\u001b[39mR_k\u001b[39m\u001b[39m'\u001b[39m]\n\u001b[1;32m    106\u001b[0m           ):\n\u001b[0;32m--> 108\u001b[0m     eigvals,eigvecs \u001b[39m=\u001b[39m qubit\u001b[39m.\u001b[39;49mesys()\n\u001b[1;32m    110\u001b[0m     t1_rate \u001b[39m=\u001b[39m torch\u001b[39m.\u001b[39mzeros([\u001b[39m1\u001b[39m,\u001b[39m1\u001b[39m],dtype\u001b[39m=\u001b[39mtorch\u001b[39m.\u001b[39mdouble)\n\u001b[1;32m    112\u001b[0m     \u001b[39mif\u001b[39;00m \u001b[39m\"\u001b[39m\u001b[39mt1_capacitive\u001b[39m\u001b[39m\"\u001b[39m \u001b[39min\u001b[39;00m noise_channels:\n",
      "File \u001b[0;32m~/Documents/optimisation_of_superconduncting_circuits/core/zeropi.py:105\u001b[0m, in \u001b[0;36mZeroPi.esys\u001b[0;34m(self)\u001b[0m\n\u001b[1;32m    103\u001b[0m     eigvals,eigvecs \u001b[39m=\u001b[39m torch\u001b[39m.\u001b[39mlinalg\u001b[39m.\u001b[39meigh(\u001b[39mself\u001b[39m\u001b[39m.\u001b[39mcreate_H())\n\u001b[1;32m    104\u001b[0m \u001b[39melif\u001b[39;00m \u001b[39mself\u001b[39m\u001b[39m.\u001b[39mhamiltonian_creation \u001b[39m==\u001b[39m \u001b[39m'\u001b[39m\u001b[39mauto_H\u001b[39m\u001b[39m'\u001b[39m:\n\u001b[0;32m--> 105\u001b[0m     eigvals,eigvecs \u001b[39m=\u001b[39m torch\u001b[39m.\u001b[39mlinalg\u001b[39m.\u001b[39meigh(\u001b[39mself\u001b[39;49m\u001b[39m.\u001b[39;49mauto_H())\n\u001b[1;32m    106\u001b[0m \u001b[39mreturn\u001b[39;00m eigvals,eigvecs\n",
      "File \u001b[0;32m~/Documents/optimisation_of_superconduncting_circuits/core/zeropi.py:98\u001b[0m, in \u001b[0;36mZeroPi.auto_H\u001b[0;34m(self)\u001b[0m\n\u001b[1;32m     85\u001b[0m \u001b[39mprint\u001b[39m(\u001b[39mself\u001b[39m\u001b[39m.\u001b[39mflux)\n\u001b[1;32m     86\u001b[0m create_qubit \u001b[39m=\u001b[39m sc\u001b[39m.\u001b[39mZeroPi(\n\u001b[1;32m     87\u001b[0m     grid \u001b[39m=\u001b[39m sc\u001b[39m.\u001b[39mGrid1d(min_val\u001b[39m=\u001b[39m \u001b[39mself\u001b[39m\u001b[39m.\u001b[39mmin_val, max_val\u001b[39m=\u001b[39m\u001b[39mself\u001b[39m\u001b[39m.\u001b[39mmax_val, pt_count\u001b[39m=\u001b[39m\u001b[39mself\u001b[39m\u001b[39m.\u001b[39mpt_count),\n\u001b[1;32m     88\u001b[0m     EJ   \u001b[39m=\u001b[39m \u001b[39mself\u001b[39m\u001b[39m.\u001b[39mEJ\u001b[39m.\u001b[39mitem(),\n\u001b[0;32m   (...)\u001b[0m\n\u001b[1;32m     96\u001b[0m     dCJ \u001b[39m=\u001b[39m \u001b[39mself\u001b[39m\u001b[39m.\u001b[39mdCJ,\n\u001b[1;32m     97\u001b[0m )\n\u001b[0;32m---> 98\u001b[0m \u001b[39mprint\u001b[39m(create_qubit\u001b[39m.\u001b[39;49mhamiltonian())\n\u001b[1;32m     99\u001b[0m \u001b[39mreturn\u001b[39;00m torch\u001b[39m.\u001b[39mfrom_numpy(create_qubit\u001b[39m.\u001b[39mhamiltonian()\u001b[39m.\u001b[39mtoarray())\n",
      "File \u001b[0;32m~/Documents/optimisation_of_superconduncting_circuits/venv/lib/python3.8/site-packages/scqubits/core/zeropi.py:394\u001b[0m, in \u001b[0;36mZeroPi.hamiltonian\u001b[0;34m(self, energy_esys)\u001b[0m\n\u001b[1;32m    370\u001b[0m \u001b[39mdef\u001b[39;00m \u001b[39mhamiltonian\u001b[39m(\n\u001b[1;32m    371\u001b[0m     \u001b[39mself\u001b[39m, energy_esys: Union[\u001b[39mbool\u001b[39m, Tuple[ndarray, ndarray]] \u001b[39m=\u001b[39m \u001b[39mFalse\u001b[39;00m\n\u001b[1;32m    372\u001b[0m ) \u001b[39m-\u001b[39m\u001b[39m>\u001b[39m csc_matrix:\n\u001b[1;32m    373\u001b[0m \u001b[39m    \u001b[39m\u001b[39mr\u001b[39m\u001b[39m\"\"\"\u001b[39;00m\n\u001b[1;32m    374\u001b[0m \u001b[39m    Calculates Hamiltonian in basis obtained by discretizing :math:`\\phi` and employing\u001b[39;00m\n\u001b[1;32m    375\u001b[0m \u001b[39m    charge basis for :math:`\\theta` or in the eigenenergy basis. Returns matrix representing\u001b[39;00m\n\u001b[0;32m   (...)\u001b[0m\n\u001b[1;32m    392\u001b[0m \u001b[39m        for m given eigenvectors.\u001b[39;00m\n\u001b[1;32m    393\u001b[0m \u001b[39m    \"\"\"\u001b[39;00m\n\u001b[0;32m--> 394\u001b[0m     hamiltonian_mat \u001b[39m=\u001b[39m \u001b[39mself\u001b[39;49m\u001b[39m.\u001b[39;49msparse_kinetic_mat() \u001b[39m+\u001b[39m \u001b[39mself\u001b[39m\u001b[39m.\u001b[39msparse_potential_mat()\n\u001b[1;32m    395\u001b[0m     \u001b[39mreturn\u001b[39;00m \u001b[39mself\u001b[39m\u001b[39m.\u001b[39mprocess_hamiltonian(\n\u001b[1;32m    396\u001b[0m         native_hamiltonian\u001b[39m=\u001b[39mhamiltonian_mat, energy_esys\u001b[39m=\u001b[39menergy_esys\n\u001b[1;32m    397\u001b[0m     )\n",
      "File \u001b[0;32m~/Documents/optimisation_of_superconduncting_circuits/venv/lib/python3.8/site-packages/scqubits/core/zeropi.py:309\u001b[0m, in \u001b[0;36mZeroPi.sparse_kinetic_mat\u001b[0;34m(self)\u001b[0m\n\u001b[1;32m    304\u001b[0m kinetic_matrix \u001b[39m=\u001b[39m sparse\u001b[39m.\u001b[39mkron(\n\u001b[1;32m    305\u001b[0m     kinetic_matrix_phi, identity_theta, \u001b[39mformat\u001b[39m\u001b[39m=\u001b[39m\u001b[39m\"\u001b[39m\u001b[39mcsc\u001b[39m\u001b[39m\"\u001b[39m\n\u001b[1;32m    306\u001b[0m ) \u001b[39m+\u001b[39m sparse\u001b[39m.\u001b[39mkron(identity_phi, kinetic_matrix_theta, \u001b[39mformat\u001b[39m\u001b[39m=\u001b[39m\u001b[39m\"\u001b[39m\u001b[39mcsc\u001b[39m\u001b[39m\"\u001b[39m)\n\u001b[1;32m    307\u001b[0m \u001b[39mif\u001b[39;00m \u001b[39mself\u001b[39m\u001b[39m.\u001b[39mdCJ \u001b[39m!=\u001b[39m \u001b[39m0\u001b[39m:\n\u001b[1;32m    308\u001b[0m     kinetic_matrix \u001b[39m-\u001b[39m\u001b[39m=\u001b[39m (\n\u001b[0;32m--> 309\u001b[0m         \u001b[39m2.0\u001b[39;49m\n\u001b[1;32m    310\u001b[0m         \u001b[39m*\u001b[39;49m \u001b[39mself\u001b[39;49m\u001b[39m.\u001b[39;49mECS\n\u001b[1;32m    311\u001b[0m         \u001b[39m*\u001b[39;49m \u001b[39mself\u001b[39;49m\u001b[39m.\u001b[39;49mdCJ\n\u001b[1;32m    312\u001b[0m         \u001b[39m*\u001b[39;49m \u001b[39mself\u001b[39;49m\u001b[39m.\u001b[39;49mi_d_dphi_operator()\n\u001b[1;32m    313\u001b[0m         \u001b[39m*\u001b[39m \u001b[39mself\u001b[39m\u001b[39m.\u001b[39mn_theta_operator()\n\u001b[1;32m    314\u001b[0m     )\n\u001b[1;32m    316\u001b[0m \u001b[39mreturn\u001b[39;00m kinetic_matrix\n",
      "File \u001b[0;32m~/Documents/optimisation_of_superconduncting_circuits/venv/lib/python3.8/site-packages/scipy/sparse/base.py:547\u001b[0m, in \u001b[0;36mspmatrix.__rmul__\u001b[0;34m(self, other)\u001b[0m\n\u001b[1;32m    544\u001b[0m \u001b[39melse\u001b[39;00m:\n\u001b[1;32m    545\u001b[0m     \u001b[39m# Don't use asarray unless we have to\u001b[39;00m\n\u001b[1;32m    546\u001b[0m     \u001b[39mtry\u001b[39;00m:\n\u001b[0;32m--> 547\u001b[0m         tr \u001b[39m=\u001b[39m other\u001b[39m.\u001b[39;49mtranspose()\n\u001b[1;32m    548\u001b[0m     \u001b[39mexcept\u001b[39;00m \u001b[39mAttributeError\u001b[39;00m:\n\u001b[1;32m    549\u001b[0m         tr \u001b[39m=\u001b[39m np\u001b[39m.\u001b[39masarray(other)\u001b[39m.\u001b[39mtranspose()\n",
      "\u001b[0;31mTypeError\u001b[0m: transpose() received an invalid combination of arguments - got (), but expected one of:\n * (int dim0, int dim1)\n * (name dim0, name dim1)\n"
     ]
    }
   ],
   "source": [
    "#Computing T2\n",
    "EJ = torch.tensor(10.00, requires_grad=True, dtype=torch.double)\n",
    "EL = torch.tensor(10.00, requires_grad=True, dtype=torch.double)\n",
    "ECJ = torch.tensor(0.5, requires_grad=True, dtype=torch.double)\n",
    "EC = torch.tensor(2.5, requires_grad=True, dtype=torch.double)\n",
    "dEJ = torch.tensor(2.5, requires_grad=True, dtype=torch.double)\n",
    "dCJ = torch.tensor(2.5, requires_grad=True, dtype=torch.double)\n",
    "flux = torch.tensor(0.5, requires_grad=True, dtype=torch.double)\n",
    "\n",
    "ng = 0.1\n",
    "ncut = 30\n",
    "truncated_dim = 10\n",
    "pt_count = 10\n",
    "min_val = -6*np.pi\n",
    "max_val = 6*np.pi\n",
    "hamiltonian_creation = 'auto_H'\n",
    "\n",
    "\n",
    "\n",
    "zeropi = ZeroPi(EJ=EJ, EL=EL, ECJ=ECJ, EC=EC, dEJ=dEJ, dCJ=dCJ, ng=ng, flux=flux, ncut=ncut, truncated_dim=truncated_dim, pt_count=pt_count, min_val=min_val, max_val=max_val, hamiltonian_creation=hamiltonian_creation)\n",
    "\n",
    "general.effective_t1_rate(zeropi , \"t1_inductive\")\n",
    "general.effective_tphi_rate(zeropi , zeropi.tphi_supported_noise_channels())\n",
    "general.t2(zeropi , zeropi.t1_supported_noise_channels(), zeropi.tphi_supported_noise_channels())\n"
   ]
  },
  {
   "cell_type": "code",
   "execution_count": 16,
   "metadata": {},
   "outputs": [
    {
     "name": "stderr",
     "output_type": "stream",
     "text": [
      "UserWarning: By default all methods that involve calculations of the t1 coherence times/rates, return a sum of upward (i.e., excitation), and downward (i.e., relaxation) rates. To change this behavior, parameter total=False can be passed to any t1-related coherence methods. With total=False, only a one-directional transition between levels i and j is used to calculate the required t1 time or rate.\n",
      "See documentation for details.\n",
      "This warning can be disabled by executing:\n",
      "scqubits.settings.T1_DEFAULT_WARNING=False\n",
      "\n",
      " /Users/judd/Documents/optimisation_of_superconduncting_circuits/venv/lib/python3.8/site-packages/scqubits/core/noise.py: 1195"
     ]
    },
    {
     "ename": "TypeError",
     "evalue": "transpose() received an invalid combination of arguments - got (), but expected one of:\n * (int dim0, int dim1)\n * (name dim0, name dim1)\n",
     "output_type": "error",
     "traceback": [
      "\u001b[0;31m---------------------------------------------------------------------------\u001b[0m",
      "\u001b[0;31mTypeError\u001b[0m                                 Traceback (most recent call last)",
      "Cell \u001b[0;32mIn[16], line 14\u001b[0m\n\u001b[1;32m      1\u001b[0m \u001b[39m#compare my pytorch computations to scqubits\u001b[39;00m\n\u001b[1;32m      2\u001b[0m zeropi_sc \u001b[39m=\u001b[39m sc\u001b[39m.\u001b[39mZeroPi(\n\u001b[1;32m      3\u001b[0m             grid \u001b[39m=\u001b[39m sc\u001b[39m.\u001b[39mGrid1d(min_val\u001b[39m=\u001b[39mmin_val, max_val\u001b[39m=\u001b[39mmax_val, pt_count\u001b[39m=\u001b[39mpt_count),\n\u001b[1;32m      4\u001b[0m             EJ   \u001b[39m=\u001b[39m EJ\u001b[39m.\u001b[39mitem(),\n\u001b[0;32m   (...)\u001b[0m\n\u001b[1;32m     11\u001b[0m             dEJ \u001b[39m=\u001b[39m dEJ, \n\u001b[1;32m     12\u001b[0m             dCJ \u001b[39m=\u001b[39m dCJ)\n\u001b[0;32m---> 14\u001b[0m \u001b[39mprint\u001b[39m(zeropi_sc\u001b[39m.\u001b[39;49mt1_inductive() \u001b[39m-\u001b[39m \u001b[39m1\u001b[39m\u001b[39m/\u001b[39mgeneral\u001b[39m.\u001b[39meffective_t1_rate(zeropi , \u001b[39m\"\u001b[39m\u001b[39mt1_inductive\u001b[39m\u001b[39m\"\u001b[39m)\u001b[39m.\u001b[39mitem())\n\u001b[1;32m     15\u001b[0m \u001b[39mprint\u001b[39m(zeropi_sc\u001b[39m.\u001b[39mt1_flux_bias_line() \u001b[39m-\u001b[39m \u001b[39m1\u001b[39m\u001b[39m/\u001b[39mgeneral\u001b[39m.\u001b[39meffective_t1_rate(zeropi , \u001b[39m\"\u001b[39m\u001b[39mt1_flux_bias_line\u001b[39m\u001b[39m\"\u001b[39m)\u001b[39m.\u001b[39mitem())\n\u001b[1;32m     16\u001b[0m \u001b[39mprint\u001b[39m(zeropi_sc\u001b[39m.\u001b[39mtphi_1_over_f_cc() \u001b[39m-\u001b[39m \u001b[39m1\u001b[39m\u001b[39m/\u001b[39mgeneral\u001b[39m.\u001b[39meffective_tphi_rate(zeropi , \u001b[39m\"\u001b[39m\u001b[39mtphi_1_over_f_cc\u001b[39m\u001b[39m\"\u001b[39m)\u001b[39m.\u001b[39mitem())\n",
      "File \u001b[0;32m~/Documents/optimisation_of_superconduncting_circuits/venv/lib/python3.8/site-packages/scqubits/core/noise.py:1568\u001b[0m, in \u001b[0;36mNoisySystem.t1_inductive\u001b[0;34m(self, i, j, Q_ind, T, total, esys, get_rate)\u001b[0m\n\u001b[1;32m   1564\u001b[0m     \u001b[39mreturn\u001b[39;00m s\n\u001b[1;32m   1566\u001b[0m noise_op \u001b[39m=\u001b[39m \u001b[39mself\u001b[39m\u001b[39m.\u001b[39mphi_operator()  \u001b[39m# type: ignore\u001b[39;00m\n\u001b[0;32m-> 1568\u001b[0m \u001b[39mreturn\u001b[39;00m \u001b[39mself\u001b[39;49m\u001b[39m.\u001b[39;49mt1(\n\u001b[1;32m   1569\u001b[0m     i\u001b[39m=\u001b[39;49mi,\n\u001b[1;32m   1570\u001b[0m     j\u001b[39m=\u001b[39;49mj,\n\u001b[1;32m   1571\u001b[0m     noise_op\u001b[39m=\u001b[39;49mnoise_op,\n\u001b[1;32m   1572\u001b[0m     spectral_density\u001b[39m=\u001b[39;49mspectral_density,\n\u001b[1;32m   1573\u001b[0m     total\u001b[39m=\u001b[39;49mtotal,\n\u001b[1;32m   1574\u001b[0m     esys\u001b[39m=\u001b[39;49mesys,\n\u001b[1;32m   1575\u001b[0m     get_rate\u001b[39m=\u001b[39;49mget_rate,\n\u001b[1;32m   1576\u001b[0m )\n",
      "File \u001b[0;32m~/Documents/optimisation_of_superconduncting_circuits/venv/lib/python3.8/site-packages/scqubits/core/noise.py:1213\u001b[0m, in \u001b[0;36mNoisySystem.t1\u001b[0;34m(self, i, j, noise_op, spectral_density, total, esys, get_rate)\u001b[0m\n\u001b[1;32m   1210\u001b[0m \u001b[39mif\u001b[39;00m i \u001b[39m==\u001b[39m j \u001b[39mor\u001b[39;00m i \u001b[39m<\u001b[39m \u001b[39m0\u001b[39m \u001b[39mor\u001b[39;00m j \u001b[39m<\u001b[39m \u001b[39m0\u001b[39m:\n\u001b[1;32m   1211\u001b[0m     \u001b[39mraise\u001b[39;00m \u001b[39mValueError\u001b[39;00m(\u001b[39m\"\u001b[39m\u001b[39mLevel indices \u001b[39m\u001b[39m'\u001b[39m\u001b[39mi\u001b[39m\u001b[39m'\u001b[39m\u001b[39m and \u001b[39m\u001b[39m'\u001b[39m\u001b[39mj\u001b[39m\u001b[39m'\u001b[39m\u001b[39m must be different, and i,j>=0\u001b[39m\u001b[39m\"\u001b[39m)\n\u001b[0;32m-> 1213\u001b[0m evals, evecs \u001b[39m=\u001b[39m \u001b[39mself\u001b[39;49m\u001b[39m.\u001b[39;49meigensys(evals_count\u001b[39m=\u001b[39;49m\u001b[39mmax\u001b[39;49m(i, j) \u001b[39m+\u001b[39;49m \u001b[39m1\u001b[39;49m) \u001b[39mif\u001b[39;00m esys \u001b[39mis\u001b[39;00m \u001b[39mNone\u001b[39;00m \u001b[39melse\u001b[39;00m esys  \u001b[39m# type: ignore\u001b[39;00m\n\u001b[1;32m   1215\u001b[0m \u001b[39m# We assume that the energies in `evals` are given in the units of frequency\u001b[39;00m\n\u001b[1;32m   1216\u001b[0m \u001b[39m# and *not* angular frequency. The function `spectral_density` is assumed to\u001b[39;00m\n\u001b[1;32m   1217\u001b[0m \u001b[39m# take as a parameter an angular frequency, hence we have to convert.\u001b[39;00m\n\u001b[1;32m   1218\u001b[0m omega \u001b[39m=\u001b[39m \u001b[39m2\u001b[39m \u001b[39m*\u001b[39m np\u001b[39m.\u001b[39mpi \u001b[39m*\u001b[39m (evals[i] \u001b[39m-\u001b[39m evals[j])\n",
      "File \u001b[0;32m~/Documents/optimisation_of_superconduncting_circuits/venv/lib/python3.8/site-packages/scqubits/core/qubit_base.py:361\u001b[0m, in \u001b[0;36mQubitBaseClass.eigensys\u001b[0;34m(self, evals_count, filename, return_spectrumdata)\u001b[0m\n\u001b[1;32m    336\u001b[0m \u001b[39mdef\u001b[39;00m \u001b[39meigensys\u001b[39m(\n\u001b[1;32m    337\u001b[0m     \u001b[39mself\u001b[39m,\n\u001b[1;32m    338\u001b[0m     evals_count: \u001b[39mint\u001b[39m \u001b[39m=\u001b[39m \u001b[39m6\u001b[39m,\n\u001b[1;32m    339\u001b[0m     filename: \u001b[39mstr\u001b[39m \u001b[39m=\u001b[39m \u001b[39mNone\u001b[39;00m,\n\u001b[1;32m    340\u001b[0m     return_spectrumdata: \u001b[39mbool\u001b[39m \u001b[39m=\u001b[39m \u001b[39mFalse\u001b[39;00m,\n\u001b[1;32m    341\u001b[0m ) \u001b[39m-\u001b[39m\u001b[39m>\u001b[39m Union[Tuple[ndarray, ndarray], SpectrumData]:\n\u001b[1;32m    342\u001b[0m \u001b[39m    \u001b[39m\u001b[39m\"\"\"Calculates eigenvalues and corresponding eigenvectors using\u001b[39;00m\n\u001b[1;32m    343\u001b[0m \u001b[39m    `scipy.linalg.eigh`. Returns two numpy arrays containing the eigenvalues and\u001b[39;00m\n\u001b[1;32m    344\u001b[0m \u001b[39m    eigenvectors, respectively.\u001b[39;00m\n\u001b[0;32m   (...)\u001b[0m\n\u001b[1;32m    359\u001b[0m \u001b[39m        eigenvalues, eigenvectors as numpy arrays or in form of a SpectrumData object\u001b[39;00m\n\u001b[1;32m    360\u001b[0m \u001b[39m    \"\"\"\u001b[39;00m\n\u001b[0;32m--> 361\u001b[0m     evals, evecs \u001b[39m=\u001b[39m \u001b[39mself\u001b[39;49m\u001b[39m.\u001b[39;49m_esys_calc(evals_count)\n\u001b[1;32m    362\u001b[0m     \u001b[39mif\u001b[39;00m filename \u001b[39mor\u001b[39;00m return_spectrumdata:\n\u001b[1;32m    363\u001b[0m         specdata \u001b[39m=\u001b[39m SpectrumData(\n\u001b[1;32m    364\u001b[0m             energy_table\u001b[39m=\u001b[39mevals, system_params\u001b[39m=\u001b[39m\u001b[39mself\u001b[39m\u001b[39m.\u001b[39mget_initdata(), state_table\u001b[39m=\u001b[39mevecs\n\u001b[1;32m    365\u001b[0m         )\n",
      "File \u001b[0;32m~/Documents/optimisation_of_superconduncting_circuits/venv/lib/python3.8/site-packages/scqubits/core/zeropi.py:234\u001b[0m, in \u001b[0;36mZeroPi._esys_calc\u001b[0;34m(self, evals_count)\u001b[0m\n\u001b[1;32m    233\u001b[0m \u001b[39mdef\u001b[39;00m \u001b[39m_esys_calc\u001b[39m(\u001b[39mself\u001b[39m, evals_count: \u001b[39mint\u001b[39m) \u001b[39m-\u001b[39m\u001b[39m>\u001b[39m Tuple[ndarray, ndarray]:\n\u001b[0;32m--> 234\u001b[0m     hamiltonian_mat \u001b[39m=\u001b[39m \u001b[39mself\u001b[39;49m\u001b[39m.\u001b[39;49mhamiltonian()\n\u001b[1;32m    235\u001b[0m     evals, evecs \u001b[39m=\u001b[39m utils\u001b[39m.\u001b[39meigsh_safe(\n\u001b[1;32m    236\u001b[0m         hamiltonian_mat,\n\u001b[1;32m    237\u001b[0m         k\u001b[39m=\u001b[39mevals_count,\n\u001b[0;32m   (...)\u001b[0m\n\u001b[1;32m    240\u001b[0m         return_eigenvectors\u001b[39m=\u001b[39m\u001b[39mTrue\u001b[39;00m,\n\u001b[1;32m    241\u001b[0m     )\n\u001b[1;32m    242\u001b[0m     evals, evecs \u001b[39m=\u001b[39m utils\u001b[39m.\u001b[39morder_eigensystem(evals, evecs)\n",
      "File \u001b[0;32m~/Documents/optimisation_of_superconduncting_circuits/venv/lib/python3.8/site-packages/scqubits/core/zeropi.py:394\u001b[0m, in \u001b[0;36mZeroPi.hamiltonian\u001b[0;34m(self, energy_esys)\u001b[0m\n\u001b[1;32m    370\u001b[0m \u001b[39mdef\u001b[39;00m \u001b[39mhamiltonian\u001b[39m(\n\u001b[1;32m    371\u001b[0m     \u001b[39mself\u001b[39m, energy_esys: Union[\u001b[39mbool\u001b[39m, Tuple[ndarray, ndarray]] \u001b[39m=\u001b[39m \u001b[39mFalse\u001b[39;00m\n\u001b[1;32m    372\u001b[0m ) \u001b[39m-\u001b[39m\u001b[39m>\u001b[39m csc_matrix:\n\u001b[1;32m    373\u001b[0m \u001b[39m    \u001b[39m\u001b[39mr\u001b[39m\u001b[39m\"\"\"\u001b[39;00m\n\u001b[1;32m    374\u001b[0m \u001b[39m    Calculates Hamiltonian in basis obtained by discretizing :math:`\\phi` and employing\u001b[39;00m\n\u001b[1;32m    375\u001b[0m \u001b[39m    charge basis for :math:`\\theta` or in the eigenenergy basis. Returns matrix representing\u001b[39;00m\n\u001b[0;32m   (...)\u001b[0m\n\u001b[1;32m    392\u001b[0m \u001b[39m        for m given eigenvectors.\u001b[39;00m\n\u001b[1;32m    393\u001b[0m \u001b[39m    \"\"\"\u001b[39;00m\n\u001b[0;32m--> 394\u001b[0m     hamiltonian_mat \u001b[39m=\u001b[39m \u001b[39mself\u001b[39;49m\u001b[39m.\u001b[39;49msparse_kinetic_mat() \u001b[39m+\u001b[39m \u001b[39mself\u001b[39m\u001b[39m.\u001b[39msparse_potential_mat()\n\u001b[1;32m    395\u001b[0m     \u001b[39mreturn\u001b[39;00m \u001b[39mself\u001b[39m\u001b[39m.\u001b[39mprocess_hamiltonian(\n\u001b[1;32m    396\u001b[0m         native_hamiltonian\u001b[39m=\u001b[39mhamiltonian_mat, energy_esys\u001b[39m=\u001b[39menergy_esys\n\u001b[1;32m    397\u001b[0m     )\n",
      "File \u001b[0;32m~/Documents/optimisation_of_superconduncting_circuits/venv/lib/python3.8/site-packages/scqubits/core/zeropi.py:309\u001b[0m, in \u001b[0;36mZeroPi.sparse_kinetic_mat\u001b[0;34m(self)\u001b[0m\n\u001b[1;32m    304\u001b[0m kinetic_matrix \u001b[39m=\u001b[39m sparse\u001b[39m.\u001b[39mkron(\n\u001b[1;32m    305\u001b[0m     kinetic_matrix_phi, identity_theta, \u001b[39mformat\u001b[39m\u001b[39m=\u001b[39m\u001b[39m\"\u001b[39m\u001b[39mcsc\u001b[39m\u001b[39m\"\u001b[39m\n\u001b[1;32m    306\u001b[0m ) \u001b[39m+\u001b[39m sparse\u001b[39m.\u001b[39mkron(identity_phi, kinetic_matrix_theta, \u001b[39mformat\u001b[39m\u001b[39m=\u001b[39m\u001b[39m\"\u001b[39m\u001b[39mcsc\u001b[39m\u001b[39m\"\u001b[39m)\n\u001b[1;32m    307\u001b[0m \u001b[39mif\u001b[39;00m \u001b[39mself\u001b[39m\u001b[39m.\u001b[39mdCJ \u001b[39m!=\u001b[39m \u001b[39m0\u001b[39m:\n\u001b[1;32m    308\u001b[0m     kinetic_matrix \u001b[39m-\u001b[39m\u001b[39m=\u001b[39m (\n\u001b[0;32m--> 309\u001b[0m         \u001b[39m2.0\u001b[39;49m\n\u001b[1;32m    310\u001b[0m         \u001b[39m*\u001b[39;49m \u001b[39mself\u001b[39;49m\u001b[39m.\u001b[39;49mECS\n\u001b[1;32m    311\u001b[0m         \u001b[39m*\u001b[39;49m \u001b[39mself\u001b[39;49m\u001b[39m.\u001b[39;49mdCJ\n\u001b[1;32m    312\u001b[0m         \u001b[39m*\u001b[39;49m \u001b[39mself\u001b[39;49m\u001b[39m.\u001b[39;49mi_d_dphi_operator()\n\u001b[1;32m    313\u001b[0m         \u001b[39m*\u001b[39m \u001b[39mself\u001b[39m\u001b[39m.\u001b[39mn_theta_operator()\n\u001b[1;32m    314\u001b[0m     )\n\u001b[1;32m    316\u001b[0m \u001b[39mreturn\u001b[39;00m kinetic_matrix\n",
      "File \u001b[0;32m~/Documents/optimisation_of_superconduncting_circuits/venv/lib/python3.8/site-packages/scipy/sparse/base.py:547\u001b[0m, in \u001b[0;36mspmatrix.__rmul__\u001b[0;34m(self, other)\u001b[0m\n\u001b[1;32m    544\u001b[0m \u001b[39melse\u001b[39;00m:\n\u001b[1;32m    545\u001b[0m     \u001b[39m# Don't use asarray unless we have to\u001b[39;00m\n\u001b[1;32m    546\u001b[0m     \u001b[39mtry\u001b[39;00m:\n\u001b[0;32m--> 547\u001b[0m         tr \u001b[39m=\u001b[39m other\u001b[39m.\u001b[39;49mtranspose()\n\u001b[1;32m    548\u001b[0m     \u001b[39mexcept\u001b[39;00m \u001b[39mAttributeError\u001b[39;00m:\n\u001b[1;32m    549\u001b[0m         tr \u001b[39m=\u001b[39m np\u001b[39m.\u001b[39masarray(other)\u001b[39m.\u001b[39mtranspose()\n",
      "\u001b[0;31mTypeError\u001b[0m: transpose() received an invalid combination of arguments - got (), but expected one of:\n * (int dim0, int dim1)\n * (name dim0, name dim1)\n"
     ]
    }
   ],
   "source": [
    "#compare my pytorch computations to scqubits\n",
    "zeropi_sc = sc.ZeroPi(\n",
    "            grid = sc.Grid1d(min_val=min_val, max_val=max_val, pt_count=pt_count),\n",
    "            EJ   = EJ.item(),\n",
    "            EL   = EL.item(), \n",
    "            ECJ  = ECJ.item(),\n",
    "            EC   = EC.item(),\n",
    "            ng   = ng,\n",
    "            flux = flux.item(),\n",
    "            ncut = ncut, \n",
    "            dEJ = dEJ, \n",
    "            dCJ = dCJ)\n",
    "\n",
    "print(zeropi_sc.t1_inductive() - 1/general.effective_t1_rate(zeropi , \"t1_inductive\").item())\n",
    "print(zeropi_sc.t1_flux_bias_line() - 1/general.effective_t1_rate(zeropi , \"t1_flux_bias_line\").item())\n",
    "print(zeropi_sc.tphi_1_over_f_cc() - 1/general.effective_tphi_rate(zeropi , \"tphi_1_over_f_cc\").item())\n",
    "print(zeropi_sc.tphi_1_over_f_flux() - 1/general.effective_tphi_rate(zeropi , \"tphi_1_over_f_flux()\").item())"
   ]
  }
 ],
 "metadata": {
  "kernelspec": {
   "display_name": "venv",
   "language": "python",
   "name": "python3"
  },
  "language_info": {
   "codemirror_mode": {
    "name": "ipython",
    "version": 3
   },
   "file_extension": ".py",
   "mimetype": "text/x-python",
   "name": "python",
   "nbconvert_exporter": "python",
   "pygments_lexer": "ipython3",
   "version": "3.8.6"
  },
  "orig_nbformat": 4
 },
 "nbformat": 4,
 "nbformat_minor": 2
}
