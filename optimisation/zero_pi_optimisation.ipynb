{
 "cells": [
  {
   "cell_type": "code",
   "execution_count": 13,
   "metadata": {},
   "outputs": [],
   "source": [
    "import torch\n",
    "import numpy as np\n",
    "import scipy as sp\n",
    "import sys\n",
    "sys.path.append('/Users/judd/Documents/optimisation_of_superconduncting_circuits/core')\n",
    "from zeropi import ZeroPi\n",
    "import general as general\n",
    "import scqubits as sc\n"
   ]
  },
  {
   "cell_type": "code",
   "execution_count": 14,
   "metadata": {},
   "outputs": [
    {
     "data": {
      "text/plain": [
       "tensor([[ 4.5516e+01-2.6406e-15j, -3.0060e-13+1.4250e-14j,\n",
       "          2.6701e-13-1.2587e-16j,  ...,\n",
       "          2.7445e-18+2.3780e-22j,  2.3802e-13-1.9146e-14j,\n",
       "          2.4154e-13-4.3384e-14j],\n",
       "        [-2.9090e-13-1.4122e-14j,  4.5637e+01+2.2045e-15j,\n",
       "         -1.5672e-13+1.5270e-14j,  ...,\n",
       "         -1.5488e-18+1.1526e-21j, -7.6152e-14-1.5711e-14j,\n",
       "         -5.8398e-14+2.8892e-14j],\n",
       "        [ 2.7024e-13+5.6878e-15j, -1.5982e-13-1.4138e-14j,\n",
       "          5.1121e+01+1.0650e-17j,  ...,\n",
       "         -8.3031e-19-5.1194e-21j,  3.0942e-14+6.9905e-15j,\n",
       "          7.5357e-14+4.0526e-14j],\n",
       "        ...,\n",
       "        [ 2.7445e-18-2.3780e-22j, -1.5488e-18-1.1526e-21j,\n",
       "         -8.3031e-19+5.1194e-21j,  ...,\n",
       "          4.3214e+03-1.1374e-13j, -2.3736e-15+8.2425e-16j,\n",
       "          6.8824e-16+1.7553e-16j],\n",
       "        [ 2.3802e-13+1.9146e-14j, -7.6152e-14+1.5711e-14j,\n",
       "          3.0942e-14-6.9905e-15j,  ...,\n",
       "         -2.3736e-15-8.2425e-16j,  4.3314e+03+3.4152e-18j,\n",
       "         -1.8190e-12+1.1987e-13j],\n",
       "        [ 2.4154e-13+4.3384e-14j, -5.8398e-14-2.8892e-14j,\n",
       "          7.5357e-14-4.0526e-14j,  ...,\n",
       "          6.8824e-16-1.7553e-16j, -1.3642e-12-1.7671e-13j,\n",
       "          4.3314e+03-5.6843e-14j]], dtype=torch.complex128)"
      ]
     },
     "execution_count": 14,
     "metadata": {},
     "output_type": "execute_result"
    }
   ],
   "source": [
    "#Computing T2\n",
    "EJ = torch.tensor(10.00, requires_grad=True, dtype=torch.double)\n",
    "EL = torch.tensor(10.00, requires_grad=True, dtype=torch.double)\n",
    "ECJ = torch.tensor(0.5, requires_grad=True, dtype=torch.double)\n",
    "EC = torch.tensor(2.5, requires_grad=True, dtype=torch.double)\n",
    "dEJ = torch.tensor(2.5, requires_grad=True, dtype=torch.double)\n",
    "dCJ = torch.tensor(2.5, requires_grad=True, dtype=torch.double)\n",
    "flux = torch.tensor(0.5, requires_grad=True, dtype=torch.double)\n",
    "\n",
    "ng = 0.1\n",
    "ncut = 30\n",
    "truncated_dim = 10\n",
    "pt_count = 10\n",
    "min_val = -6*np.pi\n",
    "max_val = 6*np.pi\n",
    "hamiltonian_creation = 'auto_H'"
   ]
  },
  {
   "cell_type": "code",
   "execution_count": 15,
   "metadata": {},
   "outputs": [
    {
     "name": "stderr",
     "output_type": "stream",
     "text": [
      "UserWarning: The use of `x.T` on tensors of dimension other than 2 to reverse their shape is deprecated and it will throw an error in a future release. Consider `x.mT` to transpose batches of matrices or `x.permute(*torch.arange(x.ndim - 1, -1, -1))` to reverse the dimensions of a tensor. (Triggered internally at /Users/runner/work/pytorch/pytorch/pytorch/aten/src/ATen/native/TensorShape.cpp:3575.)\n",
      " /Users/judd/Documents/optimisation_of_superconduncting_circuits/core/general.py: 69"
     ]
    },
    {
     "data": {
      "text/plain": [
       "tensor([[3.0306e-06]], dtype=torch.float64, grad_fn=<AddBackward0>)"
      ]
     },
     "execution_count": 15,
     "metadata": {},
     "output_type": "execute_result"
    }
   ],
   "source": [
    "general.effective_t1_rate(zeropi , \"t1_inductive\")\n",
    "general.effective_tphi_rate(zeropi , zeropi.tphi_supported_noise_channels())\n",
    "general.t2_rate(zeropi , zeropi.t1_supported_noise_channels(), zeropi.tphi_supported_noise_channels())"
   ]
  },
  {
   "cell_type": "code",
   "execution_count": 16,
   "metadata": {},
   "outputs": [
    {
     "name": "stderr",
     "output_type": "stream",
     "text": [
      "UserWarning: By default all methods that involve calculations of the t1 coherence times/rates, return a sum of upward (i.e., excitation), and downward (i.e., relaxation) rates. To change this behavior, parameter total=False can be passed to any t1-related coherence methods. With total=False, only a one-directional transition between levels i and j is used to calculate the required t1 time or rate.\n",
      "See documentation for details.\n",
      "This warning can be disabled by executing:\n",
      "scqubits.settings.T1_DEFAULT_WARNING=False\n",
      "\n",
      " /Users/judd/Documents/optimisation_of_superconduncting_circuits/venv/lib/python3.8/site-packages/scqubits/core/noise.py: 1195"
     ]
    },
    {
     "name": "stdout",
     "output_type": "stream",
     "text": [
      "48775.34467985615\n",
      "-2.3793634601274483e+26\n",
      "-10859064.36449126\n",
      "1081175671205895.8\n"
     ]
    }
   ],
   "source": [
    "#compare my pytorch computations to scqubits\n",
    "EJ = torch.tensor(10.00, requires_grad=True, dtype=torch.double)\n",
    "EL = torch.tensor(10.00, requires_grad=True, dtype=torch.double)\n",
    "ECJ = torch.tensor(0.5, requires_grad=True, dtype=torch.double)\n",
    "EC = torch.tensor(2.5, requires_grad=True, dtype=torch.double)\n",
    "dEJ = torch.tensor(2.5, requires_grad=True, dtype=torch.double)\n",
    "dCJ = torch.tensor(2.5, requires_grad=True, dtype=torch.double)\n",
    "flux = torch.tensor(0.5, requires_grad=True, dtype=torch.double)\n",
    "\n",
    "ng = 0.1\n",
    "ncut = 30\n",
    "truncated_dim = 10\n",
    "pt_count = 10\n",
    "min_val = -6*np.pi\n",
    "max_val = 6*np.pi\n",
    "hamiltonian_creation = 'auto_H'\n",
    "\n",
    "zeropi_sc = sc.ZeroPi(\n",
    "            grid = sc.Grid1d(min_val=min_val, max_val=max_val, pt_count=pt_count),\n",
    "            EJ   = EJ.item(),\n",
    "            EL   = EL.item(), \n",
    "            ECJ  = ECJ.item(),\n",
    "            EC   = EC.item(),\n",
    "            ng   = ng,\n",
    "            flux = flux.item(),\n",
    "            ncut = ncut, \n",
    "            dEJ = dEJ.item(), \n",
    "            dCJ = dCJ.item())\n",
    "\n",
    "print(zeropi_sc.t1_inductive() - 1/general.effective_t1_rate(zeropi , \"t1_inductive\").item())\n",
    "print(zeropi_sc.t1_flux_bias_line() - 1/general.effective_t1_rate(zeropi , \"t1_flux_bias_line\").item())\n",
    "print(zeropi_sc.tphi_1_over_f_cc() - 1/general.effective_tphi_rate(zeropi , \"tphi_1_over_f_cc\").item())\n",
    "print(zeropi_sc.tphi_1_over_f_flux() - 1/general.effective_tphi_rate(zeropi , \"tphi_1_over_f_flux()\").item())"
   ]
  }
 ],
 "metadata": {
  "kernelspec": {
   "display_name": "venv",
   "language": "python",
   "name": "python3"
  },
  "language_info": {
   "codemirror_mode": {
    "name": "ipython",
    "version": 3
   },
   "file_extension": ".py",
   "mimetype": "text/x-python",
   "name": "python",
   "nbconvert_exporter": "python",
   "pygments_lexer": "ipython3",
   "version": "3.8.6"
  },
  "orig_nbformat": 4
 },
 "nbformat": 4,
 "nbformat_minor": 2
}
