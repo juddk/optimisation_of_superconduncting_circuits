{
 "cells": [
  {
   "cell_type": "code",
   "execution_count": 6,
   "metadata": {},
   "outputs": [],
   "source": [
    "import torch\n",
    "import numpy as np\n",
    "import scipy as sp\n",
    "import sys\n",
    "sys.path.append('/Users/judd/Documents/optimisation_of_superconduncting_circuits/core')\n",
    "from zeropi import ZeroPi\n",
    "import general as general\n",
    "import scqubits as sc\n"
   ]
  },
  {
   "cell_type": "code",
   "execution_count": 7,
   "metadata": {},
   "outputs": [
    {
     "data": {
      "text/plain": [
       "tensor([[9999319.5500]], dtype=torch.float64, grad_fn=<AddBackward0>)"
      ]
     },
     "execution_count": 7,
     "metadata": {},
     "output_type": "execute_result"
    }
   ],
   "source": [
    "#Computing T2\n",
    "EJ = torch.tensor(10.00, requires_grad=True, dtype=torch.double)\n",
    "EL = torch.tensor(10.00, requires_grad=True, dtype=torch.double)\n",
    "ECJ = torch.tensor(0.5, requires_grad=True, dtype=torch.double)\n",
    "EC = torch.tensor(2.5, requires_grad=True, dtype=torch.double)\n",
    "dEJ = torch.tensor(2.5, requires_grad=True, dtype=torch.double)\n",
    "dCJ = torch.tensor(2.5, requires_grad=True, dtype=torch.double)\n",
    "flux = torch.tensor(0.5, requires_grad=True, dtype=torch.double)\n",
    "\n",
    "ng = 0.1\n",
    "ncut = 30\n",
    "truncated_dim = 10\n",
    "pt_count = 10\n",
    "min_val = -6*np.pi\n",
    "max_val = 6*np.pi\n",
    "hamiltonian_creation = 'auto_H'\n",
    "\n",
    "\n",
    "\n",
    "zeropi = ZeroPi(EJ=EJ, EL=EL, ECJ=ECJ, EC=EC, dEJ=dEJ, dCJ=dCJ, ng=ng, flux=flux, ncut=ncut, truncated_dim=truncated_dim, pt_count=pt_count, min_val=min_val, max_val=max_val, hamiltonian_creation=hamiltonian_creation)\n",
    "\n",
    "general.effective_t1_rate(zeropi , \"t1_inductive\")\n",
    "general.effective_tphi_rate(zeropi , zeropi.tphi_supported_noise_channels())\n",
    "general.t2(zeropi , zeropi.t1_supported_noise_channels(), zeropi.tphi_supported_noise_channels())\n"
   ]
  },
  {
   "cell_type": "code",
   "execution_count": 8,
   "metadata": {},
   "outputs": [
    {
     "name": "stdout",
     "output_type": "stream",
     "text": [
      "-170935.75498286018\n",
      "-2.940779409773488e+22\n",
      "2.0042061805725098e-06\n",
      "701069111801559.0\n"
     ]
    }
   ],
   "source": [
    "#compare my pytorch computations to scqubits\n",
    "EJ = torch.tensor(10.00, requires_grad=True, dtype=torch.double)\n",
    "EL = torch.tensor(10.00, requires_grad=True, dtype=torch.double)\n",
    "ECJ = torch.tensor(0.5, requires_grad=True, dtype=torch.double)\n",
    "EC = torch.tensor(2.5, requires_grad=True, dtype=torch.double)\n",
    "dEJ = torch.tensor(2.5, requires_grad=True, dtype=torch.double)\n",
    "dCJ = torch.tensor(2.5, requires_grad=True, dtype=torch.double)\n",
    "flux = torch.tensor(0.5, requires_grad=True, dtype=torch.double)\n",
    "\n",
    "ng = 0.1\n",
    "ncut = 30\n",
    "truncated_dim = 10\n",
    "pt_count = 10\n",
    "min_val = -6*np.pi\n",
    "max_val = 6*np.pi\n",
    "hamiltonian_creation = 'auto_H'\n",
    "\n",
    "zeropi_sc = sc.ZeroPi(\n",
    "            grid = sc.Grid1d(min_val=min_val, max_val=max_val, pt_count=pt_count),\n",
    "            EJ   = EJ.item(),\n",
    "            EL   = EL.item(), \n",
    "            ECJ  = ECJ.item(),\n",
    "            EC   = EC.item(),\n",
    "            ng   = ng,\n",
    "            flux = flux.item(),\n",
    "            ncut = ncut, \n",
    "            dEJ = dEJ.item(), \n",
    "            dCJ = dCJ.item())\n",
    "\n",
    "print(zeropi_sc.t1_inductive() - 1/general.effective_t1_rate(zeropi , \"t1_inductive\").item())\n",
    "print(zeropi_sc.t1_flux_bias_line() - 1/general.effective_t1_rate(zeropi , \"t1_flux_bias_line\").item())\n",
    "print(zeropi_sc.tphi_1_over_f_cc() - 1/general.effective_tphi_rate(zeropi , \"tphi_1_over_f_cc\").item())\n",
    "print(zeropi_sc.tphi_1_over_f_flux() - 1/general.effective_tphi_rate(zeropi , \"tphi_1_over_f_flux()\").item())"
   ]
  }
 ],
 "metadata": {
  "kernelspec": {
   "display_name": "venv",
   "language": "python",
   "name": "python3"
  },
  "language_info": {
   "codemirror_mode": {
    "name": "ipython",
    "version": 3
   },
   "file_extension": ".py",
   "mimetype": "text/x-python",
   "name": "python",
   "nbconvert_exporter": "python",
   "pygments_lexer": "ipython3",
   "version": "3.8.6"
  },
  "orig_nbformat": 4
 },
 "nbformat": 4,
 "nbformat_minor": 2
}
