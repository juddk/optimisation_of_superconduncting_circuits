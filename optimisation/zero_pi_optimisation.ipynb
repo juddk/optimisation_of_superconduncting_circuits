{
 "cells": [
  {
   "cell_type": "code",
   "execution_count": 1,
   "metadata": {},
   "outputs": [],
   "source": [
    "import torch\n",
    "import numpy as np\n",
    "import scipy as sp\n",
    "import sys\n",
    "sys.path.append('/Users/judd/Documents/optimisation_of_superconduncting_circuits/core')\n",
    "from zeropi import ZeroPi\n",
    "import general as general\n",
    "import scqubits as sc\n"
   ]
  },
  {
   "cell_type": "code",
   "execution_count": 2,
   "metadata": {},
   "outputs": [
    {
     "name": "stderr",
     "output_type": "stream",
     "text": [
      "UserWarning: By default all methods that involve calculations of the t1 coherence times/rates, return a sum of upward (i.e., excitation), and downward (i.e., relaxation) rates. To change this behavior, parameter total=False can be passed to any t1-related coherence methods. With total=False, only a one-directional transition between levels i and j is used to calculate the required t1 time or rate.\n",
      "See documentation for details.\n",
      "This warning can be disabled by executing:\n",
      "scqubits.settings.T1_DEFAULT_WARNING=False\n",
      "\n",
      " /Users/judd/Documents/optimisation_of_superconduncting_circuits/venv/lib/python3.8/site-packages/scqubits/core/noise.py: 1195UserWarning: The use of `x.T` on tensors of dimension other than 2 to reverse their shape is deprecated and it will throw an error in a future release. Consider `x.mT` to transpose batches of matrices or `x.permute(*torch.arange(x.ndim - 1, -1, -1))` to reverse the dimensions of a tensor. (Triggered internally at /Users/runner/work/pytorch/pytorch/pytorch/aten/src/ATen/native/TensorShape.cpp:3575.)\n",
      " /Users/judd/Documents/optimisation_of_superconduncting_circuits/core/general.py: 73"
     ]
    },
    {
     "name": "stdout",
     "output_type": "stream",
     "text": [
      "1.468991542374939\n",
      "22.580482148258515\n",
      "1.0000000000000457\n",
      "1.0000000000000557\n",
      "____\n",
      "3.182335058528815e+38\n",
      "1.409329985796715e+37\n"
     ]
    }
   ],
   "source": [
    "#Validating T2 Calcs Against SCQUBITS\n",
    "EJ = torch.tensor(10.00, requires_grad=True, dtype=torch.double)\n",
    "EL = torch.tensor(0.04, requires_grad=True, dtype=torch.double)\n",
    "ECJ = torch.tensor(20, requires_grad=True, dtype=torch.double)\n",
    "EC = torch.tensor(0.04, requires_grad=True, dtype=torch.double)\n",
    "dEJ = torch.tensor(0.0, requires_grad=True, dtype=torch.double)\n",
    "dCJ = torch.tensor(0.0, requires_grad=True, dtype=torch.double)\n",
    "flux = torch.tensor(0.23, requires_grad=True, dtype=torch.double)\n",
    "ng = 0.1\n",
    "ncut = 30\n",
    "truncated_dim = 10\n",
    "pt_count = 10\n",
    "min_val = -19\n",
    "max_val = 19\n",
    "hamiltonian_creation = 'auto_H'\n",
    "\n",
    "zeropi = ZeroPi(EJ=EJ, \n",
    "                 EL=EL , \n",
    "                 ECJ=ECJ, \n",
    "                 EC=EC, \n",
    "                 dEJ=dEJ, \n",
    "                 dCJ=dCJ, \n",
    "                 flux=flux, \n",
    "                 ng=ng, \n",
    "                 ncut=ncut, \n",
    "                 truncated_dim=truncated_dim, \n",
    "                 pt_count=pt_count, \n",
    "                 min_val=min_val, \n",
    "                 max_val=max_val,\n",
    "                 hamiltonian_creation=hamiltonian_creation)\n",
    "\n",
    "zeropi_sc = sc.ZeroPi(\n",
    "            grid = sc.Grid1d(min_val=min_val, max_val=max_val, pt_count=pt_count),\n",
    "            EJ   = EJ.item(),\n",
    "            EL   = EL.item(), \n",
    "            ECJ  = ECJ.item(),\n",
    "            EC   = EC.item(),\n",
    "            ng   = ng,\n",
    "            flux = flux.item(),\n",
    "            ncut = ncut, \n",
    "            dEJ = dEJ.item(), \n",
    "            dCJ = dCJ.item())\n",
    "\n",
    "print(zeropi_sc.t1_inductive() *  general.effective_t1_rate(zeropi , \"t1_inductive\").item())\n",
    "print(zeropi_sc.t1_flux_bias_line() *  general.effective_t1_rate(zeropi , \"t1_flux_bias_line\").item())\n",
    "print(zeropi_sc.tphi_1_over_f_cc()  *  general.effective_tphi_rate(zeropi , \"tphi_1_over_f_cc\").item())\n",
    "print(zeropi_sc.tphi_1_over_f_flux() * general.effective_tphi_rate(zeropi , \"tphi_1_over_f_flux\").item())\n",
    "\n",
    "print('____')\n",
    "\n",
    "print(zeropi_sc.t1_flux_bias_line())\n",
    "print( 1/general.effective_t1_rate(zeropi , \"t1_flux_bias_line\").item())\n"
   ]
  },
  {
   "cell_type": "code",
   "execution_count": 3,
   "metadata": {},
   "outputs": [
    {
     "data": {
      "text/plain": [
       "tensor([[2.6648e-05]], dtype=torch.float64, grad_fn=<AddBackward0>)"
      ]
     },
     "execution_count": 3,
     "metadata": {},
     "output_type": "execute_result"
    }
   ],
   "source": [
    "general.effective_t1_rate(zeropi , \"t1_inductive\")\n",
    "general.effective_tphi_rate(zeropi , zeropi.tphi_supported_noise_channels())\n",
    "general.t2_rate(zeropi , zeropi.t1_supported_noise_channels(), zeropi.tphi_supported_noise_channels())"
   ]
  }
 ],
 "metadata": {
  "kernelspec": {
   "display_name": "venv",
   "language": "python",
   "name": "python3"
  },
  "language_info": {
   "codemirror_mode": {
    "name": "ipython",
    "version": 3
   },
   "file_extension": ".py",
   "mimetype": "text/x-python",
   "name": "python",
   "nbconvert_exporter": "python",
   "pygments_lexer": "ipython3",
   "version": "3.8.6"
  },
  "orig_nbformat": 4
 },
 "nbformat": 4,
 "nbformat_minor": 2
}
