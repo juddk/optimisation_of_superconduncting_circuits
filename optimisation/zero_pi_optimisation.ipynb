{
 "cells": [
  {
   "cell_type": "code",
   "execution_count": 6,
   "metadata": {},
   "outputs": [],
   "source": [
    "import torch\n",
    "import numpy as np\n",
    "import scipy as sp\n",
    "import sys\n",
    "sys.path.append('/Users/judd/Documents/optimisation_of_superconduncting_circuits/core')\n",
    "from zeropi import ZeroPi\n",
    "import general as general\n",
    "import scqubits as sc\n"
   ]
  },
  {
   "cell_type": "code",
   "execution_count": 7,
   "metadata": {},
   "outputs": [
    {
     "data": {
      "text/plain": [
       "tensor([[7.0884e+09]], dtype=torch.float64)"
      ]
     },
     "execution_count": 7,
     "metadata": {},
     "output_type": "execute_result"
    }
   ],
   "source": [
    "#Computing T2\n",
    "EJ = 0.4\n",
    "EL = 10.0**(-2)\n",
    "ECJ = 0.5\n",
    "EC = 1\n",
    "ECS = 10.0**(-3)\n",
    "dEJ = 0\n",
    "dCJ = 0\n",
    "ng = 0.1\n",
    "flux = 0.23\n",
    "ncut = 30\n",
    "truncated_dim = 10\n",
    "pt_count = 10\n",
    "min_val = -6*np.pi\n",
    "max_val = 6*np.pi\n",
    "hamiltonian_creation = 'auto_H'\n",
    "\n",
    "\n",
    "zeropi = ZeroPi(EJ, EL, ECJ, EC, dEJ, dCJ, ng, flux, ncut, truncated_dim, pt_count, min_val, max_val, hamiltonian_creation)\n",
    "\n",
    "general.effective_t1_rate(zeropi , \"t1_inductive\")\n",
    "general.effective_tphi_rate(zeropi , zeropi.tphi_supported_noise_channels())\n",
    "general.t2(zeropi , zeropi.t1_supported_noise_channels(), zeropi.tphi_supported_noise_channels())\n"
   ]
  },
  {
   "cell_type": "code",
   "execution_count": 8,
   "metadata": {},
   "outputs": [
    {
     "name": "stdout",
     "output_type": "stream",
     "text": [
      "-1000764728.5215592\n",
      "-9.260424485961967e+26\n",
      "-3.474997356534004e-08\n",
      "1.3747485354542732e-06\n"
     ]
    }
   ],
   "source": [
    "#compare my pytorch computations to scqubits\n",
    "zeropi_sc = sc.ZeroPi(\n",
    "            grid = sc.Grid1d(min_val=min_val, max_val=max_val, pt_count=pt_count),\n",
    "            EJ   = EJ,\n",
    "            EL   = EL, \n",
    "            ECJ  = ECJ,\n",
    "            EC   = EC,\n",
    "            ng   = ng,\n",
    "            flux = flux,\n",
    "            ncut = 30, \n",
    "            dEJ = dEJ, \n",
    "            dCJ = dCJ)\n",
    "\n",
    "print(zeropi_sc.t1_inductive() - 1/general.effective_t1_rate(zeropi , \"t1_inductive\").item())\n",
    "print(zeropi_sc.t1_flux_bias_line() - 1/general.effective_t1_rate(zeropi , \"t1_flux_bias_line\").item())\n",
    "print(zeropi_sc.tphi_1_over_f_cc() - 1/general.effective_tphi_rate(zeropi , \"tphi_1_over_f_cc\").item())\n",
    "print(zeropi_sc.tphi_1_over_f_flux() - 1/general.effective_tphi_rate(zeropi , \"tphi_1_over_f_flux()\").item())"
   ]
  }
 ],
 "metadata": {
  "kernelspec": {
   "display_name": "venv",
   "language": "python",
   "name": "python3"
  },
  "language_info": {
   "codemirror_mode": {
    "name": "ipython",
    "version": 3
   },
   "file_extension": ".py",
   "mimetype": "text/x-python",
   "name": "python",
   "nbconvert_exporter": "python",
   "pygments_lexer": "ipython3",
   "version": "3.8.6"
  },
  "orig_nbformat": 4
 },
 "nbformat": 4,
 "nbformat_minor": 2
}
