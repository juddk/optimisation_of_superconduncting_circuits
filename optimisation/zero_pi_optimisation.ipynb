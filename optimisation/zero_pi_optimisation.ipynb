{
 "cells": [
  {
   "cell_type": "code",
   "execution_count": 1,
   "metadata": {},
   "outputs": [],
   "source": [
    "import torch\n",
    "import numpy as np\n",
    "import scipy as sp\n",
    "import sys\n",
    "sys.path.append('/Users/judd/Documents/optimisation_of_superconduncting_circuits/core')\n",
    "from zeropi import ZeroPi\n",
    "import general as general\n",
    "import scqubits as sc\n"
   ]
  },
  {
   "cell_type": "code",
   "execution_count": 2,
   "metadata": {},
   "outputs": [
    {
     "name": "stderr",
     "output_type": "stream",
     "text": [
      "UserWarning: By default all methods that involve calculations of the t1 coherence times/rates, return a sum of upward (i.e., excitation), and downward (i.e., relaxation) rates. To change this behavior, parameter total=False can be passed to any t1-related coherence methods. With total=False, only a one-directional transition between levels i and j is used to calculate the required t1 time or rate.\n",
      "See documentation for details.\n",
      "This warning can be disabled by executing:\n",
      "scqubits.settings.T1_DEFAULT_WARNING=False\n",
      "\n",
      " /Users/judd/Documents/optimisation_of_superconduncting_circuits/venv/lib/python3.8/site-packages/scqubits/core/noise.py: 1195"
     ]
    },
    {
     "ename": "TypeError",
     "evalue": "band_matrix() takes 5 positional arguments but 6 were given",
     "output_type": "error",
     "traceback": [
      "\u001b[0;31m---------------------------------------------------------------------------\u001b[0m",
      "\u001b[0;31mTypeError\u001b[0m                                 Traceback (most recent call last)",
      "Cell \u001b[0;32mIn[2], line 44\u001b[0m\n\u001b[1;32m     17\u001b[0m zeropi \u001b[39m=\u001b[39m ZeroPi(EJ\u001b[39m=\u001b[39mEJ, \n\u001b[1;32m     18\u001b[0m                  EL\u001b[39m=\u001b[39mEL , \n\u001b[1;32m     19\u001b[0m                  ECJ\u001b[39m=\u001b[39mECJ, \n\u001b[0;32m   (...)\u001b[0m\n\u001b[1;32m     29\u001b[0m                  max_val\u001b[39m=\u001b[39mmax_val,\n\u001b[1;32m     30\u001b[0m                  hamiltonian_creation\u001b[39m=\u001b[39mhamiltonian_creation)\n\u001b[1;32m     32\u001b[0m zeropi_sc \u001b[39m=\u001b[39m sc\u001b[39m.\u001b[39mZeroPi(\n\u001b[1;32m     33\u001b[0m             grid \u001b[39m=\u001b[39m sc\u001b[39m.\u001b[39mGrid1d(min_val\u001b[39m=\u001b[39mmin_val, max_val\u001b[39m=\u001b[39mmax_val, pt_count\u001b[39m=\u001b[39mpt_count),\n\u001b[1;32m     34\u001b[0m             EJ   \u001b[39m=\u001b[39m EJ\u001b[39m.\u001b[39mitem(),\n\u001b[0;32m   (...)\u001b[0m\n\u001b[1;32m     41\u001b[0m             dEJ \u001b[39m=\u001b[39m dEJ\u001b[39m.\u001b[39mitem(), \n\u001b[1;32m     42\u001b[0m             dCJ \u001b[39m=\u001b[39m dCJ\u001b[39m.\u001b[39mitem())\n\u001b[0;32m---> 44\u001b[0m \u001b[39mprint\u001b[39m(zeropi_sc\u001b[39m.\u001b[39mt1_inductive() \u001b[39m*\u001b[39m  general\u001b[39m.\u001b[39;49meffective_t1_rate(zeropi , \u001b[39m\"\u001b[39;49m\u001b[39mt1_inductive\u001b[39;49m\u001b[39m\"\u001b[39;49m)\u001b[39m.\u001b[39mitem())\n\u001b[1;32m     45\u001b[0m \u001b[39mprint\u001b[39m(zeropi_sc\u001b[39m.\u001b[39mt1_flux_bias_line() \u001b[39m*\u001b[39m  general\u001b[39m.\u001b[39meffective_t1_rate(zeropi , \u001b[39m\"\u001b[39m\u001b[39mt1_flux_bias_line\u001b[39m\u001b[39m\"\u001b[39m)\u001b[39m.\u001b[39mitem())\n\u001b[1;32m     46\u001b[0m \u001b[39mprint\u001b[39m(zeropi_sc\u001b[39m.\u001b[39mtphi_1_over_f_cc()  \u001b[39m*\u001b[39m  general\u001b[39m.\u001b[39meffective_tphi_rate(zeropi , \u001b[39m\"\u001b[39m\u001b[39mtphi_1_over_f_cc\u001b[39m\u001b[39m\"\u001b[39m)\u001b[39m.\u001b[39mitem())\n",
      "File \u001b[0;32m~/Documents/optimisation_of_superconduncting_circuits/core/general.py:148\u001b[0m, in \u001b[0;36meffective_t1_rate\u001b[0;34m(qubit, noise_channels, T, M, R_0, R_k)\u001b[0m\n\u001b[1;32m    139\u001b[0m     t1 \u001b[39m+\u001b[39m\u001b[39m=\u001b[39m t1_rate(\n\u001b[1;32m    140\u001b[0m         noise_op\u001b[39m=\u001b[39mqubit\u001b[39m.\u001b[39mn_operator(),\n\u001b[1;32m    141\u001b[0m         spectral_density\u001b[39m=\u001b[39mspectral_density_ci(qubit, R_0, T, R_k),\n\u001b[1;32m    142\u001b[0m         eigvecs\u001b[39m=\u001b[39mqubit\u001b[39m.\u001b[39mesys()[\u001b[39m1\u001b[39m],\n\u001b[1;32m    143\u001b[0m     )\n\u001b[1;32m    145\u001b[0m \u001b[39mif\u001b[39;00m \u001b[39m\"\u001b[39m\u001b[39mt1_inductive\u001b[39m\u001b[39m\"\u001b[39m \u001b[39min\u001b[39;00m noise_channels:\n\u001b[1;32m    146\u001b[0m     t1 \u001b[39m+\u001b[39m\u001b[39m=\u001b[39m t1_rate(\n\u001b[1;32m    147\u001b[0m         noise_op\u001b[39m=\u001b[39mqubit\u001b[39m.\u001b[39mphi_operator(),\n\u001b[0;32m--> 148\u001b[0m         spectral_density\u001b[39m=\u001b[39mspectral_density_ind(qubit, T),\n\u001b[1;32m    149\u001b[0m         eigvecs\u001b[39m=\u001b[39mqubit\u001b[39m.\u001b[39mesys()[\u001b[39m1\u001b[39m],\n\u001b[1;32m    150\u001b[0m     )\n\u001b[1;32m    152\u001b[0m \u001b[39mif\u001b[39;00m \u001b[39m\"\u001b[39m\u001b[39mt1_quasiparticle_tunneling\u001b[39m\u001b[39m\"\u001b[39m \u001b[39min\u001b[39;00m noise_channels:\n\u001b[1;32m    153\u001b[0m     t1 \u001b[39m+\u001b[39m\u001b[39m=\u001b[39m t1_rate(\n\u001b[1;32m    154\u001b[0m         noise_op\u001b[39m=\u001b[39mqubit\u001b[39m.\u001b[39msin_phi_operator(\n\u001b[1;32m    155\u001b[0m             alpha\u001b[39m=\u001b[39m\u001b[39m0.5\u001b[39m, beta\u001b[39m=\u001b[39m\u001b[39m0.5\u001b[39m \u001b[39m*\u001b[39m (\u001b[39m2\u001b[39m \u001b[39m*\u001b[39m np\u001b[39m.\u001b[39mpi \u001b[39m*\u001b[39m qubit\u001b[39m.\u001b[39mflux)\n\u001b[0;32m   (...)\u001b[0m\n\u001b[1;32m    158\u001b[0m         eigvecs\u001b[39m=\u001b[39mqubit\u001b[39m.\u001b[39mesys()[\u001b[39m1\u001b[39m],\n\u001b[1;32m    159\u001b[0m     )\n",
      "File \u001b[0;32m~/Documents/optimisation_of_superconduncting_circuits/core/general.py:285\u001b[0m, in \u001b[0;36mspectral_density_ind\u001b[0;34m(qubit, T)\u001b[0m\n\u001b[1;32m    284\u001b[0m \u001b[39mdef\u001b[39;00m \u001b[39mspectral_density_ind\u001b[39m(qubit, T: \u001b[39mfloat\u001b[39m \u001b[39m=\u001b[39m NOISE_PARAMS[\u001b[39m\"\u001b[39m\u001b[39mT\u001b[39m\u001b[39m\"\u001b[39m]):\n\u001b[0;32m--> 285\u001b[0m     therm_ratio \u001b[39m=\u001b[39m calc_therm_ratio(omega(qubit), T)\n\u001b[1;32m    287\u001b[0m     s \u001b[39m=\u001b[39m (\n\u001b[1;32m    288\u001b[0m         \u001b[39m2\u001b[39m\n\u001b[1;32m    289\u001b[0m         \u001b[39m*\u001b[39m qubit\u001b[39m.\u001b[39mEL\n\u001b[0;32m   (...)\u001b[0m\n\u001b[1;32m    292\u001b[0m         \u001b[39m/\u001b[39m (\u001b[39m1\u001b[39m \u001b[39m+\u001b[39m torch\u001b[39m.\u001b[39mexp(\u001b[39m-\u001b[39mtherm_ratio))\n\u001b[1;32m    293\u001b[0m     )\n\u001b[1;32m    294\u001b[0m     s \u001b[39m*\u001b[39m\u001b[39m=\u001b[39m \u001b[39m2\u001b[39m \u001b[39m*\u001b[39m np\u001b[39m.\u001b[39mpi  \u001b[39m# We assume that system energies are given in units of frequency\u001b[39;00m\n",
      "File \u001b[0;32m~/Documents/optimisation_of_superconduncting_circuits/core/general.py:57\u001b[0m, in \u001b[0;36momega\u001b[0;34m(qubit)\u001b[0m\n\u001b[1;32m     55\u001b[0m \u001b[39mdef\u001b[39;00m \u001b[39momega\u001b[39m(qubit) \u001b[39m-\u001b[39m\u001b[39m>\u001b[39m torch\u001b[39m.\u001b[39mTensor:\n\u001b[1;32m     56\u001b[0m     \u001b[39m# angular frequency between ground and excited states\u001b[39;00m\n\u001b[0;32m---> 57\u001b[0m     eigvals \u001b[39m=\u001b[39m qubit\u001b[39m.\u001b[39;49mesys()[\u001b[39m0\u001b[39m]\n\u001b[1;32m     58\u001b[0m     ground_E \u001b[39m=\u001b[39m eigvals[\u001b[39m0\u001b[39m]\n\u001b[1;32m     59\u001b[0m     excited_E \u001b[39m=\u001b[39m eigvals[\u001b[39m1\u001b[39m]\n",
      "File \u001b[0;32m~/Documents/optimisation_of_superconduncting_circuits/core/zeropi.py:113\u001b[0m, in \u001b[0;36mZeroPi.esys\u001b[0;34m(self)\u001b[0m\n\u001b[1;32m    111\u001b[0m \u001b[39mdef\u001b[39;00m \u001b[39mesys\u001b[39m(\u001b[39mself\u001b[39m):\n\u001b[1;32m    112\u001b[0m     \u001b[39mif\u001b[39;00m \u001b[39mself\u001b[39m\u001b[39m.\u001b[39mhamiltonian_creation \u001b[39m==\u001b[39m \u001b[39m\"\u001b[39m\u001b[39mcreate_H\u001b[39m\u001b[39m\"\u001b[39m:\n\u001b[0;32m--> 113\u001b[0m         eigvals, eigvecs \u001b[39m=\u001b[39m torch\u001b[39m.\u001b[39mlinalg\u001b[39m.\u001b[39meigh(\u001b[39mself\u001b[39;49m\u001b[39m.\u001b[39;49mcreate_H())\n\u001b[1;32m    114\u001b[0m     \u001b[39melif\u001b[39;00m \u001b[39mself\u001b[39m\u001b[39m.\u001b[39mhamiltonian_creation \u001b[39m==\u001b[39m \u001b[39m\"\u001b[39m\u001b[39mauto_H\u001b[39m\u001b[39m\"\u001b[39m:\n\u001b[1;32m    115\u001b[0m         eigvals, eigvecs \u001b[39m=\u001b[39m torch\u001b[39m.\u001b[39mlinalg\u001b[39m.\u001b[39meigh(\u001b[39mself\u001b[39m\u001b[39m.\u001b[39mauto_H())\n",
      "File \u001b[0;32m~/Documents/optimisation_of_superconduncting_circuits/core/zeropi.py:49\u001b[0m, in \u001b[0;36mZeroPi.create_H\u001b[0;34m(self)\u001b[0m\n\u001b[1;32m     45\u001b[0m \u001b[39mdef\u001b[39;00m \u001b[39mcreate_H\u001b[39m(\u001b[39mself\u001b[39m):\n\u001b[1;32m     46\u001b[0m     \u001b[39m# Calculates Hamiltonian in basis obtained by discretizing :math:`\\phi` and employing\u001b[39;00m\n\u001b[1;32m     47\u001b[0m     \u001b[39m# charge basis for :math:`\\theta`\u001b[39;00m\n\u001b[0;32m---> 49\u001b[0m     \u001b[39mreturn\u001b[39;00m \u001b[39mself\u001b[39;49m\u001b[39m.\u001b[39;49mkinetic_matrix() \u001b[39m+\u001b[39m \u001b[39mself\u001b[39m\u001b[39m.\u001b[39mpotential_matrix()\n",
      "File \u001b[0;32m~/Documents/optimisation_of_superconduncting_circuits/core/zeropi.py:300\u001b[0m, in \u001b[0;36mZeroPi.kinetic_matrix\u001b[0;34m(self)\u001b[0m\n\u001b[1;32m    298\u001b[0m identity_phi \u001b[39m=\u001b[39m torch\u001b[39m.\u001b[39meye(\u001b[39mself\u001b[39m\u001b[39m.\u001b[39mpt_count)\n\u001b[1;32m    299\u001b[0m identity_theta \u001b[39m=\u001b[39m torch\u001b[39m.\u001b[39meye(dim_theta)\n\u001b[0;32m--> 300\u001b[0m kinetic_matrix_phi \u001b[39m=\u001b[39m \u001b[39mself\u001b[39;49m\u001b[39m.\u001b[39;49msecond_derivative_matrix(prefactor\u001b[39m=\u001b[39;49m\u001b[39m-\u001b[39;49m\u001b[39m2.0\u001b[39;49m \u001b[39m*\u001b[39;49m \u001b[39mself\u001b[39;49m\u001b[39m.\u001b[39;49mECJ)\n\u001b[1;32m    302\u001b[0m diag_elements \u001b[39m=\u001b[39m (\n\u001b[1;32m    303\u001b[0m     \u001b[39m2.0\u001b[39m\n\u001b[1;32m    304\u001b[0m     \u001b[39m*\u001b[39m \u001b[39mself\u001b[39m\u001b[39m.\u001b[39mECS\n\u001b[1;32m    305\u001b[0m     \u001b[39m*\u001b[39m torch\u001b[39m.\u001b[39msquare(torch\u001b[39m.\u001b[39marange(\u001b[39m-\u001b[39m\u001b[39mself\u001b[39m\u001b[39m.\u001b[39mncut \u001b[39m+\u001b[39m \u001b[39mself\u001b[39m\u001b[39m.\u001b[39mng, \u001b[39mself\u001b[39m\u001b[39m.\u001b[39mncut \u001b[39m+\u001b[39m \u001b[39m1\u001b[39m \u001b[39m+\u001b[39m \u001b[39mself\u001b[39m\u001b[39m.\u001b[39mng))\n\u001b[1;32m    306\u001b[0m )\n\u001b[1;32m    308\u001b[0m \u001b[39m##THIS WONT WORK FOR COMPUTING GRAD\u001b[39;00m\n",
      "File \u001b[0;32m~/Documents/optimisation_of_superconduncting_circuits/core/zeropi.py:272\u001b[0m, in \u001b[0;36mZeroPi.second_derivative_matrix\u001b[0;34m(self, prefactor)\u001b[0m\n\u001b[1;32m    259\u001b[0m matrix_diagonals \u001b[39m=\u001b[39m [\n\u001b[1;32m    260\u001b[0m     coefficient \u001b[39m*\u001b[39m prefactor \u001b[39m/\u001b[39m delta_x\u001b[39m*\u001b[39m\u001b[39m*\u001b[39m\u001b[39m2\u001b[39m\n\u001b[1;32m    261\u001b[0m     \u001b[39mfor\u001b[39;00m coefficient \u001b[39min\u001b[39;00m [\n\u001b[0;32m   (...)\u001b[0m\n\u001b[1;32m    269\u001b[0m     ]\n\u001b[1;32m    270\u001b[0m ]\n\u001b[1;32m    271\u001b[0m offset \u001b[39m=\u001b[39m [i \u001b[39m-\u001b[39m (\u001b[39m7\u001b[39m \u001b[39m-\u001b[39m \u001b[39m1\u001b[39m) \u001b[39m/\u001b[39m\u001b[39m/\u001b[39m \u001b[39m2\u001b[39m \u001b[39mfor\u001b[39;00m i \u001b[39min\u001b[39;00m \u001b[39mrange\u001b[39m(\u001b[39m7\u001b[39m)]\n\u001b[0;32m--> 272\u001b[0m \u001b[39mreturn\u001b[39;00m \u001b[39mself\u001b[39;49m\u001b[39m.\u001b[39;49mband_matrix(matrix_diagonals, offset, \u001b[39mself\u001b[39;49m\u001b[39m.\u001b[39;49mpt_count, dtp, \u001b[39mFalse\u001b[39;49;00m)\n",
      "\u001b[0;31mTypeError\u001b[0m: band_matrix() takes 5 positional arguments but 6 were given"
     ]
    }
   ],
   "source": [
    "#Validating T2 Calcs Against SCQUBITS\n",
    "EJ = torch.tensor(10.00, requires_grad=True, dtype=torch.double)\n",
    "EL = torch.tensor(0.04, requires_grad=True, dtype=torch.double)\n",
    "ECJ = torch.tensor(20, requires_grad=True, dtype=torch.double)\n",
    "EC = torch.tensor(0.04, requires_grad=True, dtype=torch.double)\n",
    "dEJ = torch.tensor(0.0, requires_grad=True, dtype=torch.double)\n",
    "dCJ = torch.tensor(0.0, requires_grad=True, dtype=torch.double)\n",
    "flux = torch.tensor(0.23, requires_grad=True, dtype=torch.double)\n",
    "ng = 0.1\n",
    "ncut = 30\n",
    "truncated_dim = 10\n",
    "pt_count = 10\n",
    "min_val = -19\n",
    "max_val = 19\n",
    "hamiltonian_creation = 'create_H'\n",
    "\n",
    "zeropi = ZeroPi(EJ=EJ, \n",
    "                 EL=EL , \n",
    "                 ECJ=ECJ, \n",
    "                 EC=EC, \n",
    "                 dEJ=dEJ, \n",
    "                 dCJ=dCJ, \n",
    "                 flux=flux, \n",
    "                 ng=ng, \n",
    "                 ncut=ncut, \n",
    "                 truncated_dim=truncated_dim, \n",
    "                 pt_count=pt_count, \n",
    "                 min_val=min_val, \n",
    "                 max_val=max_val,\n",
    "                 hamiltonian_creation=hamiltonian_creation)\n",
    "\n",
    "zeropi_sc = sc.ZeroPi(\n",
    "            grid = sc.Grid1d(min_val=min_val, max_val=max_val, pt_count=pt_count),\n",
    "            EJ   = EJ.item(),\n",
    "            EL   = EL.item(), \n",
    "            ECJ  = ECJ.item(),\n",
    "            EC   = EC.item(),\n",
    "            ng   = ng,\n",
    "            flux = flux.item(),\n",
    "            ncut = ncut, \n",
    "            dEJ = dEJ.item(), \n",
    "            dCJ = dCJ.item())\n",
    "\n",
    "print(zeropi_sc.t1_inductive() *  general.effective_t1_rate(zeropi , \"t1_inductive\").item())\n",
    "print(zeropi_sc.t1_flux_bias_line() *  general.effective_t1_rate(zeropi , \"t1_flux_bias_line\").item())\n",
    "print(zeropi_sc.tphi_1_over_f_cc()  *  general.effective_tphi_rate(zeropi , \"tphi_1_over_f_cc\").item())\n",
    "print(zeropi_sc.tphi_1_over_f_flux() * general.effective_tphi_rate(zeropi , \"tphi_1_over_f_flux\").item())\n",
    "\n",
    "print('____')\n",
    "\n",
    "print(zeropi_sc.t1_flux_bias_line())\n",
    "print( 1/general.effective_t1_rate(zeropi , \"t1_flux_bias_line\").item())\n"
   ]
  },
  {
   "cell_type": "code",
   "execution_count": null,
   "metadata": {},
   "outputs": [
    {
     "data": {
      "text/plain": [
       "tensor([[2.6648e-05]], dtype=torch.float64, grad_fn=<AddBackward0>)"
      ]
     },
     "execution_count": 3,
     "metadata": {},
     "output_type": "execute_result"
    }
   ],
   "source": [
    "general.effective_t1_rate(zeropi , \"t1_inductive\")\n",
    "general.effective_tphi_rate(zeropi , zeropi.tphi_supported_noise_channels())\n",
    "general.t2_rate(zeropi , zeropi.t1_supported_noise_channels(), zeropi.tphi_supported_noise_channels())"
   ]
  },
  {
   "cell_type": "code",
   "execution_count": null,
   "metadata": {},
   "outputs": [],
   "source": []
  },
  {
   "cell_type": "code",
   "execution_count": null,
   "metadata": {},
   "outputs": [],
   "source": [
    "#Optimisation\n",
    "\n",
    "#VARIABLE PARAMS\n",
    "EJ = torch.tensor(10.00, requires_grad=True, dtype=torch.double)\n",
    "EL = torch.tensor(0.04, requires_grad=True, dtype=torch.double)\n",
    "ECJ = torch.tensor(20, requires_grad=True, dtype=torch.double)\n",
    "EC = torch.tensor(0.04, requires_grad=True, dtype=torch.double)\n",
    "dEJ = torch.tensor(0.0, requires_grad=True, dtype=torch.double)\n",
    "dCJ = torch.tensor(0.0, requires_grad=True, dtype=torch.double)\n",
    "flux = torch.tensor(0.23, requires_grad=True, dtype=torch.double)\n",
    "\n",
    "#FIXED PARAMS\n",
    "ng = 0.1\n",
    "ncut = 30\n",
    "truncated_dim = 10\n",
    "pt_count = 10\n",
    "min_val = -19\n",
    "max_val = 19\n",
    "hamiltonian_creation = 'auto_H'\n",
    "\n",
    "zeropi = ZeroPi(EJ=EJ, \n",
    "                 EL=EL , \n",
    "                 ECJ=ECJ, \n",
    "                 EC=EC, \n",
    "                 dEJ=dEJ, \n",
    "                 dCJ=dCJ, \n",
    "                 flux=flux, \n",
    "                 ng=ng, \n",
    "                 ncut=ncut, \n",
    "                 truncated_dim=truncated_dim, \n",
    "                 pt_count=pt_count, \n",
    "                 min_val=min_val, \n",
    "                 max_val=max_val,\n",
    "                 hamiltonian_creation=hamiltonian_creation)\n",
    "\n",
    "#RECORDING VALUES\n",
    "EJ_vals = [EJ.item()]\n",
    "EC_vals = [EC.item()]\n",
    "EL_vals = [EL.item()]\n",
    "R2_rate = [1e100, 1e99]\n",
    "\n",
    "# GRADIENT DESCENT\n",
    "i = 0\n",
    "while R2_rate[-1] < R2_rate[-2]:\n",
    "    i+=1\n",
    "\n",
    "    fluxonium = ZeroPi(EJ, EC, EL, flux, dim, 'create_H')\n",
    "    R2  = general.t2_rate(fluxonium, fluxonium.t1_supported_noise_channels(), fluxonium.tphi_supported_noise_channels())\n",
    "    R2_rate.append(R2.item())\n",
    "\n",
    "    R2.backward()\n",
    "    with torch.no_grad():\n",
    "        #If paramater value drops below lower bound, it will remain on the lower bound\n",
    "        ##WHY DO WE - the gradient and not add?\n",
    "        EJ.data = EJ - EJ.grad*learn_rate if EJ - EJ.grad*learn_rate > EJ_bounds[0] else torch.tensor(EJ_bounds[0])\n",
    "        EL.data = EL - EL.grad*learn_rate if EL - EL.grad*learn_rate > EL_bounds[0] else torch.tensor(EL_bounds[0])\n",
    "        EC.data = EC - EC.grad*learn_rate if EC - EC.grad*learn_rate > EC_bounds[0] else torch.tensor(EC_bounds[0])\n",
    "    \n",
    "    #RECORDING VALUES FOR PLOT\n",
    "    EJ_vals.append(EJ.item())\n",
    "    EC_vals.append(EC.item())\n",
    "    EL_vals.append(EL.item())\n",
    "\n",
    "        \n",
    "    print(f\"{i}: R2: {R2.item()}, EJ: {EJ.item()}, EL: {EL.item()}, EC: {EC.item()}\")\n"
   ]
  }
 ],
 "metadata": {
  "kernelspec": {
   "display_name": "venv",
   "language": "python",
   "name": "python3"
  },
  "language_info": {
   "codemirror_mode": {
    "name": "ipython",
    "version": 3
   },
   "file_extension": ".py",
   "mimetype": "text/x-python",
   "name": "python",
   "nbconvert_exporter": "python",
   "pygments_lexer": "ipython3",
   "version": "3.8.6"
  },
  "orig_nbformat": 4
 },
 "nbformat": 4,
 "nbformat_minor": 2
}
