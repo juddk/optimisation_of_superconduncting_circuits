{
 "cells": [
  {
   "cell_type": "code",
   "execution_count": 1,
   "metadata": {},
   "outputs": [],
   "source": [
    "import torch\n",
    "import numpy as np\n",
    "import scipy as sp\n",
    "import sys\n",
    "sys.path.append('/Users/judd/Documents/optimisation_of_superconduncting_circuits/core')\n",
    "from zeropi import ZeroPi\n",
    "import general as general\n",
    "import scqubits as sc\n"
   ]
  },
  {
   "cell_type": "code",
   "execution_count": 2,
   "metadata": {},
   "outputs": [],
   "source": [
    "#Validating T2 Calcs Against SCQUBITS\n",
    "EJ = torch.tensor(10.00, requires_grad=True, dtype=torch.double)\n",
    "EL = torch.tensor(0.04, requires_grad=True, dtype=torch.double)\n",
    "ECJ = torch.tensor(20, requires_grad=True, dtype=torch.double)\n",
    "EC = torch.tensor(0.04, requires_grad=True, dtype=torch.double)\n",
    "dEJ = torch.tensor(0.0, requires_grad=True, dtype=torch.double)\n",
    "dCJ = torch.tensor(0.0, requires_grad=True, dtype=torch.double)\n",
    "ECS= torch.tensor(0.1, requires_grad=True, dtype=torch.double)\n",
    "phi_ext = torch.tensor(0.23, requires_grad=True, dtype=torch.double)\n",
    "varphi_ext = torch.tensor(0.23, requires_grad=True, dtype=torch.double)\n",
    "ng = 0.1\n",
    "ncut = 30\n",
    "truncated_dim = 10\n",
    "pt_count = 10\n",
    "min_val = -19\n",
    "max_val = 19\n",
    "hamiltonian_creation_solution = \"manual_discretization_davidson\"\n",
    "\n",
    "zeropi = ZeroPi(EJ=EJ, \n",
    "                 EL=EL , \n",
    "                 ECJ=ECJ, \n",
    "                 EC=EC, \n",
    "                 dEJ=dEJ,\n",
    "                 ECS = ECS, \n",
    "                 dCJ=dCJ, \n",
    "                 phi_ext = phi_ext, \n",
    "                 varphi_ext = varphi_ext,\n",
    "                 ng=ng, \n",
    "                 ncut=ncut, \n",
    "                 truncated_dim=truncated_dim, \n",
    "                 pt_count=pt_count, \n",
    "                 min_val=min_val, \n",
    "                 max_val=max_val,\n",
    "                 hamiltonian_creation_solution=hamiltonian_creation_solution)\n",
    "\n",
    "zeropi_sc = sc.ZeroPi(\n",
    "            grid = sc.Grid1d(min_val=min_val, max_val=max_val, pt_count=pt_count),\n",
    "            EJ   = EJ.item(),\n",
    "            EL   = EL.item(), \n",
    "            ECJ  = ECJ.item(),\n",
    "            EC   = EC.item(),\n",
    "            ng   = ng,\n",
    "            flux = phi_ext.item(),\n",
    "            ncut = ncut, \n",
    "            dEJ = dEJ.item(), \n",
    "            dCJ = dCJ.item())\n",
    "\n"
   ]
  },
  {
   "cell_type": "code",
   "execution_count": null,
   "metadata": {},
   "outputs": [],
   "source": [
    "print(zeropi_sc.t1_inductive() *  general.effective_t1_rate(zeropi , \"t1_inductive\").item())\n",
    "print(zeropi_sc.t1_flux_bias_line() *  general.effective_t1_rate(zeropi , \"t1_flux_bias_line\").item())\n",
    "print(zeropi_sc.tphi_1_over_f_cc()  *  general.effective_tphi_rate(zeropi , \"tphi_1_over_f_cc\").item())\n",
    "print(zeropi_sc.tphi_1_over_f_flux() * general.effective_tphi_rate(zeropi , \"tphi_1_over_f_flux\").item())\n",
    "\n",
    "print('____')\n",
    "\n",
    "print(zeropi_sc.t1_flux_bias_line())\n",
    "print( 1/general.effective_t1_rate(zeropi , \"t1_flux_bias_line\").item())\n"
   ]
  },
  {
   "cell_type": "code",
   "execution_count": 4,
   "metadata": {},
   "outputs": [
    {
     "name": "stderr",
     "output_type": "stream",
     "text": [
      "UserWarning: To copy construct from a tensor, it is recommended to use sourceTensor.clone().detach() or sourceTensor.clone().detach().requires_grad_(True), rather than torch.tensor(sourceTensor).\n",
      " /Users/judd/Documents/optimisation_of_superconduncting_circuits/core/zeropi.py: 92UserWarning: To copy construct from a tensor, it is recommended to use sourceTensor.clone().detach() or sourceTensor.clone().detach().requires_grad_(True), rather than torch.tensor(sourceTensor).\n",
      " /Users/judd/Documents/optimisation_of_superconduncting_circuits/core/zeropi.py: 93UserWarning: To copy construct from a tensor, it is recommended to use sourceTensor.clone().detach() or sourceTensor.clone().detach().requires_grad_(True), rather than torch.tensor(sourceTensor).\n",
      " /Users/judd/Documents/optimisation_of_superconduncting_circuits/core/zeropi.py: 94UserWarning: To copy construct from a tensor, it is recommended to use sourceTensor.clone().detach() or sourceTensor.clone().detach().requires_grad_(True), rather than torch.tensor(sourceTensor).\n",
      " /Users/judd/Documents/optimisation_of_superconduncting_circuits/core/zeropi.py: 101UserWarning: To copy construct from a tensor, it is recommended to use sourceTensor.clone().detach() or sourceTensor.clone().detach().requires_grad_(True), rather than torch.tensor(sourceTensor).\n",
      " /Users/judd/Documents/optimisation_of_superconduncting_circuits/core/zeropi.py: 102UserWarning: To copy construct from a tensor, it is recommended to use sourceTensor.clone().detach() or sourceTensor.clone().detach().requires_grad_(True), rather than torch.tensor(sourceTensor).\n",
      " /Users/judd/Documents/optimisation_of_superconduncting_circuits/core/zeropi.py: 105"
     ]
    },
    {
     "ename": "NameError",
     "evalue": "name 'val' is not defined",
     "output_type": "error",
     "traceback": [
      "\u001b[0;31m---------------------------------------------------------------------------\u001b[0m",
      "\u001b[0;31mNameError\u001b[0m                                 Traceback (most recent call last)",
      "Cell \u001b[0;32mIn[4], line 3\u001b[0m\n\u001b[1;32m      1\u001b[0m vals, vecs \u001b[39m=\u001b[39m zeropi\u001b[39m.\u001b[39mesys()\n\u001b[0;32m----> 3\u001b[0m dE \u001b[39m=\u001b[39m val[\u001b[39m1\u001b[39m] \u001b[39m-\u001b[39m val[\u001b[39m0\u001b[39m]\n\u001b[1;32m      4\u001b[0m dE\u001b[39m.\u001b[39mbackward()\n\u001b[1;32m      5\u001b[0m \u001b[39mprint\u001b[39m(EL\u001b[39m.\u001b[39mgrad)\n",
      "\u001b[0;31mNameError\u001b[0m: name 'val' is not defined"
     ]
    }
   ],
   "source": [
    "vals, vecs = zeropi.esys()\n",
    "\n"
   ]
  },
  {
   "cell_type": "code",
   "execution_count": 5,
   "metadata": {},
   "outputs": [
    {
     "name": "stdout",
     "output_type": "stream",
     "text": [
      "tensor(0.0005, dtype=torch.float64)\n",
      "tensor(1.3011e-05, dtype=torch.float64)\n"
     ]
    }
   ],
   "source": [
    "dE = vals[1] - vals[0]\n",
    "dE.backward()\n",
    "print(EL.grad)\n",
    "print(EJ.grad)\n"
   ]
  },
  {
   "cell_type": "code",
   "execution_count": null,
   "metadata": {},
   "outputs": [
    {
     "data": {
      "text/plain": [
       "tensor([[2.6648e-05]], dtype=torch.float64, grad_fn=<AddBackward0>)"
      ]
     },
     "execution_count": 4,
     "metadata": {},
     "output_type": "execute_result"
    }
   ],
   "source": [
    "general.effective_t1_rate(zeropi , \"t1_inductive\")\n",
    "general.effective_tphi_rate(zeropi , zeropi.tphi_supported_noise_channels())\n",
    "general.t2_rate(zeropi , zeropi.t1_supported_noise_channels(), zeropi.tphi_supported_noise_channels())"
   ]
  },
  {
   "cell_type": "code",
   "execution_count": null,
   "metadata": {},
   "outputs": [
    {
     "ename": "TypeError",
     "evalue": "__init__() got an unexpected keyword argument 'flux'",
     "output_type": "error",
     "traceback": [
      "\u001b[0;31m---------------------------------------------------------------------------\u001b[0m",
      "\u001b[0;31mTypeError\u001b[0m                                 Traceback (most recent call last)",
      "Cell \u001b[0;32mIn[5], line 21\u001b[0m\n\u001b[1;32m     18\u001b[0m max_val \u001b[39m=\u001b[39m \u001b[39m19\u001b[39m\n\u001b[1;32m     19\u001b[0m hamiltonian_creation \u001b[39m=\u001b[39m \u001b[39m'\u001b[39m\u001b[39mauto_H\u001b[39m\u001b[39m'\u001b[39m\n\u001b[0;32m---> 21\u001b[0m zeropi \u001b[39m=\u001b[39m ZeroPi(EJ\u001b[39m=\u001b[39;49mEJ, \n\u001b[1;32m     22\u001b[0m                  EL\u001b[39m=\u001b[39;49mEL , \n\u001b[1;32m     23\u001b[0m                  ECJ\u001b[39m=\u001b[39;49mECJ, \n\u001b[1;32m     24\u001b[0m                  EC\u001b[39m=\u001b[39;49mEC, \n\u001b[1;32m     25\u001b[0m                  dEJ\u001b[39m=\u001b[39;49mdEJ, \n\u001b[1;32m     26\u001b[0m                  dCJ\u001b[39m=\u001b[39;49mdCJ, \n\u001b[1;32m     27\u001b[0m                  flux\u001b[39m=\u001b[39;49mflux, \n\u001b[1;32m     28\u001b[0m                  ng\u001b[39m=\u001b[39;49mng, \n\u001b[1;32m     29\u001b[0m                  ncut\u001b[39m=\u001b[39;49mncut, \n\u001b[1;32m     30\u001b[0m                  truncated_dim\u001b[39m=\u001b[39;49mtruncated_dim, \n\u001b[1;32m     31\u001b[0m                  pt_count\u001b[39m=\u001b[39;49mpt_count, \n\u001b[1;32m     32\u001b[0m                  min_val\u001b[39m=\u001b[39;49mmin_val, \n\u001b[1;32m     33\u001b[0m                  max_val\u001b[39m=\u001b[39;49mmax_val,\n\u001b[1;32m     34\u001b[0m                  hamiltonian_creation\u001b[39m=\u001b[39;49mhamiltonian_creation)\n\u001b[1;32m     36\u001b[0m \u001b[39m#RECORDING VALUES\u001b[39;00m\n\u001b[1;32m     37\u001b[0m EJ_vals \u001b[39m=\u001b[39m [EJ\u001b[39m.\u001b[39mitem()]\n",
      "\u001b[0;31mTypeError\u001b[0m: __init__() got an unexpected keyword argument 'flux'"
     ]
    }
   ],
   "source": [
    "#Optimisation\n",
    "\n",
    "#VARIABLE PARAMS\n",
    "EJ = torch.tensor(10.00, requires_grad=True, dtype=torch.double)\n",
    "EL = torch.tensor(0.04, requires_grad=True, dtype=torch.double)\n",
    "ECJ = torch.tensor(20, requires_grad=True, dtype=torch.double)\n",
    "EC = torch.tensor(0.04, requires_grad=True, dtype=torch.double)\n",
    "dEJ = torch.tensor(0.0, requires_grad=True, dtype=torch.double)\n",
    "dCJ = torch.tensor(0.0, requires_grad=True, dtype=torch.double)\n",
    "flux = torch.tensor(0.23, requires_grad=True, dtype=torch.double)\n",
    "\n",
    "#FIXED PARAMS\n",
    "ng = 0.1\n",
    "ncut = 30\n",
    "truncated_dim = 10\n",
    "pt_count = 10\n",
    "min_val = -19\n",
    "max_val = 19\n",
    "hamiltonian_creation = 'auto_H'\n",
    "\n",
    "zeropi = ZeroPi(EJ=EJ, \n",
    "                 EL=EL , \n",
    "                 ECJ=ECJ, \n",
    "                 EC=EC, \n",
    "                 dEJ=dEJ, \n",
    "                 dCJ=dCJ, \n",
    "                 flux=flux, \n",
    "                 ng=ng, \n",
    "                 ncut=ncut, \n",
    "                 truncated_dim=truncated_dim, \n",
    "                 pt_count=pt_count, \n",
    "                 min_val=min_val, \n",
    "                 max_val=max_val,\n",
    "                 hamiltonian_creation=hamiltonian_creation)\n",
    "\n",
    "#RECORDING VALUES\n",
    "EJ_vals = [EJ.item()]\n",
    "EC_vals = [EC.item()]\n",
    "EL_vals = [EL.item()]\n",
    "R2_rate = [1e100, 1e99]\n",
    "\n",
    "# GRADIENT DESCENT\n",
    "i = 0\n",
    "while R2_rate[-1] < R2_rate[-2]:\n",
    "    i+=1\n",
    "\n",
    "    fluxonium = ZeroPi(EJ, EC, EL, flux, dim, 'create_H')\n",
    "    R2  = general.t2_rate(fluxonium, fluxonium.t1_supported_noise_channels(), fluxonium.tphi_supported_noise_channels())\n",
    "    R2_rate.append(R2.item())\n",
    "\n",
    "    R2.backward()\n",
    "    with torch.no_grad():\n",
    "        #If paramater value drops below lower bound, it will remain on the lower bound\n",
    "        ##WHY DO WE - the gradient and not add?\n",
    "        EJ.data = EJ - EJ.grad*learn_rate if EJ - EJ.grad*learn_rate > EJ_bounds[0] else torch.tensor(EJ_bounds[0])\n",
    "        EL.data = EL - EL.grad*learn_rate if EL - EL.grad*learn_rate > EL_bounds[0] else torch.tensor(EL_bounds[0])\n",
    "        EC.data = EC - EC.grad*learn_rate if EC - EC.grad*learn_rate > EC_bounds[0] else torch.tensor(EC_bounds[0])\n",
    "    \n",
    "    #RECORDING VALUES FOR PLOT\n",
    "    EJ_vals.append(EJ.item())\n",
    "    EC_vals.append(EC.item())\n",
    "    EL_vals.append(EL.item())\n",
    "\n",
    "        \n",
    "    print(f\"{i}: R2: {R2.item()}, EJ: {EJ.item()}, EL: {EL.item()}, EC: {EC.item()}\")\n"
   ]
  }
 ],
 "metadata": {
  "kernelspec": {
   "display_name": "venv",
   "language": "python",
   "name": "python3"
  },
  "language_info": {
   "codemirror_mode": {
    "name": "ipython",
    "version": 3
   },
   "file_extension": ".py",
   "mimetype": "text/x-python",
   "name": "python",
   "nbconvert_exporter": "python",
   "pygments_lexer": "ipython3",
   "version": "3.8.6"
  },
  "orig_nbformat": 4
 },
 "nbformat": 4,
 "nbformat_minor": 2
}
