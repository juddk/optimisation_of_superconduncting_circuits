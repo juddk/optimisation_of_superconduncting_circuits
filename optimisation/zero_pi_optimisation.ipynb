{
 "cells": [
  {
   "cell_type": "code",
   "execution_count": 1,
   "metadata": {},
   "outputs": [],
   "source": [
    "import torch\n",
    "import numpy as np\n",
    "import scipy as sp\n",
    "import sys\n",
    "sys.path.append('/Users/judd/Documents/optimisation_of_superconduncting_circuits/core')\n",
    "from zeropi import ZeroPi\n",
    "import general as general\n",
    "import scqubits as sc\n"
   ]
  },
  {
   "cell_type": "code",
   "execution_count": 2,
   "metadata": {},
   "outputs": [
    {
     "ename": "AttributeError",
     "evalue": "'float' object has no attribute 'item'",
     "output_type": "error",
     "traceback": [
      "\u001b[0;31m---------------------------------------------------------------------------\u001b[0m",
      "\u001b[0;31mAttributeError\u001b[0m                            Traceback (most recent call last)",
      "Cell \u001b[0;32mIn[2], line 21\u001b[0m\n\u001b[1;32m     16\u001b[0m hamiltonian_creation \u001b[39m=\u001b[39m \u001b[39m'\u001b[39m\u001b[39mauto_H\u001b[39m\u001b[39m'\u001b[39m\n\u001b[1;32m     19\u001b[0m zeropi \u001b[39m=\u001b[39m ZeroPi(EJ, EL, ECJ, EC, dEJ, dCJ, ng, flux, ncut, truncated_dim, pt_count, min_val, max_val, hamiltonian_creation)\n\u001b[0;32m---> 21\u001b[0m general\u001b[39m.\u001b[39;49meffective_t1_rate(zeropi , \u001b[39m\"\u001b[39;49m\u001b[39mt1_inductive\u001b[39;49m\u001b[39m\"\u001b[39;49m)\n\u001b[1;32m     22\u001b[0m general\u001b[39m.\u001b[39meffective_tphi_rate(zeropi , zeropi\u001b[39m.\u001b[39mtphi_supported_noise_channels())\n\u001b[1;32m     23\u001b[0m general\u001b[39m.\u001b[39mt2(zeropi , zeropi\u001b[39m.\u001b[39mt1_supported_noise_channels(), zeropi\u001b[39m.\u001b[39mtphi_supported_noise_channels())\n",
      "File \u001b[0;32m~/Documents/optimisation_of_superconduncting_circuits/core/general.py:108\u001b[0m, in \u001b[0;36meffective_t1_rate\u001b[0;34m(qubit, noise_channels, T, M, R_0, R_k)\u001b[0m\n\u001b[1;32m     98\u001b[0m \u001b[39mdef\u001b[39;00m \u001b[39meffective_t1_rate\u001b[39m(\n\u001b[1;32m     99\u001b[0m \n\u001b[1;32m    100\u001b[0m           qubit, \n\u001b[0;32m   (...)\u001b[0m\n\u001b[1;32m    105\u001b[0m           R_k: \u001b[39mfloat\u001b[39m \u001b[39m=\u001b[39m NOISE_PARAMS[\u001b[39m'\u001b[39m\u001b[39mR_k\u001b[39m\u001b[39m'\u001b[39m]\n\u001b[1;32m    106\u001b[0m           ):\n\u001b[0;32m--> 108\u001b[0m     eigvals,eigvecs \u001b[39m=\u001b[39m qubit\u001b[39m.\u001b[39;49mesys()\n\u001b[1;32m    110\u001b[0m     t1_rate \u001b[39m=\u001b[39m torch\u001b[39m.\u001b[39mzeros([\u001b[39m1\u001b[39m,\u001b[39m1\u001b[39m],dtype\u001b[39m=\u001b[39mtorch\u001b[39m.\u001b[39mdouble)\n\u001b[1;32m    112\u001b[0m     \u001b[39mif\u001b[39;00m \u001b[39m\"\u001b[39m\u001b[39mt1_capacitive\u001b[39m\u001b[39m\"\u001b[39m \u001b[39min\u001b[39;00m noise_channels:\n",
      "File \u001b[0;32m~/Documents/optimisation_of_superconduncting_circuits/core/zeropi.py:102\u001b[0m, in \u001b[0;36mZeroPi.esys\u001b[0;34m(self)\u001b[0m\n\u001b[1;32m    100\u001b[0m     eigvals,eigvecs \u001b[39m=\u001b[39m torch\u001b[39m.\u001b[39mlinalg\u001b[39m.\u001b[39meigh(\u001b[39mself\u001b[39m\u001b[39m.\u001b[39mcreate_H())\n\u001b[1;32m    101\u001b[0m \u001b[39melif\u001b[39;00m \u001b[39mself\u001b[39m\u001b[39m.\u001b[39mhamiltonian_creation \u001b[39m==\u001b[39m \u001b[39m'\u001b[39m\u001b[39mauto_H\u001b[39m\u001b[39m'\u001b[39m:\n\u001b[0;32m--> 102\u001b[0m     eigvals,eigvecs \u001b[39m=\u001b[39m torch\u001b[39m.\u001b[39mlinalg\u001b[39m.\u001b[39meigh(\u001b[39mself\u001b[39;49m\u001b[39m.\u001b[39;49mauto_H())\n\u001b[1;32m    103\u001b[0m \u001b[39mreturn\u001b[39;00m eigvals,eigvecs\n",
      "File \u001b[0;32m~/Documents/optimisation_of_superconduncting_circuits/core/zeropi.py:91\u001b[0m, in \u001b[0;36mZeroPi.auto_H\u001b[0;34m(self)\u001b[0m\n\u001b[1;32m     83\u001b[0m \u001b[39mdef\u001b[39;00m \u001b[39mauto_H\u001b[39m(\u001b[39mself\u001b[39m):\n\u001b[1;32m     84\u001b[0m     create_qubit \u001b[39m=\u001b[39m sc\u001b[39m.\u001b[39mZeroPi(\n\u001b[1;32m     85\u001b[0m         grid \u001b[39m=\u001b[39m sc\u001b[39m.\u001b[39mGrid1d(min_val\u001b[39m=\u001b[39m \u001b[39mself\u001b[39m\u001b[39m.\u001b[39mmin_val, max_val\u001b[39m=\u001b[39m\u001b[39mself\u001b[39m\u001b[39m.\u001b[39mmax_val, pt_count\u001b[39m=\u001b[39m\u001b[39mself\u001b[39m\u001b[39m.\u001b[39mpt_count),\n\u001b[1;32m     86\u001b[0m         EJ   \u001b[39m=\u001b[39m \u001b[39mself\u001b[39m\u001b[39m.\u001b[39mEJ\u001b[39m.\u001b[39mitem(),\n\u001b[1;32m     87\u001b[0m         EL   \u001b[39m=\u001b[39m \u001b[39mself\u001b[39m\u001b[39m.\u001b[39mEL\u001b[39m.\u001b[39mitem(), \n\u001b[1;32m     88\u001b[0m         ECJ  \u001b[39m=\u001b[39m \u001b[39mself\u001b[39m\u001b[39m.\u001b[39mECJ\u001b[39m.\u001b[39mitem(),\n\u001b[1;32m     89\u001b[0m         EC   \u001b[39m=\u001b[39m \u001b[39mself\u001b[39m\u001b[39m.\u001b[39mEC\u001b[39m.\u001b[39mitem(),\n\u001b[1;32m     90\u001b[0m         ng   \u001b[39m=\u001b[39m \u001b[39mself\u001b[39m\u001b[39m.\u001b[39mng,\n\u001b[0;32m---> 91\u001b[0m         flux \u001b[39m=\u001b[39m \u001b[39mself\u001b[39;49m\u001b[39m.\u001b[39;49mflux\u001b[39m.\u001b[39;49mitem(),\n\u001b[1;32m     92\u001b[0m         ncut \u001b[39m=\u001b[39m \u001b[39mself\u001b[39m\u001b[39m.\u001b[39mncut, \n\u001b[1;32m     93\u001b[0m         dEJ \u001b[39m=\u001b[39m \u001b[39mself\u001b[39m\u001b[39m.\u001b[39mdEJ, \n\u001b[1;32m     94\u001b[0m         dCJ \u001b[39m=\u001b[39m \u001b[39mself\u001b[39m\u001b[39m.\u001b[39mdCJ,\n\u001b[1;32m     95\u001b[0m     )\n\u001b[1;32m     96\u001b[0m     \u001b[39mreturn\u001b[39;00m torch\u001b[39m.\u001b[39mfrom_numpy(create_qubit\u001b[39m.\u001b[39mhamiltonian()\u001b[39m.\u001b[39mtoarray())\n",
      "\u001b[0;31mAttributeError\u001b[0m: 'float' object has no attribute 'item'"
     ]
    }
   ],
   "source": [
    "#Computing T2\n",
    "EJ = torch.tensor(10.00, requires_grad=True, dtype=torch.double)\n",
    "EL = torch.tensor(10.00, requires_grad=True, dtype=torch.double)\n",
    "ECJ = torch.tensor(0.5, requires_grad=True, dtype=torch.double)\n",
    "EC = torch.tensor(2.5, requires_grad=True, dtype=torch.double)\n",
    "dEJ = torch.tensor(2.5, requires_grad=True, dtype=torch.double)\n",
    "dCJ = torch.tensor(2.5, requires_grad=True, dtype=torch.double)\n",
    "flux = torch.tensor(0.5, requires_grad=True, dtype=torch.double)\n",
    "\n",
    "ng = 0.1\n",
    "ncut = 30\n",
    "truncated_dim = 10\n",
    "pt_count = 10\n",
    "min_val = -6*np.pi\n",
    "max_val = 6*np.pi\n",
    "hamiltonian_creation = 'auto_H'\n",
    "\n",
    "\n",
    "zeropi = ZeroPi(EJ, EL, ECJ, EC, dEJ, dCJ, ng, flux, ncut, truncated_dim, pt_count, min_val, max_val, hamiltonian_creation)\n",
    "\n",
    "general.effective_t1_rate(zeropi , \"t1_inductive\")\n",
    "general.effective_tphi_rate(zeropi , zeropi.tphi_supported_noise_channels())\n",
    "general.t2(zeropi , zeropi.t1_supported_noise_channels(), zeropi.tphi_supported_noise_channels())\n"
   ]
  },
  {
   "cell_type": "code",
   "execution_count": null,
   "metadata": {},
   "outputs": [
    {
     "name": "stdout",
     "output_type": "stream",
     "text": [
      "-1000764728.5215592\n",
      "-9.260424485961967e+26\n",
      "-3.474997356534004e-08\n",
      "1.3747485354542732e-06\n"
     ]
    }
   ],
   "source": [
    "#compare my pytorch computations to scqubits\n",
    "zeropi_sc = sc.ZeroPi(\n",
    "            grid = sc.Grid1d(min_val=min_val, max_val=max_val, pt_count=pt_count),\n",
    "            EJ   = EJ.item(),\n",
    "            EL   = EL.item(), \n",
    "            ECJ  = ECJ.item(),\n",
    "            EC   = EC.item(),\n",
    "            ng   = ng,\n",
    "            flux = flux.item(),\n",
    "            ncut = ncut, \n",
    "            dEJ = dEJ, \n",
    "            dCJ = dCJ)\n",
    "\n",
    "print(zeropi_sc.t1_inductive() - 1/general.effective_t1_rate(zeropi , \"t1_inductive\").item())\n",
    "print(zeropi_sc.t1_flux_bias_line() - 1/general.effective_t1_rate(zeropi , \"t1_flux_bias_line\").item())\n",
    "print(zeropi_sc.tphi_1_over_f_cc() - 1/general.effective_tphi_rate(zeropi , \"tphi_1_over_f_cc\").item())\n",
    "print(zeropi_sc.tphi_1_over_f_flux() - 1/general.effective_tphi_rate(zeropi , \"tphi_1_over_f_flux()\").item())"
   ]
  }
 ],
 "metadata": {
  "kernelspec": {
   "display_name": "venv",
   "language": "python",
   "name": "python3"
  },
  "language_info": {
   "codemirror_mode": {
    "name": "ipython",
    "version": 3
   },
   "file_extension": ".py",
   "mimetype": "text/x-python",
   "name": "python",
   "nbconvert_exporter": "python",
   "pygments_lexer": "ipython3",
   "version": "3.8.6"
  },
  "orig_nbformat": 4
 },
 "nbformat": 4,
 "nbformat_minor": 2
}
