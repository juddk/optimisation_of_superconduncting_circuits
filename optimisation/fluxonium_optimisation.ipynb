{
 "cells": [
  {
   "cell_type": "code",
   "execution_count": 7,
   "metadata": {},
   "outputs": [],
   "source": [
    "\n",
    "import torch\n",
    "import numpy as np\n",
    "import scipy as sp\n",
    "import sys\n",
    "sys.path.append('/Users/judd/Documents/optimisation_of_superconduncting_circuits/core')\n",
    "from fluxonium import Fluxonium \n",
    "import general as general\n"
   ]
  },
  {
   "cell_type": "code",
   "execution_count": 8,
   "metadata": {},
   "outputs": [],
   "source": [
    "#GLOBAL PARAMETERS\n",
    "R_k = sp.constants.h / (sp.constants.e**2.0)\n",
    "omega_low = 1e-9 * 2 * np.pi  # Low frequency cutoff. Units: 2pi GHz\n",
    "omega_high = 3 * 2 * np.pi  # High frequency cutoff. Units: 2pi GHz\n",
    "t_exp = 1e4  #Measurement time. Units: ns\n",
    "A_cc = 1e-7 # Critical current noise strength. Units of critical current I_c\n",
    "A_flux = 1e-6   # Flux noise strength. Units: Phi_0\n",
    "M= 400  # Mutual inductance between qubit and a flux line. Units: \\Phi_0 / Ampere\n",
    "R_0 = 50 # Characteristic impedance of a transmission line. Units: ohms\n",
    "T = 0.015 # Typical temperature for a superconducting circuit experiment. Units: K\n",
    "\n"
   ]
  },
  {
   "cell_type": "code",
   "execution_count": 10,
   "metadata": {},
   "outputs": [
    {
     "data": {
      "text/plain": [
       "tensor([[4952760.4323]], dtype=torch.float64)"
      ]
     },
     "execution_count": 10,
     "metadata": {},
     "output_type": "execute_result"
    }
   ],
   "source": [
    "EJ = 10\n",
    "EC = 2.5\n",
    "EL = 1.4\n",
    "flux = 0.5\n",
    "dim = 55\n",
    "\n",
    "\n",
    "fluxonium = Fluxonium(EJ, EC, EL, flux, dim, 'auto_H')\n",
    "fluxonium2 = Fluxonium(EJ, EC, EL, flux, dim, 'create_H')\n",
    "\n",
    "\n",
    "def effective_t1_time(fluxonium):\n",
    "\n",
    "    eigvals,eigvecs = fluxonium.esys()\n",
    "\n",
    "    t1_rate = torch.zeros([1,1],dtype=torch.double)\n",
    "\n",
    "    #t1_capacitive\n",
    "\n",
    "    t1_rate += general.t1(noise_op = fluxonium.n_op(), spectral_density = fluxonium.spectral_density_cap(T), eigvecs = eigvecs)\n",
    "\n",
    "    #charge impendenace not included?\n",
    "\n",
    "    #t1_flux_bias_line\n",
    "\n",
    "    t1_rate += general.t1(noise_op = fluxonium.d_ham_d_flux(), spectral_density = fluxonium.spectral_density_fbl(T, M, R_0), eigvecs = eigvecs)\n",
    "\n",
    "    #3.4 t1_inductive\n",
    "\n",
    "    t1_rate += general.t1(noise_op = fluxonium.phi()+0j, spectral_density = fluxonium.spectral_density_ind(T), eigvecs = eigvecs)\n",
    "\n",
    "    #3.5 t1_quasiparticle_tunneling - a little dubious\n",
    "\n",
    "    t1_rate += general.t1(noise_op = fluxonium.qt_noise_op()+0j, spectral_density = fluxonium.spectral_density_qt(T, R_k), eigvecs = eigvecs)\n",
    "\n",
    "    return t1_rate\n",
    "\n",
    "\n",
    "def effective_tphi_time(fluxonium):\n",
    "\n",
    "    eigvals,eigvecs = fluxonium.esys()\n",
    "\n",
    "    tphi_rate = torch.zeros([1,1],dtype=torch.double)\n",
    "\n",
    "    #tphi_1_over_f_flux\n",
    "\n",
    "    tphi_rate += general.tphi(A_flux, fluxonium.d_ham_d_flux(),  eigvecs=eigvecs)\n",
    "    \n",
    "    #tphi_1_over_f_cc\n",
    "\n",
    "    tphi_rate += general.tphi(A_cc, fluxonium.d_ham_d_EJ(), eigvecs=eigvecs)\n",
    "\n",
    "    return  tphi_rate\n",
    "\n",
    "\n",
    "def t2():\n",
    "    \n",
    "    return 1/(0.5*effective_t1_time(fluxonium))+1/effective_tphi_time(fluxonium)\n",
    "\n",
    "\n",
    "t2\n",
    "\n",
    "\n",
    "\n"
   ]
  }
 ],
 "metadata": {
  "kernelspec": {
   "display_name": "venv",
   "language": "python",
   "name": "python3"
  },
  "language_info": {
   "codemirror_mode": {
    "name": "ipython",
    "version": 3
   },
   "file_extension": ".py",
   "mimetype": "text/x-python",
   "name": "python",
   "nbconvert_exporter": "python",
   "pygments_lexer": "ipython3",
   "version": "3.8.6"
  },
  "orig_nbformat": 4
 },
 "nbformat": 4,
 "nbformat_minor": 2
}
