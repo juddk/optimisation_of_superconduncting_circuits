{
 "cells": [
  {
   "cell_type": "code",
   "execution_count": 9,
   "metadata": {},
   "outputs": [],
   "source": [
    "\n",
    "import torch\n",
    "import numpy as np\n",
    "import scipy as sp\n",
    "import sys\n",
    "sys.path.append('/Users/judd/Documents/optimisation_of_superconduncting_circuits/core')\n",
    "from fluxonium import Fluxonium \n",
    "import general as general\n",
    "import scqubits as sc\n"
   ]
  },
  {
   "cell_type": "code",
   "execution_count": 10,
   "metadata": {},
   "outputs": [
    {
     "data": {
      "text/plain": [
       "0.0"
      ]
     },
     "execution_count": 10,
     "metadata": {},
     "output_type": "execute_result"
    }
   ],
   "source": [
    "#comparing H calculations\n",
    "\n",
    "EJ = torch.tensor(10.00, requires_grad=True, dtype=torch.double)\n",
    "EC = torch.tensor(2.5, requires_grad=True, dtype=torch.double)\n",
    "EL = torch.tensor(1.9, requires_grad=True, dtype=torch.double)\n",
    "flux = torch.tensor(0.5, requires_grad=True, dtype=torch.double)\n",
    "dim = 110\n",
    "\n",
    "fluxonium = Fluxonium(EJ, EC, EL, flux, dim, 'auto_H')\n",
    "fluxonium2 = Fluxonium(EJ, EC, EL, flux, dim, 'create_H')\n",
    "\n",
    "general.t2_rate(fluxonium, fluxonium.t1_supported_noise_channels(), fluxonium.tphi_supported_noise_channels()).item()-general.t2_rate(fluxonium, fluxonium.t1_supported_noise_channels(), fluxonium.tphi_supported_noise_channels()).item()\n"
   ]
  },
  {
   "cell_type": "code",
   "execution_count": 11,
   "metadata": {},
   "outputs": [
    {
     "name": "stdout",
     "output_type": "stream",
     "text": [
      "2.3296549225115225e+37\n",
      "113.63661063153252\n",
      "-14589903.848755216\n",
      "3753811.016422183\n",
      "-3.4782072382687136e+16\n",
      "-1540017.3509451298\n",
      "-1.108105110152378e+18\n"
     ]
    }
   ],
   "source": [
    "#compare my pytorch computations to scqubits\n",
    "fluxonium_sc = sc.Fluxonium(\n",
    "            EJ = EJ.item(),\n",
    "            EC = EC.item(),\n",
    "            EL = EL.item(),\n",
    "            flux = flux.item(),\n",
    "           cutoff = dim)\n",
    "\n",
    "print(fluxonium_sc.t1_quasiparticle_tunneling() - 1/general.effective_t1_rate(fluxonium2 , \"t1_quasiparticle_tunneling\").item())\n",
    "print(fluxonium_sc.t1_charge_impedance() - 1/general.effective_t1_rate(fluxonium2 , \"t1_charge_impedance\").item())\n",
    "print(fluxonium_sc.t1_capacitive() - 1/general.effective_t1_rate(fluxonium2 , \"t1_capacitive\").item())\n",
    "print(fluxonium_sc.t1_inductive() - 1/general.effective_t1_rate(fluxonium2 , \"t1_inductive\").item())\n",
    "print(fluxonium_sc.t1_flux_bias_line() - 1/general.effective_t1_rate(fluxonium2 , \"t1_flux_bias_line\").item())\n",
    "\n",
    "print(fluxonium_sc.tphi_1_over_f_cc() - 1/general.effective_tphi_rate(fluxonium2 , \"tphi_1_over_f_cc\").item())\n",
    "print(fluxonium_sc.tphi_1_over_f_flux() - 1/general.effective_tphi_rate(fluxonium2, \"tphi_1_over_f_flux()\").item())"
   ]
  }
 ],
 "metadata": {
  "kernelspec": {
   "display_name": "venv",
   "language": "python",
   "name": "python3"
  },
  "language_info": {
   "codemirror_mode": {
    "name": "ipython",
    "version": 3
   },
   "file_extension": ".py",
   "mimetype": "text/x-python",
   "name": "python",
   "nbconvert_exporter": "python",
   "pygments_lexer": "ipython3",
   "version": "3.8.6"
  },
  "orig_nbformat": 4
 },
 "nbformat": 4,
 "nbformat_minor": 2
}
