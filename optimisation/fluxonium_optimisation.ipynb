{
 "cells": [
  {
   "cell_type": "code",
   "execution_count": 1,
   "metadata": {},
   "outputs": [],
   "source": [
    "\n",
    "import torch\n",
    "import numpy as np\n",
    "import scipy as sp\n",
    "import sys\n",
    "sys.path.append('/Users/judd/Documents/optimisation_of_superconduncting_circuits/core')\n",
    "from fluxonium import Fluxonium \n",
    "import general as general\n",
    "import scqubits as sc\n"
   ]
  },
  {
   "cell_type": "code",
   "execution_count": 2,
   "metadata": {},
   "outputs": [
    {
     "name": "stderr",
     "output_type": "stream",
     "text": [
      "UserWarning: The use of `x.T` on tensors of dimension other than 2 to reverse their shape is deprecated and it will throw an error in a future release. Consider `x.mT` to transpose batches of matrices or `x.permute(*torch.arange(x.ndim - 1, -1, -1))` to reverse the dimensions of a tensor. (Triggered internally at /Users/runner/work/pytorch/pytorch/pytorch/aten/src/ATen/native/TensorShape.cpp:3575.)\n",
      " /Users/judd/Documents/optimisation_of_superconduncting_circuits/core/general.py: 75"
     ]
    },
    {
     "name": "stdout",
     "output_type": "stream",
     "text": [
      "tensor([[0.0049]], dtype=torch.float64, grad_fn=<AddBackward0>)\n",
      "tensor([[0.7266]], dtype=torch.float64, grad_fn=<AddBackward0>)\n"
     ]
    }
   ],
   "source": [
    "EJ = torch.rand(1, requires_grad=True, dtype=torch.double)\n",
    "EC = torch.rand(1, requires_grad=True, dtype=torch.double)\n",
    "EL = torch.rand(1, requires_grad=True, dtype=torch.double)\n",
    "flux = torch.tensor([0.5], requires_grad=True, dtype=torch.double)\n",
    "\n",
    "EJ.data = EJ.data * (20 - 2.5) + 2.5\n",
    "EC.data = EC.data * (8 - 1e-3) + 1e-3\n",
    "EL.data = EL.data * (10 - 2e-1) + 2e-1\n",
    "\n",
    "dim = 110\n",
    "\n",
    "fluxonium_auto = Fluxonium(EJ, EC, EL, flux, dim, \"auto_H\")\n",
    "fluxonium_create = Fluxonium(EJ, EC, EL, flux, dim, \"create_H\")\n",
    "fluxonium_sym = Fluxonium(EJ, EC, EL, flux, dim, \"sym_H\")\n",
    "fluxonium_sc = sc.Fluxonium(EJ=EJ.item(), EC=EC.item(), EL=EL.item(), flux=flux.item(), cutoff=dim)\n",
    "\n",
    "##Not Equal\n",
    "\n",
    "print(general.t2_rate(\n",
    "    fluxonium_sym, fluxonium_sym.t1_supported_noise_channels(), fluxonium_sym.tphi_supported_noise_channels()\n",
    "))\n",
    "\n",
    "print(general.t2_rate(\n",
    "   fluxonium_auto, fluxonium_auto.t1_supported_noise_channels(), fluxonium_auto.tphi_supported_noise_channels()\n",
    "))"
   ]
  },
  {
   "cell_type": "code",
   "execution_count": 4,
   "metadata": {},
   "outputs": [
    {
     "ename": "RuntimeError",
     "evalue": "linalg_eigh_backward: The eigenvectors in the complex case are specified up to multiplication by e^{i phi}. The specified loss function depends on this quantity, so it is ill-defined.",
     "output_type": "error",
     "traceback": [
      "\u001b[0;31m---------------------------------------------------------------------------\u001b[0m",
      "\u001b[0;31mRuntimeError\u001b[0m                              Traceback (most recent call last)",
      "Cell \u001b[0;32mIn[4], line 37\u001b[0m\n\u001b[1;32m     34\u001b[0m R2  \u001b[39m=\u001b[39m general\u001b[39m.\u001b[39mt2_rate(fluxonium, fluxonium\u001b[39m.\u001b[39mt1_supported_noise_channels(), fluxonium\u001b[39m.\u001b[39mtphi_supported_noise_channels())\n\u001b[1;32m     35\u001b[0m R2_rate\u001b[39m.\u001b[39mappend(R2\u001b[39m.\u001b[39mitem())\n\u001b[0;32m---> 37\u001b[0m R2\u001b[39m.\u001b[39;49mbackward()\n\u001b[1;32m     39\u001b[0m \u001b[39mwith\u001b[39;00m torch\u001b[39m.\u001b[39mno_grad():\n\u001b[1;32m     40\u001b[0m     \u001b[39m#If paramater value drops below lower bound, it will remain on the lower bound\u001b[39;00m\n\u001b[1;32m     41\u001b[0m     \u001b[39m##WHY DO WE minus the gradient and not add?\u001b[39;00m\n\u001b[1;32m     42\u001b[0m     EJ\u001b[39m.\u001b[39mdata \u001b[39m=\u001b[39m EJ \u001b[39m-\u001b[39m EJ\u001b[39m.\u001b[39mgrad\u001b[39m*\u001b[39mlearn_rate \u001b[39mif\u001b[39;00m EJ \u001b[39m-\u001b[39m EJ\u001b[39m.\u001b[39mgrad\u001b[39m*\u001b[39mlearn_rate \u001b[39m>\u001b[39m EJ_bounds[\u001b[39m0\u001b[39m] \u001b[39melse\u001b[39;00m torch\u001b[39m.\u001b[39mtensor(EJ_bounds[\u001b[39m0\u001b[39m])\n",
      "File \u001b[0;32m~/Documents/optimisation_of_superconduncting_circuits/venv/lib/python3.8/site-packages/torch/_tensor.py:487\u001b[0m, in \u001b[0;36mTensor.backward\u001b[0;34m(self, gradient, retain_graph, create_graph, inputs)\u001b[0m\n\u001b[1;32m    477\u001b[0m \u001b[39mif\u001b[39;00m has_torch_function_unary(\u001b[39mself\u001b[39m):\n\u001b[1;32m    478\u001b[0m     \u001b[39mreturn\u001b[39;00m handle_torch_function(\n\u001b[1;32m    479\u001b[0m         Tensor\u001b[39m.\u001b[39mbackward,\n\u001b[1;32m    480\u001b[0m         (\u001b[39mself\u001b[39m,),\n\u001b[0;32m   (...)\u001b[0m\n\u001b[1;32m    485\u001b[0m         inputs\u001b[39m=\u001b[39minputs,\n\u001b[1;32m    486\u001b[0m     )\n\u001b[0;32m--> 487\u001b[0m torch\u001b[39m.\u001b[39;49mautograd\u001b[39m.\u001b[39;49mbackward(\n\u001b[1;32m    488\u001b[0m     \u001b[39mself\u001b[39;49m, gradient, retain_graph, create_graph, inputs\u001b[39m=\u001b[39;49minputs\n\u001b[1;32m    489\u001b[0m )\n",
      "File \u001b[0;32m~/Documents/optimisation_of_superconduncting_circuits/venv/lib/python3.8/site-packages/torch/autograd/__init__.py:200\u001b[0m, in \u001b[0;36mbackward\u001b[0;34m(tensors, grad_tensors, retain_graph, create_graph, grad_variables, inputs)\u001b[0m\n\u001b[1;32m    195\u001b[0m     retain_graph \u001b[39m=\u001b[39m create_graph\n\u001b[1;32m    197\u001b[0m \u001b[39m# The reason we repeat same the comment below is that\u001b[39;00m\n\u001b[1;32m    198\u001b[0m \u001b[39m# some Python versions print out the first line of a multi-line function\u001b[39;00m\n\u001b[1;32m    199\u001b[0m \u001b[39m# calls in the traceback and some print out the last line\u001b[39;00m\n\u001b[0;32m--> 200\u001b[0m Variable\u001b[39m.\u001b[39;49m_execution_engine\u001b[39m.\u001b[39;49mrun_backward(  \u001b[39m# Calls into the C++ engine to run the backward pass\u001b[39;49;00m\n\u001b[1;32m    201\u001b[0m     tensors, grad_tensors_, retain_graph, create_graph, inputs,\n\u001b[1;32m    202\u001b[0m     allow_unreachable\u001b[39m=\u001b[39;49m\u001b[39mTrue\u001b[39;49;00m, accumulate_grad\u001b[39m=\u001b[39;49m\u001b[39mTrue\u001b[39;49;00m)\n",
      "\u001b[0;31mRuntimeError\u001b[0m: linalg_eigh_backward: The eigenvectors in the complex case are specified up to multiplication by e^{i phi}. The specified loss function depends on this quantity, so it is ill-defined."
     ]
    }
   ],
   "source": [
    "#OPTIMISATION\n",
    "\n",
    "#FIXED PARAMS\n",
    "dim = 110\n",
    "learn_rate = 1\n",
    "flux = torch.tensor([0.5], requires_grad=True, dtype=torch.double)\n",
    "\n",
    "#VARIABLE PARAMS\n",
    "EJ = torch.rand(1, requires_grad=True, dtype=torch.double)\n",
    "EC = torch.rand(1, requires_grad=True, dtype=torch.double)\n",
    "EL = torch.rand(1, requires_grad=True, dtype=torch.double)\n",
    "flux = torch.tensor([0.5], requires_grad=True, dtype=torch.double)\n",
    "\n",
    "EJ.data = EJ.data * (20 - 2.5) + 2.5\n",
    "EC.data = EC.data * (8 - 1e-3) + 1e-3\n",
    "EL.data = EL.data * (10 - 2e-1) + 2e-1\n",
    "\n",
    "EJ_bounds = [2.5, 150]\n",
    "EC_bounds = [1e-3, 8]\n",
    "EL_bounds = [2e-1, 10]\n",
    "\n",
    "#RECORDING VALUES\n",
    "EJ_vals = [EJ.item()]\n",
    "EC_vals = [EC.item()]\n",
    "EL_vals = [EL.item()]\n",
    "R2_rate = [1e100, 1e99]\n",
    "\n",
    "# GRADIENT DESCENT\n",
    "i = 0\n",
    "while R2_rate[-1] < R2_rate[-2]:\n",
    "    i+=1\n",
    "\n",
    "    fluxonium = Fluxonium(EJ, EC, EL, flux, dim, 'create_H')\n",
    "    R2  = general.t2_rate(fluxonium, fluxonium.t1_supported_noise_channels(), fluxonium.tphi_supported_noise_channels())\n",
    "    R2_rate.append(R2.item())\n",
    "\n",
    "    R2.backward()\n",
    "\n",
    "    with torch.no_grad():\n",
    "        #If paramater value drops below lower bound, it will remain on the lower bound\n",
    "        ##WHY DO WE minus the gradient and not add?\n",
    "        EJ.data = EJ - EJ.grad*learn_rate if EJ - EJ.grad*learn_rate > EJ_bounds[0] else torch.tensor(EJ_bounds[0])\n",
    "        EL.data = EL - EL.grad*learn_rate if EL - EL.grad*learn_rate > EL_bounds[0] else torch.tensor(EL_bounds[0])\n",
    "        EC.data = EC - EC.grad*learn_rate if EC - EC.grad*learn_rate > EC_bounds[0] else torch.tensor(EC_bounds[0])\n",
    "    \n",
    "    #RECORDING VALUES FOR PLOT\n",
    "    EJ_vals.append(EJ.item())\n",
    "    EC_vals.append(EC.item())\n",
    "    EL_vals.append(EL.item())\n",
    "\n",
    "    print(f\"{i}: R2: {R2.item()}, EJ: {EJ.item()}, EL: {EL.item()}, EC: {EC.item()}\")"
   ]
  }
 ],
 "metadata": {
  "kernelspec": {
   "display_name": "venv",
   "language": "python",
   "name": "python3"
  },
  "language_info": {
   "codemirror_mode": {
    "name": "ipython",
    "version": 3
   },
   "file_extension": ".py",
   "mimetype": "text/x-python",
   "name": "python",
   "nbconvert_exporter": "python",
   "pygments_lexer": "ipython3",
   "version": "3.8.6"
  },
  "orig_nbformat": 4
 },
 "nbformat": 4,
 "nbformat_minor": 2
}
