{
 "cells": [
  {
   "cell_type": "code",
   "execution_count": 11,
   "metadata": {},
   "outputs": [
    {
     "data": {
      "text/plain": [
       "(2.4632741255957624+0j)"
      ]
     },
     "execution_count": 11,
     "metadata": {},
     "output_type": "execute_result"
    }
   ],
   "source": [
    "from fluxonium import Fluxonium \n",
    "import noise\n",
    "\n",
    "EJ = 8.9\n",
    "EC = 2.5\n",
    "EL = 0.5\n",
    "flux = 0.33\n",
    "dim = 110\n",
    "\n",
    "fluxonium = Fluxonium(EJ, EC, EL, flux, dim)\n",
    "\n",
    "if fluxonium.auto_H()[0][0] == fluxonium.create_H()[0][0]:\n",
    "    print('yay')\n",
    "\n"
   ]
  }
 ],
 "metadata": {
  "kernelspec": {
   "display_name": "venv",
   "language": "python",
   "name": "python3"
  },
  "language_info": {
   "codemirror_mode": {
    "name": "ipython",
    "version": 3
   },
   "file_extension": ".py",
   "mimetype": "text/x-python",
   "name": "python",
   "nbconvert_exporter": "python",
   "pygments_lexer": "ipython3",
   "version": "3.8.6"
  },
  "orig_nbformat": 4
 },
 "nbformat": 4,
 "nbformat_minor": 2
}
