{
 "cells": [
  {
   "cell_type": "code",
   "execution_count": 3,
   "metadata": {},
   "outputs": [
    {
     "ename": "ModuleNotFoundError",
     "evalue": "No module named 'core'",
     "output_type": "error",
     "traceback": [
      "\u001b[0;31m---------------------------------------------------------------------------\u001b[0m",
      "\u001b[0;31mModuleNotFoundError\u001b[0m                       Traceback (most recent call last)",
      "Cell \u001b[0;32mIn[3], line 1\u001b[0m\n\u001b[0;32m----> 1\u001b[0m \u001b[39mfrom\u001b[39;00m \u001b[39mcore\u001b[39;00m\u001b[39m.\u001b[39;00m\u001b[39mfluxonium\u001b[39;00m \u001b[39mimport\u001b[39;00m Fluxonium \n\u001b[1;32m      2\u001b[0m \u001b[39mimport\u001b[39;00m \u001b[39mcore\u001b[39;00m\u001b[39m.\u001b[39;00m\u001b[39mgeneral\u001b[39;00m \u001b[39mas\u001b[39;00m \u001b[39mgeneral\u001b[39;00m\n\u001b[1;32m      3\u001b[0m \u001b[39mimport\u001b[39;00m \u001b[39mtorch\u001b[39;00m\n",
      "\u001b[0;31mModuleNotFoundError\u001b[0m: No module named 'core'"
     ]
    }
   ],
   "source": [
    "from core.fluxonium import Fluxonium \n",
    "import core.general as general\n",
    "import torch\n",
    "import numpy as np\n",
    "import scipy as sp"
   ]
  },
  {
   "cell_type": "code",
   "execution_count": null,
   "metadata": {},
   "outputs": [],
   "source": [
    "#SOME GLOBAL PARAMETERS\n",
    "R_k = sp.constants.h / (sp.constants.e**2.0)\n",
    "R_0 = 50\n",
    "T = 0.015\n",
    "M = 400\n"
   ]
  },
  {
   "cell_type": "code",
   "execution_count": 2,
   "metadata": {},
   "outputs": [
    {
     "ename": "SyntaxError",
     "evalue": "invalid syntax (2774873575.py, line 32)",
     "output_type": "error",
     "traceback": [
      "\u001b[0;36m  Cell \u001b[0;32mIn[2], line 32\u001b[0;36m\u001b[0m\n\u001b[0;31m    t1_rate += general.t1(noise_op = fluxonium.phi()+0j spectral_density = fluxonium.spectral_density_ind(), eigvecs = eigvecs)\u001b[0m\n\u001b[0m                                                        ^\u001b[0m\n\u001b[0;31mSyntaxError\u001b[0m\u001b[0;31m:\u001b[0m invalid syntax\n"
     ]
    }
   ],
   "source": [
    "EJ = 8.9\n",
    "EC = 2.5\n",
    "EL = 0.5\n",
    "flux = 0.33\n",
    "dim = 110\n",
    "\n",
    "fluxonium = Fluxonium(EJ, EC, EL, flux, dim)\n",
    "\n",
    "if fluxonium.auto_H()[0][0] == fluxonium.create_H()[0][0]:\n",
    "    print('yay')\n",
    "\n",
    "\n",
    "eigvals,eigvecs = fluxonium.esys()\n",
    "\n",
    "t1_rate = torch.zeros([1,1],dtype=torch.double)\n",
    "\n",
    "#t1_capacitive\n",
    "\n",
    "t1_rate += general.t1(noise_op = fluxonium.n_op(), spectral_density = fluxonium.spectral_density_cap(), eigvecs = eigvecs)\n",
    "\n",
    "#charge impendenace not included?\n",
    "\n",
    "#t1_flux_bias_line\n",
    "\n",
    "t1_rate += general.t1(noise_op = fluxonium.d_ham_d_flux(), spectral_density = fluxonium.spectral_density_fbl(), eigvecs = eigvecs)\n",
    "\n",
    "#3.4 t1_inductive\n",
    "\n",
    "t1_rate += general.t1(noise_op = fluxonium.phi()+0j, spectral_density = fluxonium.spectral_density_ind(), eigvecs = eigvecs)\n",
    "\n",
    "#3.5 t1_quasiparticle_tunneling - a little dubious\n",
    "\n",
    "t1_rate += general.t1(noise_op = fluxonium.qt_noise_op()+0j, spectral_density = fluxonium.spectral_density_qt(T), eigvecs = eigvecs)\n",
    "\n",
    "# PART 4 - Get time\n",
    "\n",
    "T1 = 1/t1_rate\n",
    "\n",
    "\n",
    "\n",
    "\n",
    "\n",
    "\n"
   ]
  }
 ],
 "metadata": {
  "kernelspec": {
   "display_name": "venv",
   "language": "python",
   "name": "python3"
  },
  "language_info": {
   "codemirror_mode": {
    "name": "ipython",
    "version": 3
   },
   "file_extension": ".py",
   "mimetype": "text/x-python",
   "name": "python",
   "nbconvert_exporter": "python",
   "pygments_lexer": "ipython3",
   "version": "3.9.6"
  },
  "orig_nbformat": 4
 },
 "nbformat": 4,
 "nbformat_minor": 2
}
