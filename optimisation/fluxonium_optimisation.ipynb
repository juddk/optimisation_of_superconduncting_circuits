{
 "cells": [
  {
   "cell_type": "code",
   "execution_count": 1,
   "metadata": {},
   "outputs": [],
   "source": [
    "\n",
    "import torch\n",
    "import numpy as np\n",
    "import scipy as sp\n",
    "\n",
    "import sys\n",
    "sys.path.append('/Users/judduni/Documents/optimisation_of_superconduncting_circuits/core')\n",
    "from fluxonium import Fluxonium \n",
    "import general as general\n"
   ]
  },
  {
   "cell_type": "code",
   "execution_count": 2,
   "metadata": {},
   "outputs": [],
   "source": [
    "#SOME GLOBAL PARAMETERS\n",
    "R_k = sp.constants.h / (sp.constants.e**2.0)\n",
    "R_0 = 50\n",
    "T = 0.015\n",
    "M = 400\n"
   ]
  },
  {
   "cell_type": "code",
   "execution_count": 4,
   "metadata": {},
   "outputs": [
    {
     "data": {
      "text/plain": [
       "tensor([[1973265.4514]], dtype=torch.float64)"
      ]
     },
     "execution_count": 4,
     "metadata": {},
     "output_type": "execute_result"
    }
   ],
   "source": [
    "EJ = 8.9\n",
    "EC = 2.5\n",
    "EL = 0.5\n",
    "flux = 0.33\n",
    "dim = 110\n",
    "\n",
    "fluxonium = Fluxonium(EJ, EC, EL, flux, dim)\n",
    "\n",
    "if fluxonium.auto_H()[0][0] == fluxonium.create_H()[0][0]:\n",
    "    print('yay')\n",
    "\n",
    "\n",
    "eigvals,eigvecs = fluxonium.esys()\n",
    "\n",
    "t1_rate = torch.zeros([1,1],dtype=torch.double)\n",
    "\n",
    "#t1_capacitive\n",
    "\n",
    "t1_rate += general.t1(noise_op = fluxonium.n_op(), spectral_density = fluxonium.spectral_density_cap(T), eigvecs = eigvecs)\n",
    "\n",
    "#charge impendenace not included?\n",
    "\n",
    "#t1_flux_bias_line\n",
    "\n",
    "t1_rate += general.t1(noise_op = fluxonium.d_ham_d_flux(), spectral_density = fluxonium.spectral_density_fbl(T, M, R_0), eigvecs = eigvecs)\n",
    "\n",
    "#3.4 t1_inductive\n",
    "\n",
    "t1_rate += general.t1(noise_op = fluxonium.phi()+0j, spectral_density = fluxonium.spectral_density_ind(T), eigvecs = eigvecs)\n",
    "\n",
    "#3.5 t1_quasiparticle_tunneling - a little dubious\n",
    "\n",
    "t1_rate += general.t1(noise_op = fluxonium.qt_noise_op()+0j, spectral_density = fluxonium.spectral_density_qt(T, R_k), eigvecs = eigvecs)\n",
    "\n",
    "# PART 4 - Get time\n",
    "\n",
    "T1 = 1/t1_rate\n",
    "\n",
    "T1\n",
    "\n",
    "\n",
    "\n",
    "\n",
    "\n",
    "\n"
   ]
  }
 ],
 "metadata": {
  "kernelspec": {
   "display_name": "venv",
   "language": "python",
   "name": "python3"
  },
  "language_info": {
   "codemirror_mode": {
    "name": "ipython",
    "version": 3
   },
   "file_extension": ".py",
   "mimetype": "text/x-python",
   "name": "python",
   "nbconvert_exporter": "python",
   "pygments_lexer": "ipython3",
   "version": "3.9.6"
  },
  "orig_nbformat": 4
 },
 "nbformat": 4,
 "nbformat_minor": 2
}
