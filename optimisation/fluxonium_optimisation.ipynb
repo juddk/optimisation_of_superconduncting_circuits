{
 "cells": [
  {
   "cell_type": "code",
   "execution_count": 1,
   "metadata": {},
   "outputs": [],
   "source": [
    "\n",
    "import torch\n",
    "import numpy as np\n",
    "import scipy as sp\n",
    "import sys\n",
    "sys.path.append('/Users/judd/Documents/optimisation_of_superconduncting_circuits/core')\n",
    "from fluxonium import Fluxonium \n",
    "import general as general\n",
    "import scqubits as sc\n"
   ]
  },
  {
   "cell_type": "code",
   "execution_count": 4,
   "metadata": {},
   "outputs": [
    {
     "data": {
      "text/plain": [
       "tensor([[0.0027]], dtype=torch.float64, grad_fn=<AddBackward0>)"
      ]
     },
     "execution_count": 4,
     "metadata": {},
     "output_type": "execute_result"
    }
   ],
   "source": [
    "#comparing H calculations\n",
    "\n",
    "EJ = torch.tensor(12, requires_grad=True, dtype=torch.double)\n",
    "EC = torch.tensor(2.6, requires_grad=True, dtype=torch.double)\n",
    "EL = torch.tensor(0.5, requires_grad=True, dtype=torch.double)\n",
    "flux = torch.tensor(0.2, requires_grad=True, dtype=torch.double)\n",
    "dim = 110\n",
    "\n",
    "fluxonium = Fluxonium(EJ, EC, EL, flux, dim, 'auto_H')\n",
    "fluxonium2 = Fluxonium(EJ, EC, EL, flux, dim, 'create_H')\n",
    "\n",
    "general.t2_rate(fluxonium, fluxonium.t1_supported_noise_channels(), fluxonium.tphi_supported_noise_channels())"
   ]
  },
  {
   "cell_type": "code",
   "execution_count": 3,
   "metadata": {},
   "outputs": [
    {
     "name": "stderr",
     "output_type": "stream",
     "text": [
      "UserWarning: By default all methods that involve calculations of the t1 coherence times/rates, return a sum of upward (i.e., excitation), and downward (i.e., relaxation) rates. To change this behavior, parameter total=False can be passed to any t1-related coherence methods. With total=False, only a one-directional transition between levels i and j is used to calculate the required t1 time or rate.\n",
      "See documentation for details.\n",
      "This warning can be disabled by executing:\n",
      "scqubits.settings.T1_DEFAULT_WARNING=False\n",
      "\n",
      " /Users/judd/Documents/optimisation_of_superconduncting_circuits/venv/lib/python3.8/site-packages/scqubits/core/noise.py: 1195UserWarning: The use of `x.T` on tensors of dimension other than 2 to reverse their shape is deprecated and it will throw an error in a future release. Consider `x.mT` to transpose batches of matrices or `x.permute(*torch.arange(x.ndim - 1, -1, -1))` to reverse the dimensions of a tensor. (Triggered internally at /Users/runner/work/pytorch/pytorch/pytorch/aten/src/ATen/native/TensorShape.cpp:3575.)\n",
      " /Users/judd/Documents/optimisation_of_superconduncting_circuits/core/general.py: 73"
     ]
    },
    {
     "name": "stdout",
     "output_type": "stream",
     "text": [
      "2065886923.828554\n",
      "-3.4058112419188546e-07\n",
      "-0.059628453105688095\n",
      "-1603.6410236358643\n",
      "-248.15651559829712\n",
      "-2.0165031906217337\n",
      "1.0979434136970667e-05\n",
      "--\n",
      "10489031026.798681\n",
      "10489029423.157658\n"
     ]
    }
   ],
   "source": [
    "#compare my pytorch computations to scqubits\n",
    "fluxonium_sc = sc.Fluxonium(\n",
    "            EJ = EJ.item(),\n",
    "            EC = EC.item(),\n",
    "            EL = EL.item(),\n",
    "            flux = flux.item(),\n",
    "            cutoff = dim)\n",
    "\n",
    "print(fluxonium_sc.t1_quasiparticle_tunneling() - 1/general.effective_t1_rate(fluxonium , \"t1_quasiparticle_tunneling\").item())\n",
    "print(fluxonium_sc.t1_charge_impedance() - 1/general.effective_t1_rate(fluxonium , \"t1_charge_impedance\").item())\n",
    "print(fluxonium_sc.t1_capacitive() - 1/general.effective_t1_rate(fluxonium , \"t1_capacitive\").item())\n",
    "print(fluxonium_sc.t1_inductive() - 1/general.effective_t1_rate(fluxonium, \"t1_inductive\").item())\n",
    "print(fluxonium_sc.t1_flux_bias_line() - 1/general.effective_t1_rate(fluxonium , \"t1_flux_bias_line\").item())\n",
    "\n",
    "print(fluxonium_sc.tphi_1_over_f_cc() - 1/general.effective_tphi_rate(fluxonium , \"tphi_1_over_f_cc\").item())\n",
    "print(fluxonium_sc.tphi_1_over_f_flux() - 1/general.effective_tphi_rate(fluxonium, \"tphi_1_over_f_flux()\").item())\n",
    "\n",
    "\n",
    "print('--')\n",
    "\n",
    "print(1/general.effective_t1_rate(fluxonium , \"t1_inductive\").item())\n",
    "print(fluxonium_sc.t1_inductive() )"
   ]
  }
 ],
 "metadata": {
  "kernelspec": {
   "display_name": "venv",
   "language": "python",
   "name": "python3"
  },
  "language_info": {
   "codemirror_mode": {
    "name": "ipython",
    "version": 3
   },
   "file_extension": ".py",
   "mimetype": "text/x-python",
   "name": "python",
   "nbconvert_exporter": "python",
   "pygments_lexer": "ipython3",
   "version": "3.8.6"
  },
  "orig_nbformat": 4
 },
 "nbformat": 4,
 "nbformat_minor": 2
}
