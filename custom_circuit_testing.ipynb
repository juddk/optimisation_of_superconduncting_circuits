{
 "cells": [
  {
   "cell_type": "code",
   "execution_count": 2,
   "metadata": {},
   "outputs": [],
   "source": [
    "import scqubits as sc\n",
    "import numpy as np"
   ]
  },
  {
   "cell_type": "code",
   "execution_count": 3,
   "metadata": {},
   "outputs": [],
   "source": [
    "#Create 2 versions of Fluxonium\n",
    "EJ=8.9\n",
    "EC=2.5\n",
    "EL=0.5\n",
    "\n",
    "fluxonium_yaml =f\"\"\"\n",
    "#fluxonium\n",
    "branches:\n",
    "- [L,1,0,L={EL}]\n",
    "- [JJ,1,0,Ej={EJ}, Ec={EC}]\n",
    "- [C,1,0,C={EC}]\n",
    "\"\"\"\n",
    "\n",
    "fluxonium1 = sc.Circuit(fluxonium_yaml, from_file=False)\n",
    "fluxonium2 = sc.Fluxonium(\n",
    "    EJ=8.9,\n",
    "    EC=2.5,\n",
    "    EL=0.5,\n",
    "    cutoff = 110,\n",
    "    flux = 0.5\n",
    ")"
   ]
  },
  {
   "cell_type": "code",
   "execution_count": null,
   "metadata": {},
   "outputs": [],
   "source": [
    "fluxonium1.sym_lagrangian()\n",
    "fluxonium1.sym_hamiltonian()"
   ]
  },
  {
   "cell_type": "code",
   "execution_count": null,
   "metadata": {},
   "outputs": [],
   "source": [
    "#check hamiltonians are identical \n",
    "empty_set = []\n",
    "for x in range(len(fluxonium2.hamiltonian())):\n",
    "    y=1\n",
    "    if abs(fluxonium1.hamiltonian().toarray()[x][y] - complex(fluxonium2.hamiltonian()[x][y])) > 0.00001:\n",
    "        empty_set.append((x,y))\n",
    "empty_set"
   ]
  },
  {
   "cell_type": "code",
   "execution_count": null,
   "metadata": {},
   "outputs": [],
   "source": [
    "x = 1\n",
    "y = 1\n",
    "\n",
    "print(fluxonium1.hamiltonian().toarray()[x][y])\n",
    "print(fluxonium2.hamiltonian()[x][y])"
   ]
  },
  {
   "cell_type": "code",
   "execution_count": null,
   "metadata": {},
   "outputs": [],
   "source": [
    "random_yaml =f\"\"\"\n",
    "#random\n",
    "branches:\n",
    "- [L,1,0,L={EL}]\n",
    "- [JJ,1,2,Ec={EC},Ej={EJ}]\n",
    "- [C,2,1,C={EC}]\n",
    "\"\"\"\n",
    "\n",
    "fluxonium_circuit = sc.Circuit(random_yaml, from_file=False)\n",
    "fluxonium_circuit.sym_hamiltonian()"
   ]
  },
  {
   "cell_type": "code",
   "execution_count": 5,
   "metadata": {},
   "outputs": [
    {
     "data": {
      "text/latex": [
       "$ \\left(0.5 \\dot{φ_1} \\left(\\dot{φ_1} \\left(C_{3} + \\frac{1}{8 C_{3}}\\right) - C_{3} \\dot{φ_3} - \\frac{\\dot{φ_2}}{8 C_{3}}\\right) + 0.5 \\dot{φ_2} \\left(\\dot{φ_2} \\left(C_{4} + \\frac{1}{8 C_{3}}\\right) - C_{4} \\dot{φ_4} - \\frac{\\dot{φ_1}}{8 C_{3}}\\right) + 0.5 \\dot{φ_3} \\left(\\dot{φ_3} \\left(C_{3} + \\frac{1}{8 C_{4}}\\right) - C_{3} \\dot{φ_1} - \\frac{\\dot{φ_4}}{8 C_{4}}\\right) + 0.5 \\dot{φ_4} \\left(\\dot{φ_4} \\left(C_{4} + \\frac{1}{8 C_{4}}\\right) - C_{4} \\dot{φ_2} - \\frac{\\dot{φ_3}}{8 C_{4}}\\right)\\right) + \\left(EJ_{1} \\cos{\\left(φ_{1} - φ_{2} \\right)} + EJ_{2} \\cos{\\left((2πΦ_{1}) + φ_{4} - φ_{3} \\right)} - 0.5 L_{1} \\left(φ_{3} - φ_{2}\\right)^{2} - 0.5 L_{2} \\left(φ_{1} - φ_{4}\\right)^{2}\\right) $"
      ],
      "text/plain": [
       "<IPython.core.display.Latex object>"
      ]
     },
     "metadata": {},
     "output_type": "display_data"
    },
    {
     "data": {
      "text/latex": [
       "$ \\left(0.416501 n_{1}^{2} + 0.416501 n_{g1}^{2} + 0.104284 Q_{2}^{2} + 48.01666 Q_{3}^{2} + 0.833003 n_{1} n_{g1} + 0.166601 Q_{3} n_{1} + 0.166601 Q_{3} n_{g1} - 0.075367 Q_{2} Q_{3} - 0.376835 Q_{2} n_{1} - 0.376835 Q_{2} n_{g1}\\right) + \\left(- EJ_{1} \\cos{\\left(θ_{1} - 1.0 θ_{3} \\right)} - EJ_{2} \\cos{\\left(θ_{1} + θ_{3} - (2πΦ_{1}) \\right)} + 0.5 L_{1} θ_{3}^{2} + 0.5 L_{2} θ_{3}^{2} + 2.0 L_{1} θ_{2}^{2} + 2.0 L_{2} θ_{2}^{2} + 2.0 L_{1} θ_{2} θ_{3} - 2.0 L_{2} θ_{2} θ_{3}\\right) $"
      ],
      "text/plain": [
       "<IPython.core.display.Latex object>"
      ]
     },
     "metadata": {},
     "output_type": "display_data"
    }
   ],
   "source": [
    "zp_yaml = \"\"\"# zero-pi\n",
    "branches:\n",
    "- [\"JJ\", 1,2, EJ1 = 10, EC1 = 20]\n",
    "- [\"JJ\", 3,4, EJ2=5, EC2 = 30]\n",
    "- [\"L\", 2,3, L1 = 0.008]\n",
    "- [\"L\", 4,1, L2=0.1]\n",
    "- [\"C\", 1,3, C1 = 0.02]\n",
    "- [\"C\", 2,4, C2 = 0.4]\n",
    "\"\"\"\n",
    "\n",
    "\n",
    "zeropi_circuit = sc.Circuit(zp_yaml, from_file=False)\n",
    "zeropi_circuit.sym_lagrangian()\n",
    "zeropi_circuit.sym_hamiltonian()\n",
    "\n"
   ]
  },
  {
   "cell_type": "code",
   "execution_count": null,
   "metadata": {},
   "outputs": [],
   "source": []
  }
 ],
 "metadata": {
  "kernelspec": {
   "display_name": "venv",
   "language": "python",
   "name": "python3"
  },
  "language_info": {
   "codemirror_mode": {
    "name": "ipython",
    "version": 3
   },
   "file_extension": ".py",
   "mimetype": "text/x-python",
   "name": "python",
   "nbconvert_exporter": "python",
   "pygments_lexer": "ipython3",
   "version": "3.8.6"
  },
  "orig_nbformat": 4
 },
 "nbformat": 4,
 "nbformat_minor": 2
}
