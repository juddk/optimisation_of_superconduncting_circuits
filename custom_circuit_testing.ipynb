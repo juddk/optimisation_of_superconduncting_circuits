{
 "cells": [
  {
   "cell_type": "code",
   "execution_count": null,
   "metadata": {},
   "outputs": [],
   "source": [
    "import scqubits as sc\n",
    "import numpy as np"
   ]
  },
  {
   "cell_type": "code",
   "execution_count": null,
   "metadata": {},
   "outputs": [],
   "source": [
    "#Create 2 versions of Fluxonium\n",
    "EJ=8.9\n",
    "EC=2.5\n",
    "EL=0.5\n",
    "\n",
    "fluxonium_yaml =f\"\"\"\n",
    "#fluxonium\n",
    "branches:\n",
    "- [L,1,0,L={EL}]\n",
    "- [JJ,1,0,Ej={EJ}, Ec={EC}]\n",
    "- [C,1,0,C={EC}]\n",
    "\"\"\"\n",
    "\n",
    "fluxonium1 = sc.Circuit(fluxonium_yaml, from_file=False)\n",
    "fluxonium2 = sc.Fluxonium(\n",
    "    EJ=8.9,\n",
    "    EC=2.5,\n",
    "    EL=0.5,\n",
    "    cutoff = 110,\n",
    "    flux = 0.5\n",
    ")"
   ]
  },
  {
   "cell_type": "code",
   "execution_count": null,
   "metadata": {},
   "outputs": [],
   "source": [
    "fluxonium1.sym_lagrangian()\n",
    "fluxonium1.sym_hamiltonian()"
   ]
  },
  {
   "cell_type": "code",
   "execution_count": null,
   "metadata": {},
   "outputs": [],
   "source": [
    "#check hamiltonians are identical \n",
    "empty_set = []\n",
    "for x in range(len(fluxonium2.hamiltonian())):\n",
    "    y=1\n",
    "    if abs(fluxonium1.hamiltonian().toarray()[x][y] - complex(fluxonium2.hamiltonian()[x][y])) > 0.00001:\n",
    "        empty_set.append((x,y))\n",
    "empty_set"
   ]
  },
  {
   "cell_type": "code",
   "execution_count": null,
   "metadata": {},
   "outputs": [],
   "source": [
    "x = 1\n",
    "y = 1\n",
    "\n",
    "print(fluxonium1.hamiltonian().toarray()[x][y])\n",
    "print(fluxonium2.hamiltonian()[x][y])"
   ]
  },
  {
   "cell_type": "code",
   "execution_count": null,
   "metadata": {},
   "outputs": [],
   "source": [
    "random_yaml =f\"\"\"\n",
    "#random\n",
    "branches:\n",
    "- [L,1,0,L={EL}]\n",
    "- [JJ,1,2,Ec={EC},Ej={EJ}]\n",
    "- [C,2,1,C={EC}]\n",
    "\"\"\"\n",
    "\n",
    "fluxonium_circuit = sc.Circuit(random_yaml, from_file=False)\n",
    "fluxonium_circuit.sym_hamiltonian()"
   ]
  },
  {
   "cell_type": "code",
   "execution_count": null,
   "metadata": {},
   "outputs": [],
   "source": [
    "zp_yaml = \"\"\"# zero-pi\n",
    "branches:\n",
    "- [\"JJ\", 1,2, EJ1 = 10, EC1=20]\n",
    "- [\"JJ\", 3,4, EJ1, EC1]\n",
    "- [\"L\", 2,3, EL=0.009]\n",
    "- [\"L\", 4,1, EL]\n",
    "- [\"C\", 1,3,EC=0.2]\n",
    "- [\"C\", 2,4, EC]\n",
    "\"\"\"\n",
    "\n",
    "zeropi_circuit = sc.Circuit(zp_yaml, from_file=False)\n",
    "zeropi_circuit.sym_lagrangian(return_expr=True)\n",
    "zeropi_circuit.sym_hamiltonian(return_expr=True)"
   ]
  }
 ],
 "metadata": {
  "language_info": {
   "name": "python"
  },
  "orig_nbformat": 4
 },
 "nbformat": 4,
 "nbformat_minor": 2
}
