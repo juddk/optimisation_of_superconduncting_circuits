{
 "cells": [
  {
   "cell_type": "code",
   "execution_count": 9,
   "metadata": {},
   "outputs": [
    {
     "name": "stderr",
     "output_type": "stream",
     "text": [
      "/var/folders/tf/s0sdd8z90kj1wtwzbjj9715r0000gn/T/ipykernel_87426/3397424474.py:45: UserWarning: To copy construct from a tensor, it is recommended to use sourceTensor.clone().detach() or sourceTensor.clone().detach().requires_grad_(True), rather than torch.tensor(sourceTensor).\n",
      "  _cos_phi = torch.kron(torch.tensor(cos_phi_m), torch.tensor(eye_Nphi) )\n",
      "/var/folders/tf/s0sdd8z90kj1wtwzbjj9715r0000gn/T/ipykernel_87426/3397424474.py:46: UserWarning: To copy construct from a tensor, it is recommended to use sourceTensor.clone().detach() or sourceTensor.clone().detach().requires_grad_(True), rather than torch.tensor(sourceTensor).\n",
      "  _phi = torch.kron(torch.tensor(phi_m), torch.tensor(eye_Nphi) )\n",
      "/var/folders/tf/s0sdd8z90kj1wtwzbjj9715r0000gn/T/ipykernel_87426/3397424474.py:47: UserWarning: To copy construct from a tensor, it is recommended to use sourceTensor.clone().detach() or sourceTensor.clone().detach().requires_grad_(True), rather than torch.tensor(sourceTensor).\n",
      "  _sin_phi_adj_m  = torch.kron(torch.tensor(sin_phi_adj_m), torch.tensor(eye_Nphi))\n",
      "/var/folders/tf/s0sdd8z90kj1wtwzbjj9715r0000gn/T/ipykernel_87426/3397424474.py:54: UserWarning: To copy construct from a tensor, it is recommended to use sourceTensor.clone().detach() or sourceTensor.clone().detach().requires_grad_(True), rather than torch.tensor(sourceTensor).\n",
      "  _cos_theta_adj_m = torch.kron(torch.tensor(cos_theta_adj_m), torch.tensor(eye_Ntheta))\n",
      "/var/folders/tf/s0sdd8z90kj1wtwzbjj9715r0000gn/T/ipykernel_87426/3397424474.py:55: UserWarning: To copy construct from a tensor, it is recommended to use sourceTensor.clone().detach() or sourceTensor.clone().detach().requires_grad_(True), rather than torch.tensor(sourceTensor).\n",
      "  _sin_theta_m = torch.kron(torch.tensor(sin_theta_m), torch.tensor(eye_Ntheta))\n",
      "/var/folders/tf/s0sdd8z90kj1wtwzbjj9715r0000gn/T/ipykernel_87426/3397424474.py:58: UserWarning: To copy construct from a tensor, it is recommended to use sourceTensor.clone().detach() or sourceTensor.clone().detach().requires_grad_(True), rather than torch.tensor(sourceTensor).\n",
      "  I = torch.kron(torch.tensor(eye_Nphi), torch.tensor(eye_Ntheta))\n"
     ]
    }
   ],
   "source": [
    "import scipy as sp\n",
    "import scipy.sparse as sps\n",
    "import numpy as np\n",
    "import torch\n",
    "import xitorch\n",
    "from xitorch import linalg\n",
    "\n",
    "\n",
    "\n",
    "EJ = torch.tensor(10.00, requires_grad=True, dtype=torch.double)\n",
    "EL = torch.tensor(0.04, requires_grad=True, dtype=torch.double)\n",
    "ECs = torch.tensor(20, requires_grad=True, dtype=torch.double)\n",
    "EC = torch.tensor(0.04, requires_grad=True, dtype=torch.double)\n",
    "dEj = torch.tensor(0.0, requires_grad=True, dtype=torch.double)\n",
    "dCj = torch.tensor(0.0, requires_grad=True, dtype=torch.double)\n",
    "ECj =  torch.tensor(0.2, requires_grad=True, dtype=torch.double)\n",
    "flux = torch.tensor(0.5, requires_grad=True, dtype=torch.double)\n",
    "ng = 0.1\n",
    "ncut = 30\n",
    "truncated_dim = 10\n",
    "pt_count = 10\n",
    "min_val = -19\n",
    "max_val = 19\n",
    "hamiltonian_creation = 'auto_H'\n",
    "\n",
    "\n",
    "phi_ext = 0.5\n",
    "varphi_ext =0.5\n",
    "\n",
    "Nphi = 100\n",
    "Ntheta = 100\n",
    "\n",
    "eye_Nphi = torch.eye(Nphi)\n",
    "eye_Ntheta = torch.eye(Ntheta)\n",
    "\n",
    "partial_phi_fd = torch.kron(eye_Ntheta, torch.tensor(sps.diags([-1, 1, 1], [0, 1, -Nphi+1], shape=(Nphi, Nphi)).todense()))\n",
    "partial_phi_bk = torch.kron(eye_Ntheta, torch.tensor(sps.diags([1, -1, -1], [0, -1, Nphi-1], shape=(Nphi, Nphi)).todense()))\n",
    "partial_theta_fd = torch.kron(eye_Nphi, torch.tensor(sps.diags([-1, 1, 1], [0, 1, -Ntheta+1], shape=(Ntheta, Ntheta)).todense()))\n",
    "partial_theta_bk =torch.kron(eye_Nphi, torch.tensor(sps.diags([1, -1, -1], [0, -1, Ntheta-1], shape=(Ntheta, Ntheta)).todense()))\n",
    "\n",
    "\n",
    "phi = np.linspace(0, 2 * np.pi, Nphi)\n",
    "cos_phi = np.cos(phi)\n",
    "cos_phi_m = np.diag(cos_phi)\n",
    "sin_phi_adj = np.sin(phi-phi_ext/2)\n",
    "sin_phi_adj_m = np.diag(sin_phi_adj)\n",
    "phi_m = np.diag(phi)\n",
    "_cos_phi = torch.kron(torch.tensor(cos_phi_m), torch.tensor(eye_Nphi) )\n",
    "_phi = torch.kron(torch.tensor(phi_m), torch.tensor(eye_Nphi) )\n",
    "_sin_phi_adj_m  = torch.kron(torch.tensor(sin_phi_adj_m), torch.tensor(eye_Nphi))\n",
    "\n",
    "theta = np.linspace(0, 2 * np.pi, Ntheta)\n",
    "cos_theta_adj = np.cos(theta-varphi_ext/2)\n",
    "sin_theta = np.sin(theta)\n",
    "cos_theta_adj_m = np.diag(cos_theta_adj)\n",
    "sin_theta_m = np.diag(sin_theta)\n",
    "_cos_theta_adj_m = torch.kron(torch.tensor(cos_theta_adj_m), torch.tensor(eye_Ntheta))\n",
    "_sin_theta_m = torch.kron(torch.tensor(sin_theta_m), torch.tensor(eye_Ntheta))\n",
    "\n",
    "\n",
    "I = torch.kron(torch.tensor(eye_Nphi), torch.tensor(eye_Ntheta))\n",
    "\n",
    "H = -2 * ECj * (partial_phi_fd * partial_phi_bk) \\\n",
    "    + 2 * ECs * (-1* partial_theta_fd**2 +ng**2*I-2*ng*partial_theta_fd)\\\n",
    "    + 2 * ECs * dCj * partial_phi_fd * partial_theta_fd \\\n",
    "    - 2 * EJ * _cos_phi * _cos_theta_adj_m \\\n",
    "    + EL * _phi ** 2 \\\n",
    "    + 2 * EJ * I  \\\n",
    "    + EJ * dEj * _sin_theta_m * _sin_phi_adj_m\n"
   ]
  },
  {
   "cell_type": "code",
   "execution_count": 12,
   "metadata": {},
   "outputs": [
    {
     "name": "stdout",
     "output_type": "stream",
     "text": [
      "tensor(0.0330, dtype=torch.float64)\n",
      "tensor(0.0162, dtype=torch.float64)\n"
     ]
    }
   ],
   "source": [
    "H_h = H + torch.transpose(H, 1,0 )  #NOT SURE IF THIS IS ENTIRLEY TRUE\n",
    "A =xitorch.LinearOperator.m(H_h)\n",
    "xitorch.LinearOperator._getparamnames(A, \"EJ, EJ\")\n",
    "\n",
    "val, vec = xitorch.linalg.symeig(A, 2, method=\"davidson\", max_niter=100, nguess=None, v_init=\"randn\", max_addition=None, min_eps=1e-06, verbose=False)\n",
    "\n",
    "dE = val[1] - val[0]\n",
    "dE.backward()\n",
    "print(EL.grad)\n",
    "print(EJ.grad)"
   ]
  }
 ],
 "metadata": {
  "kernelspec": {
   "display_name": "venv",
   "language": "python",
   "name": "python3"
  },
  "language_info": {
   "codemirror_mode": {
    "name": "ipython",
    "version": 3
   },
   "file_extension": ".py",
   "mimetype": "text/x-python",
   "name": "python",
   "nbconvert_exporter": "python",
   "pygments_lexer": "ipython3",
   "version": "3.9.6"
  },
  "orig_nbformat": 4
 },
 "nbformat": 4,
 "nbformat_minor": 2
}
