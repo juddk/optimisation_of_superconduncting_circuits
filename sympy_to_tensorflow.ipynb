{
 "cells": [
  {
   "cell_type": "code",
   "execution_count": 10,
   "metadata": {},
   "outputs": [],
   "source": [
    "import scqubits as sc\n",
    "import numpy as np"
   ]
  },
  {
   "cell_type": "code",
   "execution_count": 11,
   "metadata": {},
   "outputs": [
    {
     "name": "stdout",
     "output_type": "stream",
     "text": [
      "def my_function(x, y): return 21*torch.pow(x, 2) + 5*x*y\n",
      "1\n",
      "<class 'sympy.core.numbers.One'>\n",
      "x**2\n",
      "<class 'sympy.core.power.Pow'>\n",
      "x\n",
      "<class 'sympy.core.symbol.Symbol'>\n",
      "x*y\n",
      "<class 'sympy.core.mul.Mul'>\n"
     ]
    }
   ],
   "source": [
    "#MANUALLY CREATING TORCH FUNCTION FROM SYMPY\n",
    "# import sympy\n",
    "from sympy import * \n",
    "import torch\n",
    "  \n",
    "x = symbols('x')\n",
    "y = symbols('y')\n",
    "sympy_expression = 5*x*y + 21 * x**2 + 121 * x + 4 \n",
    "\n",
    "coefficient_dict = sympy_expression.as_coefficients_dict()\n",
    "\n",
    "function_constructor = \"\"\n",
    "variables_in_function = []\n",
    "\n",
    "\n",
    "for variable, coeff in coefficient_dict.items():\n",
    "    \n",
    "    variable = str(variable)\n",
    "    \n",
    "    #x*y term\n",
    "    if '*' in variable and not '**' in variable:\n",
    "        function_constructor += \" + \" if len(function_constructor) != 0 else \"\"\n",
    "        function_term = f\"{coeff}\"\n",
    "        for x in variable.split(\"*\"):\n",
    "            if not(x[0] in variables_in_function):\n",
    "                variables_in_function.append(x)\n",
    "            function_term += f\"*{x}\"\n",
    "        function_constructor += function_term\n",
    "    \n",
    "    #exponentiated term\n",
    "    if '**' in variable:\n",
    "        x = variable.split(\"**\")\n",
    "        if not(x[0] in variables_in_function):\n",
    "            variables_in_function.append(x[0])\n",
    "        function_constructor += \" + \" if len(function_constructor) != 0 else \"\"\n",
    "        function_constructor += f\"{coeff}*torch.pow({x[0]}, {x[1]})\"\n",
    "\n",
    "\n",
    "function_in_torch = f\"def my_function({', '.join(variables_in_function)}): return {function_constructor}\"\n",
    "print(function_in_torch)\n",
    "exec(function_in_torch)\n",
    "\n",
    "\n",
    "my_function(torch.tensor(1),torch.tensor(2))\n",
    "\n",
    "for x in coefficient_dict.keys():\n",
    "    print(x)\n",
    "    print(type(x))\n",
    "\n"
   ]
  },
  {
   "cell_type": "code",
   "execution_count": 2,
   "metadata": {},
   "outputs": [
    {
     "ename": "ModuleNotFoundError",
     "evalue": "No module named 'sympy'",
     "output_type": "error",
     "traceback": [
      "\u001b[0;31m---------------------------------------------------------------------------\u001b[0m",
      "\u001b[0;31mModuleNotFoundError\u001b[0m                       Traceback (most recent call last)",
      "Cell \u001b[0;32mIn[2], line 2\u001b[0m\n\u001b[1;32m      1\u001b[0m \u001b[39m#CREATING TENSORFLOW/JAX FUNCTION FROM SYMPY\u001b[39;00m\n\u001b[0;32m----> 2\u001b[0m \u001b[39mimport\u001b[39;00m \u001b[39msympy\u001b[39;00m\n\u001b[1;32m      3\u001b[0m x \u001b[39m=\u001b[39m symbols(\u001b[39m'\u001b[39m\u001b[39mx\u001b[39m\u001b[39m'\u001b[39m)\n\u001b[1;32m      4\u001b[0m y \u001b[39m=\u001b[39m symbols(\u001b[39m'\u001b[39m\u001b[39my\u001b[39m\u001b[39m'\u001b[39m)\n",
      "\u001b[0;31mModuleNotFoundError\u001b[0m: No module named 'sympy'"
     ]
    }
   ],
   "source": [
    "#CREATING TENSORFLOW/JAX FUNCTION FROM SYMPY EXPRESSION\n",
    "\n",
    "import tensorflow as tf\n",
    "import sympy\n",
    "\n",
    "x = symbols('x')\n",
    "y = symbols('y')\n",
    "sympy_expression = 5*x*y + 21 * x**2 + 121 * x + 4 \n",
    "\n",
    "f = lambdify((x,y), sympy_expression, 'tensorflow')\n",
    "x = tf.Variable(1.0)\n",
    "y = tf.Variable(2.0)\n",
    "print(f(x,y))"
   ]
  },
  {
   "cell_type": "code",
   "execution_count": 8,
   "metadata": {},
   "outputs": [
    {
     "ename": "AttributeError",
     "evalue": "module 'tensorflow' has no attribute 'Variable'",
     "output_type": "error",
     "traceback": [
      "\u001b[0;31m---------------------------------------------------------------------------\u001b[0m",
      "\u001b[0;31mAttributeError\u001b[0m                            Traceback (most recent call last)",
      "Cell \u001b[0;32mIn[8], line 5\u001b[0m\n\u001b[1;32m      1\u001b[0m \u001b[39mimport\u001b[39;00m \u001b[39mnumpy\u001b[39;00m \u001b[39mas\u001b[39;00m \u001b[39mnp\u001b[39;00m\n\u001b[1;32m      3\u001b[0m \u001b[39mimport\u001b[39;00m \u001b[39mtensorflow\u001b[39;00m \u001b[39mas\u001b[39;00m \u001b[39mtf\u001b[39;00m\n\u001b[0;32m----> 5\u001b[0m x \u001b[39m=\u001b[39m tf\u001b[39m.\u001b[39;49mVariable(\u001b[39m3.0\u001b[39m)\n\u001b[1;32m      7\u001b[0m \u001b[39mwith\u001b[39;00m tf\u001b[39m.\u001b[39mGradientTape() \u001b[39mas\u001b[39;00m tape:\n\u001b[1;32m      8\u001b[0m   y \u001b[39m=\u001b[39m x\u001b[39m*\u001b[39m\u001b[39m*\u001b[39m\u001b[39m2\u001b[39m\n",
      "\u001b[0;31mAttributeError\u001b[0m: module 'tensorflow' has no attribute 'Variable'"
     ]
    }
   ],
   "source": [
    "#TESTING IF TENSORFLOW IS INSTALLED AND WORKING\n",
    "import numpy as np\n",
    "\n",
    "import tensorflow as tf\n",
    "\n",
    "x = tf.Variable(3.0)\n",
    "\n",
    "with tf.GradientTape() as tape:\n",
    "  y = x**2\n",
    "\n",
    "dy_dx = tape.gradient(y, x)\n",
    "dy_dx.numpy()\n",
    "\n",
    "w = tf.Variable(tf.random.normal((3, 2)), name='w')\n",
    "b = tf.Variable(tf.zeros(2, dtype=tf.float32), name='b')\n",
    "x = [[1., 2., 3.]]\n",
    "\n",
    "with tf.GradientTape(persistent=True) as tape:\n",
    "  y = x @ w + b\n",
    "  loss = tf.reduce_mean(y**2)\n",
    "\n",
    "[dl_dw, dl_db] = tape.gradient(loss, [w, b])\n",
    "\n",
    "print(w.shape)\n",
    "print(dl_dw.shape)"
   ]
  }
 ],
 "metadata": {
  "kernelspec": {
   "display_name": "venv",
   "language": "python",
   "name": "python3"
  },
  "language_info": {
   "codemirror_mode": {
    "name": "ipython",
    "version": 3
   },
   "file_extension": ".py",
   "mimetype": "text/x-python",
   "name": "python",
   "nbconvert_exporter": "python",
   "pygments_lexer": "ipython3",
   "version": "3.8.6"
  },
  "orig_nbformat": 4
 },
 "nbformat": 4,
 "nbformat_minor": 2
}
