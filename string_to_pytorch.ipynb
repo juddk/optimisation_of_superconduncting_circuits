{
 "cells": [
  {
   "cell_type": "code",
   "execution_count": 26,
   "metadata": {},
   "outputs": [],
   "source": [
    "\n",
    "import scqubits as sc\n",
    "import numpy as np\n",
    "import sympy as syp\n",
    "\n",
    "zp_yaml = \"\"\"# zero-pi\n",
    "branches:\n",
    "- [\"JJ\", 1,2, EJ1 = 10, EC1=20]\n",
    "- [\"JJ\", 3,4, EJ1, EC1]\n",
    "- [\"L\", 2,3, EL=0.009]\n",
    "- [\"L\", 4,1, EL]\n",
    "- [\"C\", 1,3,EC=0.2]\n",
    "- [\"C\", 2,4, EC]\n",
    "\"\"\"\n",
    "\n",
    "zeropi_circuit = sc.Circuit(zp_yaml, from_file=False)\n",
    "\n",
    "a = zeropi_circuit.sym_lagrangian(return_expr=True)\n",
    "\n",
    "import sympy as sp\n",
    "import torch\n",
    "\n",
    "def sympy_to_pytorch(expr, variables):\n",
    "    \"\"\"Converts a sympy expression into a PyTorch-compatible lambda function.\n",
    "    \n",
    "    Args:\n",
    "    expr (sympy.core.expr.Expr): The sympy expression to convert.\n",
    "    variables (list of sympy.symbols.Symbol): The symbols in the expression.\n",
    "    \n",
    "    Returns:\n",
    "    function: A lambda function that can be used with PyTorch.\n",
    "    \"\"\"\n",
    "    # Convert sympy expression to a lambda function\n",
    "    f = syp.lambdify(variables, expr, 'numpy')\n",
    "    \n",
    "    # Convert numpy function to PyTorch\n",
    "    return lambda *args: torch.from_numpy(f(*map(lambda arg: arg.detach().numpy(), args)))\n",
    "\n",
    "#This script will first convert the sympy expression to a numpy function using sympy's lambdify. \n",
    "# This function can then be converted to a PyTorch function by wrapping it in a lambda that \n",
    "# converts its arguments from PyTorch tensors to numpy arrays, applies the function, and then \n",
    "# converts the result back to a PyTorch tensor.\n"
   ]
  },
  {
   "cell_type": "code",
   "execution_count": 27,
   "metadata": {},
   "outputs": [
    {
     "data": {
      "text/plain": [
       "(0.5*\\dot{φ_1}*(\\dot{φ_1}*(C1 + C2) - C1*\\dot{φ_2} - C2*\\dot{φ_3}) + 0.5*\\dot{φ_2}*(\\dot{φ_2}*(C1 + C2) - C1*\\dot{φ_1} - C2*\\dot{φ_4}) + 0.5*\\dot{φ_3}*(\\dot{φ_3}*(C1 + C2) - C1*\\dot{φ_4} - C2*\\dot{φ_1}) + 0.5*\\dot{φ_4}*(\\dot{φ_4}*(C1 + C2) - C1*\\dot{φ_3} - C2*\\dot{φ_2})) + (EJ1*cos(φ1 - φ2) + EJ1*cos((2πΦ_{1}) + φ4 - φ3) - 0.5*EL*(φ1 - φ4)**2 - 0.5*EL*(φ3 - φ2)**2)"
      ]
     },
     "execution_count": 27,
     "metadata": {},
     "output_type": "execute_result"
    }
   ],
   "source": [
    "a "
   ]
  },
  {
   "cell_type": "code",
   "execution_count": 28,
   "metadata": {},
   "outputs": [
    {
     "ename": "SyntaxError",
     "evalue": "unexpected character after line continuation character (<lambdifygenerated-1>, line 2)",
     "output_type": "error",
     "traceback": [
      "Traceback \u001b[0;36m(most recent call last)\u001b[0m:\n",
      "\u001b[0m  File \u001b[1;32m~/Documents/optimisation_of_superconduncting_circuits/venv/lib/python3.8/site-packages/IPython/core/interactiveshell.py:3508\u001b[0m in \u001b[1;35mrun_code\u001b[0m\n    exec(code_obj, self.user_global_ns, self.user_ns)\u001b[0m\n",
      "\u001b[0m  Cell \u001b[1;32mIn[28], line 2\u001b[0m\n    sympy_to_pytorch(a, (EJ1, EC1, EC, EL ))\u001b[0m\n",
      "\u001b[0m  Cell \u001b[1;32mIn[26], line 33\u001b[0m in \u001b[1;35msympy_to_pytorch\u001b[0m\n    f = syp.lambdify(variables, expr, 'numpy')\u001b[0m\n",
      "\u001b[0;36m  File \u001b[0;32m~/Documents/optimisation_of_superconduncting_circuits/venv/lib/python3.8/site-packages/sympy/utilities/lambdify.py:903\u001b[0;36m in \u001b[0;35mlambdify\u001b[0;36m\n\u001b[0;31m    c = compile(funcstr, filename, 'exec')\u001b[0;36m\n",
      "\u001b[0;36m  File \u001b[0;32m<lambdifygenerated-1>:2\u001b[0;36m\u001b[0m\n\u001b[0;31m    return (0.5*\\dotφ_1*(\\dotφ_1*(C1 + C2) - C1*\\dotφ_2 - C2*\\dotφ_3) + 0.5*\\dotφ_2*(\\dotφ_2*(C1 + C2) - C1*\\dotφ_1 - C2*\\dotφ_4) + 0.5*\\dotφ_3*(\\dotφ_3*(C1 + C2) - C1*\\dotφ_4 - C2*\\dotφ_1) + 0.5*\\dotφ_4*(\\dotφ_4*(C1 + C2) - C1*\\dotφ_3 - C2*\\dotφ_2)) + (EJ1*cos(φ1 - φ2) + EJ1*cos((2πΦ_1) + φ4 - φ3) - 0.5*EL*(φ1 - φ4)**2 - 0.5*EL*(φ3 - φ2)**2)\u001b[0m\n\u001b[0m                                                                                                                                                                                                                                                                                                                                                        ^\u001b[0m\n\u001b[0;31mSyntaxError\u001b[0m\u001b[0;31m:\u001b[0m unexpected character after line continuation character\n"
     ]
    }
   ],
   "source": [
    "EJ1, EC1, EC, EL  = syp.symbols('EJ1 EC1 EC EL ')\n",
    "sympy_to_pytorch(a, (EJ1, EC1, EC, EL ))"
   ]
  }
 ],
 "metadata": {
  "kernelspec": {
   "display_name": "venv",
   "language": "python",
   "name": "python3"
  },
  "language_info": {
   "codemirror_mode": {
    "name": "ipython",
    "version": 3
   },
   "file_extension": ".py",
   "mimetype": "text/x-python",
   "name": "python",
   "nbconvert_exporter": "python",
   "pygments_lexer": "ipython3",
   "version": "3.8.6"
  },
  "orig_nbformat": 4
 },
 "nbformat": 4,
 "nbformat_minor": 2
}
