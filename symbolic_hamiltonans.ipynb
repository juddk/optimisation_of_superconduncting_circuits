{
 "cells": [
  {
   "cell_type": "code",
   "execution_count": 1,
   "metadata": {},
   "outputs": [
    {
     "name": "stdout",
     "output_type": "stream",
     "text": [
      "Symbolic Hamiltonian\n"
     ]
    },
    {
     "data": {
      "text/latex": [
       "$ \\left(0.416501 n_{1}^{2} + 0.416501 n_{g1}^{2} + 0.104284 Q_{2}^{2} + 48.01666 Q_{3}^{2} + 0.833003 n_{1} n_{g1} + 0.166601 Q_{3} n_{1} + 0.166601 Q_{3} n_{g1} - 0.075367 Q_{2} Q_{3} - 0.376835 Q_{2} n_{1} - 0.376835 Q_{2} n_{g1}\\right) + \\left(- EJ_{1} \\cos{\\left(θ_{1} - 1.0 θ_{3} \\right)} - EJ_{2} \\cos{\\left(θ_{1} + θ_{3} - (2πΦ_{1}) \\right)} + 0.5 L_{1} θ_{3}^{2} + 0.5 L_{2} θ_{3}^{2} + 2.0 L_{1} θ_{2}^{2} + 2.0 L_{2} θ_{2}^{2} + 2.0 L_{1} θ_{2} θ_{3} - 2.0 L_{2} θ_{2} θ_{3}\\right) $"
      ],
      "text/plain": [
       "<IPython.core.display.Latex object>"
      ]
     },
     "metadata": {},
     "output_type": "display_data"
    },
    {
     "name": "stdout",
     "output_type": "stream",
     "text": [
      "Symbolic Hamiltonian as SymPy Expression\n",
      "(-EJ1*cos(θ1 - 1.0*θ3) - EJ2*cos(-(2πΦ_{1}) + θ1 + θ3) + 2.0*L1*θ2**2 + 2.0*L1*θ2*θ3 + 0.5*L1*θ3**2 + 2.0*L2*θ2**2 - 2.0*L2*θ2*θ3 + 0.5*L2*θ3**2) + (0.104284*Q2**2 - 0.075367*Q2*Q3 - 0.376835*Q2*n1 - 0.376835*Q2*n_g1 + 48.01666*Q3**2 + 0.166601*Q3*n1 + 0.166601*Q3*n_g1 + 0.416501*n1**2 + 0.833003*n1*n_g1 + 0.416501*n_g1**2)\n",
      "Symbolic Hamiltonian as coefficient dict\n",
      "defaultdict(<class 'int'>, {0.104284*Q2**2 - 0.075367*Q2*Q3 - 0.376835*Q2*n1 - 0.376835*Q2*n_g1 + 48.01666*Q3**2 + 0.166601*Q3*n1 + 0.166601*Q3*n_g1 + 0.416501*n1**2 + 0.833003*n1*n_g1 + 0.416501*n_g1**2: 1, -EJ1*cos(θ1 - 1.0*θ3) - EJ2*cos(-(2πΦ_{1}) + θ1 + θ3) + 2.0*L1*θ2**2 + 2.0*L1*θ2*θ3 + 0.5*L1*θ3**2 + 2.0*L2*θ2**2 - 2.0*L2*θ2*θ3 + 0.5*L2*θ3**2: 1})\n"
     ]
    }
   ],
   "source": [
    "from sympy import symbols, lambdify, Expr\n",
    "import torch\n",
    "import numpy as np\n",
    "import scqubits as sc\n",
    "\n",
    "\n",
    "zp_yaml = \"\"\"# zero-pi\n",
    "branches:\n",
    "- [\"JJ\", 1,2, EJ1 = 10, EC1 = 20]\n",
    "- [\"JJ\", 3,4, EJ2=5, EC2 = 30]\n",
    "- [\"L\", 2,3, L1 = 0.008]\n",
    "- [\"L\", 4,1, L2=0.1]\n",
    "- [\"C\", 1,3, C1 = 0.02]\n",
    "- [\"C\", 2,4, C2 = 0.4]\n",
    "\"\"\"\n",
    "\n",
    "zp = sc.Circuit(zp_yaml, from_file=False)\n",
    "\n",
    "print('Symbolic Hamiltonian')\n",
    "zp.sym_hamiltonian()\n",
    "\n",
    "print('Symbolic Hamiltonian as SymPy Expression')\n",
    "x = zp.sym_hamiltonian(return_expr = True)\n",
    "print(x)\n",
    "\n",
    "print('Symbolic Hamiltonian as coefficient dict')\n",
    "y = x.as_coefficients_dict()\n",
    "print(y)\n",
    "\n",
    "\n",
    "expr = zp.sym_hamiltonian(return_expr = True)\n",
    "variables = sorted(expr.free_symbols, key=lambda x: x.sort_key())\n"
   ]
  },
  {
   "cell_type": "code",
   "execution_count": 2,
   "metadata": {},
   "outputs": [
    {
     "name": "stdout",
     "output_type": "stream",
     "text": [
      "Symbolic Hamiltonian\n"
     ]
    },
    {
     "data": {
      "text/latex": [
       "$ \\left(4.0 EC n_{1}^{2} + 4.0 EC n_{g1}^{2} + 8.0 EC n_{1} n_{g1}\\right) - EJ \\cos{\\left(θ_{1} \\right)} $"
      ],
      "text/plain": [
       "<IPython.core.display.Latex object>"
      ]
     },
     "metadata": {},
     "output_type": "display_data"
    },
    {
     "name": "stdout",
     "output_type": "stream",
     "text": [
      "Symbolic Hamiltonian as SymPy Expression\n",
      "-EJ*cos(θ1) + (4.0*EC*n1**2 + 8.0*EC*n1*n_g1 + 4.0*EC*n_g1**2)\n",
      "Symbolic Hamiltonian as coefficient dict\n",
      "defaultdict(<class 'int'>, {4.0*EC*n1**2 + 8.0*EC*n1*n_g1 + 4.0*EC*n_g1**2: 1, EJ*cos(θ1): -1})\n"
     ]
    }
   ],
   "source": [
    "fluxonium_yaml = \"\"\"# zero-pi\n",
    "branches:\n",
    "- [\"JJ\", 1,2, EJ = 10, EC = 3]\n",
    "- [\"L\", 2,3, EL = 1]\n",
    "\"\"\"\n",
    "\n",
    "fluxonium = sc.Circuit(fluxonium_yaml, from_file=False)\n",
    "\n",
    "print('Symbolic Hamiltonian')\n",
    "fluxonium.sym_hamiltonian()\n",
    "\n",
    "print('Symbolic Hamiltonian as SymPy Expression')\n",
    "x = fluxonium.sym_hamiltonian(return_expr = True)\n",
    "print(x)\n",
    "\n",
    "print('Symbolic Hamiltonian as coefficient dict')\n",
    "y = x.as_coefficients_dict()\n",
    "print(y)\n"
   ]
  }
 ],
 "metadata": {
  "kernelspec": {
   "display_name": "venv",
   "language": "python",
   "name": "python3"
  },
  "language_info": {
   "codemirror_mode": {
    "name": "ipython",
    "version": 3
   },
   "file_extension": ".py",
   "mimetype": "text/x-python",
   "name": "python",
   "nbconvert_exporter": "python",
   "pygments_lexer": "ipython3",
   "version": "3.8.6"
  },
  "orig_nbformat": 4
 },
 "nbformat": 4,
 "nbformat_minor": 2
}
