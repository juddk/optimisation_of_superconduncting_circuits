{
 "cells": [
  {
   "cell_type": "markdown",
   "metadata": {
    "collapsed": true,
    "pycharm": {
     "name": "#%% md\n"
    }
   },
   "source": [
    "We use discretization for a cos potential, and take automatic differentiation with respect to input.\n",
    "\n",
    "The Hamiltonian is\n",
    "\n",
    "$$H = -\\frac{1}{2m}\\frac{d^2}{d\\phi^2}+E_J \\cos(\\phi)$$\n",
    "\n",
    "We discretize the space, calculate the lowest eigenenergies and define\n",
    "\n",
    "$\\Delta E=E_1 - E_0$\n",
    "\n",
    "Finally we fetch $\\frac{\\partial \\Delta E}{\\partial E_j}$ through automatic differentiation."
   ]
  },
  {
   "cell_type": "code",
   "execution_count": 2,
   "metadata": {
    "collapsed": false,
    "pycharm": {
     "name": "#%%imports\n"
    }
   },
   "outputs": [],
   "source": [
    "import numpy as np\n",
    "import jax\n",
    "from matplotlib import pyplot as plt\n",
    "import scipy.sparse as sps\n",
    "from discretization_attempts.dom import DOM\n",
    "import jax.numpy as jnp\n",
    "from jax import grad, jit, vmap\n",
    "from jax import random\n",
    "from jax.experimental import sparse\n",
    "key = random.PRNGKey(0)\n",
    "import xitorch"
   ]
  },
  {
   "cell_type": "code",
   "execution_count": null,
   "metadata": {},
   "outputs": [],
   "source": [
    "import torch\n",
    "from jax import grad\n",
    "import jax.numpy as jnp\n",
    "\n",
    "\n",
    "# Create a PyTorch tensor\n",
    "torch_tensor = torch.tensor([1, 2, 3, 4, 5.])\n",
    "\n",
    "# Convert PyTorch tensor to JAX array\n",
    "jax_array = jnp.array(torch_tensor.numpy())\n",
    "\n",
    "print(jax_array)\n"
   ]
  },
  {
   "cell_type": "code",
   "execution_count": 3,
   "metadata": {
    "collapsed": false,
    "pycharm": {
     "name": "#%%\n"
    }
   },
   "outputs": [],
   "source": [
    "# input parameters\n",
    "\n",
    "num_dscr = 1000  # discretization number\n",
    "ej = 3.\n",
    "m_eff = 0.2\n",
    "\n"
   ]
  },
  {
   "cell_type": "code",
   "execution_count": 5,
   "metadata": {
    "collapsed": false,
    "pycharm": {
     "name": "#%%\n"
    }
   },
   "outputs": [
    {
     "data": {
      "text/plain": [
       "Array([[[ 8.       , -2.5      ,  0.       , ...,  0.       ,\n",
       "          0.       , -2.5      ],\n",
       "        [-2.5      ,  7.999941 , -2.5      , ...,  0.       ,\n",
       "          0.       ,  0.       ],\n",
       "        [ 0.       , -2.5      ,  7.9997625, ...,  0.       ,\n",
       "          0.       ,  0.       ],\n",
       "        ...,\n",
       "        [ 0.       ,  0.       ,  0.       , ...,  7.9997625,\n",
       "         -2.5      ,  0.       ],\n",
       "        [ 0.       ,  0.       ,  0.       , ..., -2.5      ,\n",
       "          7.999941 , -2.5      ],\n",
       "        [-2.5      ,  0.       ,  0.       , ...,  0.       ,\n",
       "         -2.5      ,  8.       ]]], dtype=float32)"
      ]
     },
     "execution_count": 5,
     "metadata": {},
     "output_type": "execute_result"
    }
   ],
   "source": [
    "# building hamiltonian\n",
    "\n",
    "_ej = jnp.array([ej])\n",
    "d = DOM(Nx=num_dscr)\n",
    "\n",
    "phi = np.linspace(0, 2 * np.pi, num_dscr)\n",
    "cos_phi = np.cos(phi)\n",
    "cos_phi_m = np.diag(cos_phi)\n",
    "_cos_phi = jnp.array([cos_phi_m])\n",
    "\n",
    "dx2 = (d.pxf * d.pxb).toarray()\n",
    "kin = jnp.array([- dx2]) / 2. / m_eff\n",
    "\n",
    "# poten = _ej * torch.square(_phi)\n",
    "poten = _ej * _cos_phi\n",
    "\n",
    "ham = kin + poten\n",
    "ham\n"
   ]
  },
  {
   "cell_type": "code",
   "execution_count": 7,
   "metadata": {
    "collapsed": false,
    "pycharm": {
     "name": "#%%\n"
    }
   },
   "outputs": [
    {
     "ename": "TypeError",
     "evalue": "lobpcg_standard() missing 1 required positional argument: 'X'",
     "output_type": "error",
     "traceback": [
      "\u001b[0;31m---------------------------------------------------------------------------\u001b[0m",
      "\u001b[0;31mTypeError\u001b[0m                                 Traceback (most recent call last)",
      "Cell \u001b[0;32mIn[7], line 3\u001b[0m\n\u001b[1;32m      1\u001b[0m \u001b[39m# solve Hamiltonian\u001b[39;00m\n\u001b[0;32m----> 3\u001b[0m w, v \u001b[39m=\u001b[39m jax\u001b[39m.\u001b[39;49mexperimental\u001b[39m.\u001b[39;49msparse\u001b[39m.\u001b[39;49mlinalg\u001b[39m.\u001b[39;49mlobpcg_standard(ham)\n",
      "\u001b[0;31mTypeError\u001b[0m: lobpcg_standard() missing 1 required positional argument: 'X'"
     ]
    }
   ],
   "source": [
    "# solve Hamiltonian\n",
    "\n",
    "w, v = jax.experimental.sparse.linalg.lobpcg_standard(ham)\n",
    "\n"
   ]
  },
  {
   "cell_type": "code",
   "execution_count": 19,
   "metadata": {
    "collapsed": false,
    "pycharm": {
     "name": "#%%\n"
    }
   },
   "outputs": [],
   "source": [
    "# Define objective\n",
    "\n",
    "# energy difference between first and second state\n",
    "dE = w[1] - w[0]\n"
   ]
  },
  {
   "cell_type": "code",
   "execution_count": 20,
   "metadata": {
    "collapsed": false,
    "pycharm": {
     "name": "#%%\n"
    }
   },
   "outputs": [
    {
     "name": "stdout",
     "output_type": "stream",
     "text": [
      "tensor([0.0792])\n"
     ]
    }
   ],
   "source": [
    "# Get gradient\n",
    "\n",
    "dE.backward()\n",
    "print(_ej.grad)"
   ]
  },
  {
   "cell_type": "code",
   "execution_count": 21,
   "metadata": {
    "collapsed": false,
    "pycharm": {
     "name": "#%%\n"
    }
   },
   "outputs": [
    {
     "data": {
      "text/plain": [
       "Text(0.5, 1.0, 'Potential profile and wave functions')"
      ]
     },
     "execution_count": 21,
     "metadata": {},
     "output_type": "execute_result"
    },
    {
     "data": {
      "image/png": "[encoded data removed]",
      "text/plain": [
       "<Figure size 432x288 with 1 Axes>"
      ]
     },
     "metadata": {
      "needs_background": "light"
     },
     "output_type": "display_data"
    },
    {
     "data": {
      "image/png": "[encoded data removed]",
      "text/plain": [
       "<Figure size 432x288 with 1 Axes>"
      ]
     },
     "metadata": {
      "needs_background": "light"
     },
     "output_type": "display_data"
    }
   ],
   "source": [
    "# plotting\n",
    "\n",
    "plt.figure()\n",
    "plt.plot(wa, 'o')\n",
    "plt.title('Eigen energies')\n",
    "plt.figure()\n",
    "plt.plot(phi, poten.detach().numpy().diagonal())\n",
    "n_eig_plot = 6\n",
    "plt.plot(phi, va[:, :n_eig_plot]+wa[:n_eig_plot][None, :n_eig_plot])\n",
    "plt.title('Potential profile and wave functions')\n",
    "# plt.show()"
   ]
  }
 ],
 "metadata": {
  "kernelspec": {
   "display_name": "Python 3",
   "language": "python",
   "name": "python3"
  },
  "language_info": {
   "codemirror_mode": {
    "name": "ipython",
    "version": 3
   },
   "file_extension": ".py",
   "mimetype": "text/x-python",
   "name": "python",
   "nbconvert_exporter": "python",
   "pygments_lexer": "ipython3",
   "version": "3.9.6"
  }
 },
 "nbformat": 4,
 "nbformat_minor": 0
}
