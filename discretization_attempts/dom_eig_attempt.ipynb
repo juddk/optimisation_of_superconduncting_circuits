{
 "cells": [
  {
   "cell_type": "code",
   "execution_count": null,
   "metadata": {},
   "outputs": [],
   "source": [
    "import DominantSparseEigenAD.symeig as symeig\n",
    "\n",
    "symeig.setDominantSparseSymeig(A, Aadjoint_to_padjoint)\n",
    "dominantsparsesymeig = symeig.DominantSparseSymeig.apply\n",
    "\n",
    "# Usage\n",
    "dominantsparsesymeig(EJ, 1, dim)"
   ]
  }
 ],
 "metadata": {
  "language_info": {
   "name": "python"
  },
  "orig_nbformat": 4
 },
 "nbformat": 4,
 "nbformat_minor": 2
}
