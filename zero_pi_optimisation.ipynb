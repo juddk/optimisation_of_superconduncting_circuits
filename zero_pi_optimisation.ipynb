{
 "cells": [
  {
   "cell_type": "code",
   "execution_count": 18,
   "metadata": {},
   "outputs": [],
   "source": [
    "#import packages\n",
    "import torch\n",
    "import numpy as np\n",
    "import scipy as sp\n",
    "from scipy import sparse\n",
    "from scipy.sparse import dia_matrix\n",
    "import scqubits as sc\n",
    "from zeropi import ZeroPi\n",
    "from typing import Any, Callable, Dict, List, Optional, Tuple, Union, cast\n",
    "import noise\n",
    "\n"
   ]
  },
  {
   "cell_type": "code",
   "execution_count": 19,
   "metadata": {},
   "outputs": [],
   "source": [
    "#scqubit fixed params\n",
    "omega_low = 1e-9 * 2 * np.pi  # Low frequency cutoff. Units: 2pi GHz\n",
    "omega_high = 3 * 2 * np.pi  # High frequency cutoff. Units: 2pi GHz\n",
    "t_exp = 1e4  #Measurement time. Units: ns\n",
    "A_cc = 1e-7 # Critical current noise strength. Units of critical current I_c\n",
    "A_flux = 1e-6   # Flux noise strength. Units: Phi_0\n",
    "M= 400  # Mutual inductance between qubit and a flux line. Units: \\Phi_0 / Ampere\n",
    "R_0 = 50 # Characteristic impedance of a transmission line. Units: ohms\n",
    "T = 0.015 # Typical temperature for a superconducting circuit experiment. Units: K"
   ]
  },
  {
   "cell_type": "code",
   "execution_count": 20,
   "metadata": {},
   "outputs": [],
   "source": [
    "#Computing T2\n",
    "EJ = 0.4\n",
    "EL = 10.0**(-2)\n",
    "ECJ = 0.5\n",
    "EC = 1\n",
    "ECS = 10.0**(-3)\n",
    "dEJ = 0\n",
    "dCJ = 0\n",
    "ng = 0.1\n",
    "flux = 0.23\n",
    "ncut = 30\n",
    "truncated_dim = 10\n",
    "pt_count = 10\n",
    "min_val = -6*np.pi\n",
    "max_val = 6*np.pi\n",
    "\n",
    "\n",
    "qubit = ZeroPi(EJ, EL, ECJ, EC, dEJ, dCJ, ng, flux, ncut, truncated_dim, pt_count, min_val, max_val)"
   ]
  },
  {
   "cell_type": "code",
   "execution_count": 21,
   "metadata": {},
   "outputs": [
    {
     "data": {
      "text/plain": [
       "504047.8312891457"
      ]
     },
     "execution_count": 21,
     "metadata": {},
     "output_type": "execute_result"
    }
   ],
   "source": [
    "#Solve H\n",
    "eigvals,eigvecs = qubit.esys()\n",
    "omega = 2 * np.pi * (eigvals[1]-eigvals[0]) * 1e9\n",
    "\n",
    "#Tphi \n",
    "tphi_1_over_f_cc = noise.tphi(\n",
    "    A_noise = A_cc, \n",
    "    noise_op= qubit.d_hamiltonian_d_EJ(),\n",
    "    eigvals=eigvals, eigvecs=eigvecs, \n",
    "    omega_low = omega_low, \n",
    "    t_exp = t_exp\n",
    "    )\n",
    "\n",
    "tphi_1_over_f_flux=noise.tphi(\n",
    "    A_noise = A_flux, \n",
    "    noise_op= qubit.d_hamiltonian_d_flux(), \n",
    "    eigvals=eigvals, eigvecs=eigvecs,\n",
    "    omega_low = omega_low, \n",
    "    t_exp = t_exp\n",
    "    )\n",
    "\n",
    "#T1\n",
    "t1_inductive = noise.t1(\n",
    "    noise_op=qubit.phi_operator(), \n",
    "    spectral_density=ZeroPi.spectral_density_ind(qubit, T=T), \n",
    "    eigvals=eigvals, eigvecs=eigvecs, EL = EL)\n",
    "\n",
    "t1_flux_bias_line = noise.t1(\n",
    "    noise_op=qubit.d_hamiltonian_d_flux(), \n",
    "    spectral_density=ZeroPi.spectral_density_fbl(qubit, M=M, R_0 = R_0, T=T), \n",
    "    eigvals=eigvals, eigvecs=eigvecs,  EL =None)\n",
    "\n",
    "#t2\n",
    "total_t1_rate = t1_inductive + t1_flux_bias_line\n",
    "total_tphi_rate = tphi_1_over_f_flux+tphi_1_over_f_cc\n",
    "total_t2_rate = total_t1_rate + 0.5*total_tphi_rate\n",
    "total_t2 = 1/total_t2_rate\n",
    "\n",
    "total_t2.item()"
   ]
  },
  {
   "cell_type": "code",
   "execution_count": 22,
   "metadata": {},
   "outputs": [
    {
     "name": "stdout",
     "output_type": "stream",
     "text": [
      "-1000764728.5215592\n",
      "-3.528899117520406e+20\n",
      "-3.474997356534004e-08\n",
      "1.3747485354542732e-06\n"
     ]
    }
   ],
   "source": [
    "#compare my pytorch computations to scqubits\n",
    "phi_grid = sc.Grid1d(min_val=min_val, max_val=max_val, pt_count=pt_count)\n",
    "zeropi = sc.ZeroPi(\n",
    "            grid = phi_grid,\n",
    "            EJ   = EJ,\n",
    "            EL   = EL, \n",
    "            ECJ  = ECJ,\n",
    "            EC   = EC,\n",
    "            ng   = ng,\n",
    "            flux = flux,\n",
    "            ncut = 30, \n",
    "            dEJ = dEJ, \n",
    "            dCJ = dCJ)\n",
    "\n",
    "print(zeropi.t1_inductive() - 1/t1_inductive.item())\n",
    "print(zeropi.t1_flux_bias_line() - 1/t1_flux_bias_line.item())\n",
    "print(zeropi.tphi_1_over_f_cc() - 1/tphi_1_over_f_cc.item())\n",
    "print(zeropi.tphi_1_over_f_flux() - 1/tphi_1_over_f_flux.item())"
   ]
  }
 ],
 "metadata": {
  "kernelspec": {
   "display_name": "venv",
   "language": "python",
   "name": "python3"
  },
  "language_info": {
   "codemirror_mode": {
    "name": "ipython",
    "version": 3
   },
   "file_extension": ".py",
   "mimetype": "text/x-python",
   "name": "python",
   "nbconvert_exporter": "python",
   "pygments_lexer": "ipython3",
   "version": "3.8.6"
  },
  "orig_nbformat": 4
 },
 "nbformat": 4,
 "nbformat_minor": 2
}
